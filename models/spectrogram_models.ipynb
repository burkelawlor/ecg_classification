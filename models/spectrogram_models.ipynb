{
 "cells": [
  {
   "cell_type": "code",
   "execution_count": 38,
   "metadata": {
    "colab": {
     "base_uri": "https://localhost:8080/"
    },
    "id": "c6850345-c133-456a-90c7-b032cc2cf35b",
    "outputId": "1ac7e792-2b5d-480b-e7b1-ce94378dca70"
   },
   "outputs": [
    {
     "name": "stdout",
     "output_type": "stream",
     "text": [
      "Num GPUs Available:  2\n",
      "Device mapping:\n",
      "/job:localhost/replica:0/task:0/device:GPU:0 -> device: 0, name: GeForce RTX 2080 Ti, pci bus id: 0000:62:00.0, compute capability: 7.5\n",
      "/job:localhost/replica:0/task:0/device:GPU:1 -> device: 1, name: GeForce RTX 2080 Ti, pci bus id: 0000:63:00.0, compute capability: 7.5\n",
      "\n"
     ]
    },
    {
     "name": "stderr",
     "output_type": "stream",
     "text": [
      "2022-05-05 00:15:34.421733: I tensorflow/core/common_runtime/gpu/gpu_device.cc:1525] Created device /job:localhost/replica:0/task:0/device:GPU:0 with 9644 MB memory:  -> device: 0, name: GeForce RTX 2080 Ti, pci bus id: 0000:62:00.0, compute capability: 7.5\n",
      "2022-05-05 00:15:34.423277: I tensorflow/core/common_runtime/gpu/gpu_device.cc:1525] Created device /job:localhost/replica:0/task:0/device:GPU:1 with 9644 MB memory:  -> device: 1, name: GeForce RTX 2080 Ti, pci bus id: 0000:63:00.0, compute capability: 7.5\n"
     ]
    }
   ],
   "source": [
    "import pandas as pd\n",
    "import numpy as np\n",
    "import os\n",
    "from scipy import signal\n",
    "from scipy.fft import fftshift\n",
    "from sklearn.metrics import confusion_matrix\n",
    "from sklearn.metrics import accuracy_score\n",
    "from sklearn.metrics import classification_report\n",
    "import matplotlib.pyplot as plt\n",
    "\n",
    "import tensorflow as tf\n",
    "from tensorflow import keras\n",
    "from keras.models import Model\n",
    "from keras.layers import Input\n",
    "from keras.layers import Conv2D\n",
    "from keras.layers import MaxPooling2D\n",
    "from keras.layers.merge import concatenate\n",
    "\n",
    "print(\"Num GPUs Available: \", len(tf.config.list_physical_devices('GPU')))\n",
    "sess = tf.compat.v1.Session(config=tf.compat.v1.ConfigProto(log_device_placement=True))"
   ]
  },
  {
   "cell_type": "markdown",
   "metadata": {
    "id": "8816052e-ce7b-44b0-8e55-1616aa84d8cd"
   },
   "source": [
    "# Test Train Split"
   ]
  },
  {
   "cell_type": "code",
   "execution_count": 3,
   "metadata": {},
   "outputs": [],
   "source": [
    "# Load data from cleaned pickles\n",
    "database = pd.read_pickle('data/database.pkl')\n",
    "ecg_data = pd.read_pickle('data/ecg_data.pkl')\n",
    "\n",
    "# Convert data to arrays\n",
    "X = np.array(ecg_data)\n",
    "Y = np.array(database['subclass'])"
   ]
  },
  {
   "cell_type": "code",
   "execution_count": 6,
   "metadata": {
    "id": "0293b05f-fd68-427a-9b74-3ab423c44809"
   },
   "outputs": [],
   "source": [
    "val_fold  = [8,9]\n",
    "test_fold = [10] \n",
    "\n",
    "train_idx = np.where(np.isin(database['strat_fold'], val_fold+test_fold, invert=True))\n",
    "val_idx = np.where(np.isin(database['strat_fold'], val_fold))\n",
    "test_idx = np.where(np.isin(database['strat_fold'], test_fold))\n",
    "\n",
    "X_train = list(X[train_idx])\n",
    "X_val   = list(X[val_idx])\n",
    "X_test  = list(X[test_idx])\n",
    "Y_train = list(Y[train_idx])\n",
    "Y_val   = list(Y[val_idx])\n",
    "Y_test  = list(Y[test_idx])"
   ]
  },
  {
   "cell_type": "markdown",
   "metadata": {},
   "source": [
    "# Read true labels for predictions"
   ]
  },
  {
   "cell_type": "code",
   "execution_count": 29,
   "metadata": {},
   "outputs": [],
   "source": [
    "path = '/project/GutIntelligenceLab/bwl3xy/ecg'\n",
    "os.chdir(path)"
   ]
  },
  {
   "cell_type": "code",
   "execution_count": 30,
   "metadata": {},
   "outputs": [],
   "source": [
    "# Get true labels\n",
    "test_fold = [10] \n",
    "test_idx = np.where(np.isin(database['strat_fold'], test_fold))\n",
    "y_true  = list(Y[test_idx])"
   ]
  },
  {
   "cell_type": "code",
   "execution_count": 31,
   "metadata": {},
   "outputs": [],
   "source": [
    "label_map = {'NORM': 0, 'MI': 1, 'STTC': 2, 'HYP': 3, 'CD': 4}\n",
    "label_list = list(label_map.keys())"
   ]
  },
  {
   "cell_type": "markdown",
   "metadata": {
    "id": "cTrOT0AsMBPC"
   },
   "source": [
    "# Spectrogram"
   ]
  },
  {
   "cell_type": "code",
   "execution_count": 14,
   "metadata": {},
   "outputs": [],
   "source": [
    "def ecg_to_spec(ecg, nperseg=250, noverlap=50):\n",
    "    n_leads = ecg.shape[0]\n",
    "    spec = []\n",
    "    for i in range(n_leads):\n",
    "        f, t, Sxx = signal.spectrogram(ecg[i,:], nperseg=nperseg, noverlap=noverlap)\n",
    "        spec.append(Sxx)\n",
    "    return np.array(spec)\n",
    "\n",
    "def apply_ecg_to_spec(ecg_array, nperseg=50, noverlap=25):\n",
    "    spec_list = []\n",
    "    for ecg in ecg_array:\n",
    "        spec_list.append(ecg_to_spec(ecg, nperseg, noverlap))\n",
    "    return spec_list"
   ]
  },
  {
   "cell_type": "code",
   "execution_count": 15,
   "metadata": {},
   "outputs": [],
   "source": [
    "X_train_spec = apply_ecg_to_spec(X_train)\n",
    "X_val_spec = apply_ecg_to_spec(X_val)\n",
    "X_test_spec = apply_ecg_to_spec(X_test)"
   ]
  },
  {
   "cell_type": "code",
   "execution_count": 16,
   "metadata": {
    "id": "GG7SHl9TMBwc"
   },
   "outputs": [
    {
     "name": "stderr",
     "output_type": "stream",
     "text": [
      "2022-05-04 23:59:11.286954: I tensorflow/core/common_runtime/gpu/gpu_device.cc:1525] Created device /job:localhost/replica:0/task:0/device:GPU:0 with 9644 MB memory:  -> device: 0, name: GeForce RTX 2080 Ti, pci bus id: 0000:62:00.0, compute capability: 7.5\n",
      "2022-05-04 23:59:11.288451: I tensorflow/core/common_runtime/gpu/gpu_device.cc:1525] Created device /job:localhost/replica:0/task:0/device:GPU:1 with 9644 MB memory:  -> device: 1, name: GeForce RTX 2080 Ti, pci bus id: 0000:63:00.0, compute capability: 7.5\n"
     ]
    }
   ],
   "source": [
    "train_dataset = tf.data.Dataset.from_tensor_slices((X_train_spec, Y_train))\n",
    "val_dataset   = tf.data.Dataset.from_tensor_slices((X_val_spec, Y_val))\n",
    "test_dataset  = tf.data.Dataset.from_tensor_slices((X_test_spec, Y_test))"
   ]
  },
  {
   "cell_type": "code",
   "execution_count": 17,
   "metadata": {
    "id": "PEo5hDBDK-H0"
   },
   "outputs": [],
   "source": [
    "BATCH_SIZE = 32\n",
    "SHUFFLE_BUFFER_SIZE = 100\n",
    "\n",
    "train_dataset = train_dataset.shuffle(SHUFFLE_BUFFER_SIZE).batch(BATCH_SIZE)\n",
    "val_dataset = val_dataset.batch(BATCH_SIZE)\n",
    "test_dataset = test_dataset.batch(1)"
   ]
  },
  {
   "cell_type": "code",
   "execution_count": 22,
   "metadata": {
    "colab": {
     "base_uri": "https://localhost:8080/"
    },
    "id": "BJyVe49LLMNl",
    "outputId": "84a9eae0-7d79-4f9b-baa6-d08adeaede28"
   },
   "outputs": [
    {
     "name": "stdout",
     "output_type": "stream",
     "text": [
      "num_classes = 5\n",
      "input_shape = (12, 26, 39)\n"
     ]
    }
   ],
   "source": [
    "num_classes = len(np.unique(Y))\n",
    "input_shape = X_train_spec[0].shape\n",
    "\n",
    "print('num_classes =', num_classes)\n",
    "print('input_shape =', input_shape)"
   ]
  },
  {
   "cell_type": "markdown",
   "metadata": {
    "id": "7HdopR4hLrSS"
   },
   "source": [
    "## Inception Model 2d"
   ]
  },
  {
   "cell_type": "code",
   "execution_count": 35,
   "metadata": {
    "colab": {
     "base_uri": "https://localhost:8080/"
    },
    "id": "X97XA5DnILT-",
    "outputId": "d5cfa09e-8bba-4102-b7d7-048eaf2d3601"
   },
   "outputs": [
    {
     "name": "stdout",
     "output_type": "stream",
     "text": [
      "Model: \"model_2\"\n",
      "__________________________________________________________________________________________________\n",
      " Layer (type)                   Output Shape         Param #     Connected to                     \n",
      "==================================================================================================\n",
      " input_4 (InputLayer)           [(None, 12, 26, 39)  0           []                               \n",
      "                                ]                                                                 \n",
      "                                                                                                  \n",
      " conv2d_26 (Conv2D)             (None, 12, 26, 96)   3840        ['input_4[0][0]']                \n",
      "                                                                                                  \n",
      " conv2d_28 (Conv2D)             (None, 12, 26, 16)   640         ['input_4[0][0]']                \n",
      "                                                                                                  \n",
      " conv2d_25 (Conv2D)             (None, 12, 26, 64)   2560        ['input_4[0][0]']                \n",
      "                                                                                                  \n",
      " conv2d_27 (Conv2D)             (None, 12, 26, 128)  110720      ['conv2d_26[0][0]']              \n",
      "                                                                                                  \n",
      " conv2d_29 (Conv2D)             (None, 12, 26, 32)   12832       ['conv2d_28[0][0]']              \n",
      "                                                                                                  \n",
      " max_pooling2d_4 (MaxPooling2D)  (None, 12, 26, 39)  0           ['input_4[0][0]']                \n",
      "                                                                                                  \n",
      " batch_normalization_17 (BatchN  (None, 12, 26, 64)  256         ['conv2d_25[0][0]']              \n",
      " ormalization)                                                                                    \n",
      "                                                                                                  \n",
      " batch_normalization_18 (BatchN  (None, 12, 26, 128)  512        ['conv2d_27[0][0]']              \n",
      " ormalization)                                                                                    \n",
      "                                                                                                  \n",
      " batch_normalization_19 (BatchN  (None, 12, 26, 32)  128         ['conv2d_29[0][0]']              \n",
      " ormalization)                                                                                    \n",
      "                                                                                                  \n",
      " conv2d_30 (Conv2D)             (None, 12, 26, 32)   1280        ['max_pooling2d_4[0][0]']        \n",
      "                                                                                                  \n",
      " activation_17 (Activation)     (None, 12, 26, 64)   0           ['batch_normalization_17[0][0]'] \n",
      "                                                                                                  \n",
      " activation_18 (Activation)     (None, 12, 26, 128)  0           ['batch_normalization_18[0][0]'] \n",
      "                                                                                                  \n",
      " activation_19 (Activation)     (None, 12, 26, 32)   0           ['batch_normalization_19[0][0]'] \n",
      "                                                                                                  \n",
      " batch_normalization_20 (BatchN  (None, 12, 26, 32)  128         ['conv2d_30[0][0]']              \n",
      " ormalization)                                                                                    \n",
      "                                                                                                  \n",
      " dropout (Dropout)              (None, 12, 26, 64)   0           ['activation_17[0][0]']          \n",
      "                                                                                                  \n",
      " dropout_1 (Dropout)            (None, 12, 26, 128)  0           ['activation_18[0][0]']          \n",
      "                                                                                                  \n",
      " dropout_2 (Dropout)            (None, 12, 26, 32)   0           ['activation_19[0][0]']          \n",
      "                                                                                                  \n",
      " activation_20 (Activation)     (None, 12, 26, 32)   0           ['batch_normalization_20[0][0]'] \n",
      "                                                                                                  \n",
      " concatenate_4 (Concatenate)    (None, 12, 26, 256)  0           ['dropout[0][0]',                \n",
      "                                                                  'dropout_1[0][0]',              \n",
      "                                                                  'dropout_2[0][0]',              \n",
      "                                                                  'activation_20[0][0]']          \n",
      "                                                                                                  \n",
      " conv2d_32 (Conv2D)             (None, 12, 26, 128)  32896       ['concatenate_4[0][0]']          \n",
      "                                                                                                  \n",
      " conv2d_34 (Conv2D)             (None, 12, 26, 32)   8224        ['concatenate_4[0][0]']          \n",
      "                                                                                                  \n",
      " conv2d_31 (Conv2D)             (None, 12, 26, 128)  32896       ['concatenate_4[0][0]']          \n",
      "                                                                                                  \n",
      " conv2d_33 (Conv2D)             (None, 12, 26, 192)  221376      ['conv2d_32[0][0]']              \n",
      "                                                                                                  \n",
      " conv2d_35 (Conv2D)             (None, 12, 26, 96)   76896       ['conv2d_34[0][0]']              \n",
      "                                                                                                  \n",
      " max_pooling2d_5 (MaxPooling2D)  (None, 12, 26, 256)  0          ['concatenate_4[0][0]']          \n",
      "                                                                                                  \n",
      " batch_normalization_21 (BatchN  (None, 12, 26, 128)  512        ['conv2d_31[0][0]']              \n",
      " ormalization)                                                                                    \n",
      "                                                                                                  \n",
      " batch_normalization_22 (BatchN  (None, 12, 26, 192)  768        ['conv2d_33[0][0]']              \n",
      " ormalization)                                                                                    \n",
      "                                                                                                  \n",
      " batch_normalization_23 (BatchN  (None, 12, 26, 96)  384         ['conv2d_35[0][0]']              \n",
      " ormalization)                                                                                    \n",
      "                                                                                                  \n",
      " conv2d_36 (Conv2D)             (None, 12, 26, 64)   16448       ['max_pooling2d_5[0][0]']        \n",
      "                                                                                                  \n",
      " activation_21 (Activation)     (None, 12, 26, 128)  0           ['batch_normalization_21[0][0]'] \n",
      "                                                                                                  \n",
      " activation_22 (Activation)     (None, 12, 26, 192)  0           ['batch_normalization_22[0][0]'] \n",
      "                                                                                                  \n",
      " activation_23 (Activation)     (None, 12, 26, 96)   0           ['batch_normalization_23[0][0]'] \n",
      "                                                                                                  \n",
      " batch_normalization_24 (BatchN  (None, 12, 26, 64)  256         ['conv2d_36[0][0]']              \n",
      " ormalization)                                                                                    \n",
      "                                                                                                  \n",
      " dropout_3 (Dropout)            (None, 12, 26, 128)  0           ['activation_21[0][0]']          \n",
      "                                                                                                  \n",
      " dropout_4 (Dropout)            (None, 12, 26, 192)  0           ['activation_22[0][0]']          \n",
      "                                                                                                  \n",
      " dropout_5 (Dropout)            (None, 12, 26, 96)   0           ['activation_23[0][0]']          \n",
      "                                                                                                  \n",
      " activation_24 (Activation)     (None, 12, 26, 64)   0           ['batch_normalization_24[0][0]'] \n",
      "                                                                                                  \n",
      " concatenate_5 (Concatenate)    (None, 12, 26, 480)  0           ['dropout_3[0][0]',              \n",
      "                                                                  'dropout_4[0][0]',              \n",
      "                                                                  'dropout_5[0][0]',              \n",
      "                                                                  'activation_24[0][0]']          \n",
      "                                                                                                  \n",
      " flatten_2 (Flatten)            (None, 149760)       0           ['concatenate_5[0][0]']          \n",
      "                                                                                                  \n",
      " dense_2 (Dense)                (None, 5)            748805      ['flatten_2[0][0]']              \n",
      "                                                                                                  \n",
      "==================================================================================================\n",
      "Total params: 1,272,357\n",
      "Trainable params: 1,270,885\n",
      "Non-trainable params: 1,472\n",
      "__________________________________________________________________________________________________\n"
     ]
    }
   ],
   "source": [
    "dropout_rate=0.25\n",
    "\n",
    "def inception2d(layer_in, f1, f2_in, f2_out, f3_in, f3_out, f4_out):\n",
    "    conv1 = Conv2D(f1, (1,1), padding='same')(layer_in)\n",
    "    conv1 = keras.layers.BatchNormalization()(conv1)\n",
    "    conv1 = keras.layers.Activation('relu')(conv1)\n",
    "    conv1 = keras.layers.Dropout(rate=dropout_rate)(conv1)\n",
    "\n",
    "    conv3 = Conv2D(f2_in, (1,1), padding='same', activation='relu')(layer_in)\n",
    "    conv3 = Conv2D(f2_out, (3,3), padding='same')(conv3)\n",
    "    conv3 = keras.layers.BatchNormalization()(conv3)\n",
    "    conv3 = keras.layers.Activation('relu')(conv3)\n",
    "    conv3 = keras.layers.Dropout(rate=dropout_rate)(conv3)\n",
    "\n",
    "    conv5 = Conv2D(f3_in, (1,1), padding='same', activation='relu')(layer_in)\n",
    "    conv5 = Conv2D(f3_out, (5,5), padding='same')(conv5)\n",
    "    conv5 = keras.layers.BatchNormalization()(conv5)\n",
    "    conv5 = keras.layers.Activation('relu')(conv5)\n",
    "    conv5 = keras.layers.Dropout(rate=dropout_rate)(conv5)\n",
    "\n",
    "    pool = MaxPooling2D((3,3), strides=(1,1), padding='same')(layer_in)\n",
    "    pool = Conv2D(f4_out, (1,1), padding='same')(pool)\n",
    "    pool = keras.layers.BatchNormalization()(pool)\n",
    "    pool = keras.layers.Activation('relu')(pool)\n",
    "\n",
    "    layer_out = concatenate([conv1, conv3, conv5, pool], axis=-1)\n",
    "    \n",
    "    return layer_out\n",
    " \n",
    "\n",
    "visible = Input(shape=input_shape)\n",
    "layer = inception2d(visible, 64, 96, 128, 16, 32, 32)\n",
    "layer = inception2d(layer, 128, 128, 192, 32, 96, 64)\n",
    "\n",
    "#flatten activation map\n",
    "#dense layer \n",
    "#sigmoid activation \n",
    "\n",
    "output = keras.layers.Flatten()(layer)\n",
    "out = keras.layers.Dense(num_classes, activation='softmax')(output)\n",
    "model = Model(inputs=visible, outputs=out)\n",
    "model.compile(optimizer='adam', loss='sparse_categorical_crossentropy',\n",
    "              metrics=['accuracy'])\n",
    "model.summary()"
   ]
  },
  {
   "cell_type": "code",
   "execution_count": 36,
   "metadata": {
    "colab": {
     "base_uri": "https://localhost:8080/"
    },
    "id": "vdjz5cT0ITb-",
    "outputId": "a7f9c065-bdc4-4b3b-a39b-1b913d74732b"
   },
   "outputs": [
    {
     "name": "stdout",
     "output_type": "stream",
     "text": [
      "Epoch 1/30\n",
      "463/463 [==============================] - 7s 12ms/step - loss: 2.6109 - accuracy: 0.4874 - val_loss: 1.3435 - val_accuracy: 0.5216\n",
      "Epoch 2/30\n",
      "463/463 [==============================] - 5s 11ms/step - loss: 1.2516 - accuracy: 0.5655 - val_loss: 1.2088 - val_accuracy: 0.5796\n",
      "Epoch 3/30\n",
      "463/463 [==============================] - 5s 11ms/step - loss: 1.0786 - accuracy: 0.5988 - val_loss: 1.1395 - val_accuracy: 0.5753\n",
      "Epoch 4/30\n",
      "463/463 [==============================] - 5s 11ms/step - loss: 1.0120 - accuracy: 0.6244 - val_loss: 1.1868 - val_accuracy: 0.5485\n",
      "Epoch 5/30\n",
      "463/463 [==============================] - 5s 11ms/step - loss: 0.9455 - accuracy: 0.6443 - val_loss: 0.9997 - val_accuracy: 0.6171\n",
      "Epoch 6/30\n",
      "463/463 [==============================] - 5s 11ms/step - loss: 0.9125 - accuracy: 0.6604 - val_loss: 1.0228 - val_accuracy: 0.6060\n",
      "Epoch 7/30\n",
      "463/463 [==============================] - 5s 11ms/step - loss: 0.8716 - accuracy: 0.6769 - val_loss: 0.9918 - val_accuracy: 0.6220\n",
      "Epoch 8/30\n",
      "463/463 [==============================] - 5s 11ms/step - loss: 0.8447 - accuracy: 0.6895 - val_loss: 0.9936 - val_accuracy: 0.6282\n",
      "Epoch 9/30\n",
      "463/463 [==============================] - 5s 11ms/step - loss: 0.8046 - accuracy: 0.7019 - val_loss: 0.9923 - val_accuracy: 0.6317\n",
      "Epoch 10/30\n",
      "463/463 [==============================] - 5s 11ms/step - loss: 0.7705 - accuracy: 0.7126 - val_loss: 0.9834 - val_accuracy: 0.6289\n",
      "Epoch 11/30\n",
      "463/463 [==============================] - 5s 11ms/step - loss: 0.7455 - accuracy: 0.7265 - val_loss: 1.0057 - val_accuracy: 0.6258\n",
      "Epoch 12/30\n",
      "463/463 [==============================] - 5s 11ms/step - loss: 0.7164 - accuracy: 0.7372 - val_loss: 1.0085 - val_accuracy: 0.6312\n",
      "Epoch 13/30\n",
      "463/463 [==============================] - 5s 11ms/step - loss: 0.6948 - accuracy: 0.7421 - val_loss: 0.9738 - val_accuracy: 0.6411\n",
      "Epoch 14/30\n",
      "463/463 [==============================] - 5s 11ms/step - loss: 0.6636 - accuracy: 0.7560 - val_loss: 1.0114 - val_accuracy: 0.6340\n",
      "Epoch 15/30\n",
      "463/463 [==============================] - 5s 11ms/step - loss: 0.6178 - accuracy: 0.7732 - val_loss: 1.0500 - val_accuracy: 0.6274\n",
      "Epoch 16/30\n",
      "463/463 [==============================] - 5s 11ms/step - loss: 0.5900 - accuracy: 0.7852 - val_loss: 1.0341 - val_accuracy: 0.6378\n",
      "Epoch 17/30\n",
      "463/463 [==============================] - 5s 11ms/step - loss: 0.5611 - accuracy: 0.7936 - val_loss: 1.1209 - val_accuracy: 0.6364\n",
      "Epoch 18/30\n",
      "463/463 [==============================] - 5s 11ms/step - loss: 0.5289 - accuracy: 0.8084 - val_loss: 1.0550 - val_accuracy: 0.6300\n",
      "Epoch 19/30\n",
      "463/463 [==============================] - 5s 11ms/step - loss: 0.5108 - accuracy: 0.8171 - val_loss: 1.0951 - val_accuracy: 0.6364\n",
      "Epoch 20/30\n",
      "463/463 [==============================] - 5s 11ms/step - loss: 0.4800 - accuracy: 0.8273 - val_loss: 1.1040 - val_accuracy: 0.6470\n",
      "Epoch 21/30\n",
      "463/463 [==============================] - 5s 11ms/step - loss: 0.4589 - accuracy: 0.8348 - val_loss: 1.1596 - val_accuracy: 0.6362\n",
      "Epoch 22/30\n",
      "463/463 [==============================] - 5s 11ms/step - loss: 0.4293 - accuracy: 0.8452 - val_loss: 1.2198 - val_accuracy: 0.6378\n",
      "Epoch 23/30\n",
      "463/463 [==============================] - 5s 11ms/step - loss: 0.4241 - accuracy: 0.8471 - val_loss: 1.1658 - val_accuracy: 0.6310\n",
      "Epoch 24/30\n",
      "463/463 [==============================] - 5s 11ms/step - loss: 0.3931 - accuracy: 0.8596 - val_loss: 1.2101 - val_accuracy: 0.6456\n",
      "Epoch 25/30\n",
      "463/463 [==============================] - 5s 11ms/step - loss: 0.3752 - accuracy: 0.8624 - val_loss: 1.2218 - val_accuracy: 0.6355\n",
      "Epoch 26/30\n",
      "463/463 [==============================] - 5s 11ms/step - loss: 0.3503 - accuracy: 0.8743 - val_loss: 1.3101 - val_accuracy: 0.6173\n",
      "Epoch 27/30\n",
      "463/463 [==============================] - 5s 11ms/step - loss: 0.3564 - accuracy: 0.8723 - val_loss: 1.3056 - val_accuracy: 0.6272\n",
      "Epoch 28/30\n",
      "463/463 [==============================] - 5s 11ms/step - loss: 0.3270 - accuracy: 0.8861 - val_loss: 1.2941 - val_accuracy: 0.6409\n",
      "Epoch 29/30\n",
      "463/463 [==============================] - 5s 11ms/step - loss: 0.3218 - accuracy: 0.8864 - val_loss: 1.3750 - val_accuracy: 0.6322\n",
      "Epoch 30/30\n",
      "463/463 [==============================] - 5s 11ms/step - loss: 0.2966 - accuracy: 0.8949 - val_loss: 1.3967 - val_accuracy: 0.6409\n",
      "Epoch 1/30\n",
      "463/463 [==============================] - 6s 12ms/step - loss: 0.2999 - accuracy: 0.8941 - val_loss: 1.5500 - val_accuracy: 0.6296 - lr: 0.0010\n",
      "Epoch 2/30\n",
      "463/463 [==============================] - 5s 12ms/step - loss: 0.2849 - accuracy: 0.8973 - val_loss: 1.4098 - val_accuracy: 0.6284 - lr: 0.0010\n",
      "Epoch 3/30\n",
      "463/463 [==============================] - 5s 11ms/step - loss: 0.2721 - accuracy: 0.9037 - val_loss: 1.5442 - val_accuracy: 0.6277 - lr: 0.0010\n",
      "Epoch 4/30\n",
      "463/463 [==============================] - 5s 11ms/step - loss: 0.2603 - accuracy: 0.9089 - val_loss: 1.5995 - val_accuracy: 0.6249 - lr: 0.0010\n",
      "Epoch 5/30\n",
      "463/463 [==============================] - 5s 12ms/step - loss: 0.2510 - accuracy: 0.9105 - val_loss: 1.3644 - val_accuracy: 0.6289 - lr: 0.0010\n",
      "Epoch 6/30\n",
      "463/463 [==============================] - 5s 11ms/step - loss: 0.2556 - accuracy: 0.9110 - val_loss: 1.4475 - val_accuracy: 0.6263 - lr: 0.0010\n",
      "Epoch 7/30\n",
      "463/463 [==============================] - 5s 11ms/step - loss: 0.2330 - accuracy: 0.9178 - val_loss: 1.5686 - val_accuracy: 0.6199 - lr: 0.0010\n",
      "Epoch 8/30\n",
      "463/463 [==============================] - 5s 11ms/step - loss: 0.2364 - accuracy: 0.9155 - val_loss: 1.4830 - val_accuracy: 0.6237 - lr: 0.0010\n",
      "Epoch 9/30\n",
      "463/463 [==============================] - 5s 11ms/step - loss: 0.2098 - accuracy: 0.9249 - val_loss: 1.5199 - val_accuracy: 0.6244 - lr: 0.0010\n",
      "Epoch 10/30\n",
      "463/463 [==============================] - 5s 11ms/step - loss: 0.2247 - accuracy: 0.9249 - val_loss: 1.5808 - val_accuracy: 0.6183 - lr: 0.0010\n",
      "Epoch 11/30\n",
      "463/463 [==============================] - 5s 11ms/step - loss: 0.2185 - accuracy: 0.9235 - val_loss: 1.6015 - val_accuracy: 0.5992 - lr: 0.0010\n",
      "Epoch 12/30\n",
      "463/463 [==============================] - 5s 11ms/step - loss: 0.2052 - accuracy: 0.9289 - val_loss: 1.6238 - val_accuracy: 0.6249 - lr: 0.0010\n",
      "Epoch 13/30\n",
      "463/463 [==============================] - 5s 11ms/step - loss: 0.1977 - accuracy: 0.9330 - val_loss: 1.6830 - val_accuracy: 0.6225 - lr: 0.0010\n",
      "Epoch 14/30\n",
      "463/463 [==============================] - 5s 11ms/step - loss: 0.2108 - accuracy: 0.9289 - val_loss: 1.6311 - val_accuracy: 0.6296 - lr: 0.0010\n",
      "Epoch 15/30\n",
      "463/463 [==============================] - 5s 11ms/step - loss: 0.1888 - accuracy: 0.9345 - val_loss: 1.7272 - val_accuracy: 0.6239 - lr: 0.0010\n",
      "Epoch 16/30\n",
      "463/463 [==============================] - 5s 11ms/step - loss: 0.1917 - accuracy: 0.9348 - val_loss: 1.6529 - val_accuracy: 0.6263 - lr: 0.0010\n",
      "Epoch 17/30\n",
      "463/463 [==============================] - 5s 11ms/step - loss: 0.1733 - accuracy: 0.9408 - val_loss: 1.7544 - val_accuracy: 0.6098 - lr: 0.0010\n",
      "Epoch 18/30\n",
      "463/463 [==============================] - 5s 11ms/step - loss: 0.1799 - accuracy: 0.9393 - val_loss: 1.7972 - val_accuracy: 0.6241 - lr: 0.0010\n",
      "Epoch 19/30\n",
      "463/463 [==============================] - 5s 11ms/step - loss: 0.1768 - accuracy: 0.9396 - val_loss: 1.8680 - val_accuracy: 0.6211 - lr: 0.0010\n",
      "Epoch 20/30\n",
      "463/463 [==============================] - 5s 11ms/step - loss: 0.1773 - accuracy: 0.9394 - val_loss: 1.7581 - val_accuracy: 0.6159 - lr: 0.0010\n",
      "Epoch 21/30\n",
      "463/463 [==============================] - 5s 11ms/step - loss: 0.1790 - accuracy: 0.9424 - val_loss: 1.7761 - val_accuracy: 0.5973 - lr: 0.0010\n",
      "Epoch 22/30\n",
      "463/463 [==============================] - 5s 11ms/step - loss: 0.1704 - accuracy: 0.9433 - val_loss: 1.8419 - val_accuracy: 0.6076 - lr: 0.0010\n",
      "Epoch 23/30\n",
      "463/463 [==============================] - 5s 11ms/step - loss: 0.1668 - accuracy: 0.9433 - val_loss: 1.7430 - val_accuracy: 0.6220 - lr: 0.0010\n",
      "Epoch 24/30\n",
      "463/463 [==============================] - 5s 11ms/step - loss: 0.1621 - accuracy: 0.9449 - val_loss: 1.6698 - val_accuracy: 0.6258 - lr: 0.0010\n",
      "Epoch 25/30\n",
      "463/463 [==============================] - 5s 11ms/step - loss: 0.1515 - accuracy: 0.9482 - val_loss: 1.6509 - val_accuracy: 0.6225 - lr: 0.0010\n",
      "Epoch 26/30\n",
      "463/463 [==============================] - 5s 11ms/step - loss: 0.1151 - accuracy: 0.9605 - val_loss: 1.8188 - val_accuracy: 0.6319 - lr: 5.0000e-04\n",
      "Epoch 27/30\n",
      "463/463 [==============================] - 5s 11ms/step - loss: 0.0894 - accuracy: 0.9686 - val_loss: 1.8728 - val_accuracy: 0.6324 - lr: 5.0000e-04\n",
      "Epoch 28/30\n",
      "463/463 [==============================] - 5s 11ms/step - loss: 0.0788 - accuracy: 0.9743 - val_loss: 1.9741 - val_accuracy: 0.6324 - lr: 5.0000e-04\n",
      "Epoch 29/30\n",
      "463/463 [==============================] - 5s 11ms/step - loss: 0.0815 - accuracy: 0.9732 - val_loss: 2.0091 - val_accuracy: 0.6274 - lr: 5.0000e-04\n",
      "Epoch 30/30\n",
      "463/463 [==============================] - 5s 11ms/step - loss: 0.0736 - accuracy: 0.9745 - val_loss: 1.9800 - val_accuracy: 0.6183 - lr: 5.0000e-04\n"
     ]
    }
   ],
   "source": [
    "epochs=30\n",
    "history = model.fit(train_dataset,\n",
    "                    validation_data = val_dataset,\n",
    "                    epochs = epochs)\n",
    "\n",
    "\n",
    "epochs = 30\n",
    "model_output = 'models/inception_2d.h5'\n",
    "\n",
    "callbacks = [keras.callbacks.ModelCheckpoint(model_output, save_best_only=True, monitor=\"val_loss\"),\n",
    "             keras.callbacks.ReduceLROnPlateau(monitor=\"val_loss\", factor=0.5, patience=20, min_lr=0.0001),\n",
    "             keras.callbacks.EarlyStopping(monitor=\"val_loss\", patience=50, verbose=1),]\n",
    "\n",
    "history = model.fit(train_dataset,\n",
    "                    validation_data=val_dataset,\n",
    "                    epochs=epochs,\n",
    "                    callbacks=callbacks,\n",
    "                    verbose=1)"
   ]
  },
  {
   "cell_type": "code",
   "execution_count": 39,
   "metadata": {},
   "outputs": [
    {
     "data": {
      "image/png": "[encoded data removed]",
      "text/plain": [
       "<Figure size 432x288 with 1 Axes>"
      ]
     },
     "metadata": {
      "needs_background": "light"
     },
     "output_type": "display_data"
    },
    {
     "data": {
      "image/png": "[encoded data removed]",
      "text/plain": [
       "<Figure size 432x288 with 1 Axes>"
      ]
     },
     "metadata": {
      "needs_background": "light"
     },
     "output_type": "display_data"
    }
   ],
   "source": [
    "# summarize history for accuracy\n",
    "plt.plot(history.history['accuracy'])\n",
    "plt.plot(history.history['val_accuracy'])\n",
    "plt.title('model accuracy')\n",
    "plt.ylabel('accuracy')\n",
    "plt.xlabel('epoch')\n",
    "plt.legend(['train', 'test'], loc='upper left')\n",
    "plt.show()\n",
    "\n",
    "# summarize history for loss\n",
    "plt.plot(history.history['loss'])\n",
    "plt.plot(history.history['val_loss'])\n",
    "plt.title('model loss')\n",
    "plt.ylabel('loss')\n",
    "plt.xlabel('epoch')\n",
    "plt.legend(['train', 'test'], loc='upper left')\n",
    "plt.show()"
   ]
  },
  {
   "cell_type": "code",
   "execution_count": 41,
   "metadata": {},
   "outputs": [
    {
     "name": "stdout",
     "output_type": "stream",
     "text": [
      "2138/2138 [==============================] - 5s 2ms/step - loss: 2.2013 - accuracy: 0.6066\n"
     ]
    },
    {
     "data": {
      "text/plain": [
       "[2.2013046741485596, 0.6066417098045349]"
      ]
     },
     "execution_count": 41,
     "metadata": {},
     "output_type": "execute_result"
    }
   ],
   "source": [
    "# model = tf.keras.models.load_model('models/basic_cnn.h5')\n",
    "model.evaluate(test_dataset)"
   ]
  },
  {
   "cell_type": "code",
   "execution_count": 43,
   "metadata": {},
   "outputs": [],
   "source": [
    "y_preds = model.predict(test_dataset)"
   ]
  },
  {
   "cell_type": "code",
   "execution_count": 44,
   "metadata": {},
   "outputs": [
    {
     "data": {
      "text/plain": [
       "array([[9.98262227e-01, 1.38044241e-03, 7.12619208e-09, 1.64385006e-09,\n",
       "        3.57363053e-04],\n",
       "       [9.88497376e-01, 8.72967008e-04, 2.62062240e-04, 5.51578996e-04,\n",
       "        9.81604774e-03],\n",
       "       [9.64801431e-01, 5.71628392e-04, 2.03584705e-06, 1.97158544e-03,\n",
       "        3.26532945e-02],\n",
       "       ...,\n",
       "       [3.56356390e-02, 2.72241533e-01, 3.17761377e-02, 6.32201314e-01,\n",
       "        2.81453449e-02],\n",
       "       [1.10661273e-03, 1.84295404e-05, 1.14027462e-05, 3.76525946e-04,\n",
       "        9.98486996e-01],\n",
       "       [7.87029101e-04, 7.16754377e-01, 1.90654027e-04, 1.17782954e-04,\n",
       "        2.82150120e-01]], dtype=float32)"
      ]
     },
     "execution_count": 44,
     "metadata": {},
     "output_type": "execute_result"
    }
   ],
   "source": [
    "# NEED TO CONVER THIS TO HARD PREDICTIONS TO FEED INTO CLASSIFICATION REPORT\n",
    "\n",
    "y_preds"
   ]
  },
  {
   "cell_type": "code",
   "execution_count": 157,
   "metadata": {},
   "outputs": [
    {
     "data": {
      "text/plain": [
       "0.5944808231992517"
      ]
     },
     "execution_count": 157,
     "metadata": {},
     "output_type": "execute_result"
    }
   ],
   "source": [
    "# Get aggregated predictions\n",
    "y_pred = get_max_preds(preds)\n",
    "accuracy_score(y_true, y_pred)"
   ]
  },
  {
   "cell_type": "code",
   "execution_count": 158,
   "metadata": {},
   "outputs": [
    {
     "name": "stdout",
     "output_type": "stream",
     "text": [
      "              precision    recall  f1-score   support\n",
      "\n",
      "        NORM      0.703     0.936     0.803       921\n",
      "         IMI      0.380     0.420     0.399       207\n",
      "        STTC      0.378     0.541     0.445       181\n",
      "        NST_      0.000     0.000     0.000        46\n",
      "         LVH      0.430     0.490     0.458       100\n",
      "   LAFB/LPFB      0.619     0.148     0.239        88\n",
      "       IRBBB      0.417     0.160     0.231        94\n",
      "        IVCD      0.000     0.000     0.000        36\n",
      "         AMI      0.586     0.337     0.428       193\n",
      "        _AVB      0.000     0.000     0.000        23\n",
      "        ISCA      0.246     0.237     0.241        59\n",
      "        ISCI      0.000     0.000     0.000        18\n",
      "       CRBBB      0.744     0.674     0.707        43\n",
      "       CLBBB      0.867     0.736     0.796        53\n",
      "     RAO/RAE      0.000     0.000     0.000         4\n",
      "         RVH      0.000     0.000     0.000         3\n",
      "        ISC_      0.000     0.000     0.000        47\n",
      "       ILBBB      0.000     0.000     0.000         4\n",
      "         WPW      0.000     0.000     0.000         8\n",
      "     LAO/LAE      0.000     0.000     0.000         4\n",
      "         LMI      0.000     0.000     0.000         4\n",
      "         PMI      0.000     0.000     0.000         2\n",
      "\n",
      "    accuracy                          0.594      2138\n",
      "   macro avg      0.244     0.213     0.216      2138\n",
      "weighted avg      0.531     0.594     0.543      2138\n",
      "\n"
     ]
    }
   ],
   "source": [
    "print(classification_report(y_true, y_pred, digits=3, target_names=label_list, zero_division=0))"
   ]
  }
 ],
 "metadata": {
  "accelerator": "GPU",
  "colab": {
   "collapsed_sections": [],
   "name": "mlh5fy_models.ipynb",
   "provenance": []
  },
  "kernelspec": {
   "display_name": "Tensorflow 2.8.0/Keras Py3.9",
   "language": "python",
   "name": "tensorflow-2.8.0"
  },
  "language_info": {
   "codemirror_mode": {
    "name": "ipython",
    "version": 3
   },
   "file_extension": ".py",
   "mimetype": "text/x-python",
   "name": "python",
   "nbconvert_exporter": "python",
   "pygments_lexer": "ipython3",
   "version": "3.9.10"
  }
 },
 "nbformat": 4,
 "nbformat_minor": 5
}

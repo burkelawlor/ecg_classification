{
 "cells": [
  {
   "cell_type": "code",
   "execution_count": 2,
   "metadata": {},
   "outputs": [
    {
     "name": "stdout",
     "output_type": "stream",
     "text": [
      "Num GPU Available:  2\n"
     ]
    },
    {
     "name": "stderr",
     "output_type": "stream",
     "text": [
      "2022-05-04 21:42:39.217514: I tensorflow/core/platform/cpu_feature_guard.cc:151] This TensorFlow binary is optimized with oneAPI Deep Neural Network Library (oneDNN) to use the following CPU instructions in performance-critical operations:  AVX2 AVX512F FMA\n",
      "To enable them in other operations, rebuild TensorFlow with the appropriate compiler flags.\n"
     ]
    },
    {
     "name": "stdout",
     "output_type": "stream",
     "text": [
      "Device mapping:\n",
      "/job:localhost/replica:0/task:0/device:GPU:0 -> device: 0, name: GeForce RTX 2080 Ti, pci bus id: 0000:62:00.0, compute capability: 7.5\n",
      "/job:localhost/replica:0/task:0/device:GPU:1 -> device: 1, name: GeForce RTX 2080 Ti, pci bus id: 0000:63:00.0, compute capability: 7.5\n",
      "\n"
     ]
    },
    {
     "name": "stderr",
     "output_type": "stream",
     "text": [
      "2022-05-04 21:42:41.792354: I tensorflow/core/common_runtime/gpu/gpu_device.cc:1525] Created device /job:localhost/replica:0/task:0/device:GPU:0 with 9644 MB memory:  -> device: 0, name: GeForce RTX 2080 Ti, pci bus id: 0000:62:00.0, compute capability: 7.5\n",
      "2022-05-04 21:42:41.797600: I tensorflow/core/common_runtime/gpu/gpu_device.cc:1525] Created device /job:localhost/replica:0/task:0/device:GPU:1 with 9644 MB memory:  -> device: 1, name: GeForce RTX 2080 Ti, pci bus id: 0000:63:00.0, compute capability: 7.5\n"
     ]
    }
   ],
   "source": [
    "import pandas as pd\n",
    "import numpy as np\n",
    "import os\n",
    "from sklearn.metrics import confusion_matrix\n",
    "from sklearn.metrics import accuracy_score\n",
    "from sklearn.metrics import classification_report\n",
    "import matplotlib.pyplot as plt\n",
    "import seaborn as sns\n",
    "\n",
    "import tensorflow as tf\n",
    "from tensorflow import keras\n",
    "\n",
    "np.random.seed(42)\n",
    "tf.random.set_seed(42)\n",
    "\n",
    "print(\"Num GPU Available: \", len(tf.config.list_physical_devices('GPU')))\n",
    "sess = tf.compat.v1.Session(config=tf.compat.v1.ConfigProto(log_device_placement=True))"
   ]
  },
  {
   "cell_type": "markdown",
   "metadata": {},
   "source": [
    "# Evalulation Functions and True Labels"
   ]
  },
  {
   "cell_type": "markdown",
   "metadata": {},
   "source": [
    "## Function to aggregate windowed predictions"
   ]
  },
  {
   "cell_type": "code",
   "execution_count": 3,
   "metadata": {},
   "outputs": [],
   "source": [
    "def get_max_preds(preds, window_size=15):\n",
    "    '''\n",
    "    Aggregates every window_size predictions by summing probabilites of each\n",
    "    Returns the class/index with the highest summed prediction\n",
    "    '''\n",
    "    final_preds = []\n",
    "    for i in range(len(preds)//window_size):\n",
    "        aggregated_preds = []\n",
    "        for j in range(window_size):\n",
    "            idx = i*window_size+j                                 # get indices for windows within whole record\n",
    "            aggregated_preds.append(preds[idx])                   # append windows to list\n",
    "        summed_preds = np.sum(np.array(aggregated_preds), axis=0) # sum aggregated predicions\n",
    "        final_preds.append(np.argmax(summed_preds))               # get index of highest prediction and append to list\n",
    "    return final_preds"
   ]
  },
  {
   "cell_type": "markdown",
   "metadata": {},
   "source": [
    "## Read true labels for predictions"
   ]
  },
  {
   "cell_type": "code",
   "execution_count": 32,
   "metadata": {},
   "outputs": [],
   "source": [
    "path = '/project/GutIntelligenceLab/bwl3xy/ecg'\n",
    "os.chdir(path)"
   ]
  },
  {
   "cell_type": "code",
   "execution_count": 33,
   "metadata": {},
   "outputs": [],
   "source": [
    "# Get true labels\n",
    "database = pd.read_pickle('data/database.pkl')\n",
    "Y = np.array(database['subclass'])\n",
    "test_fold = [10] \n",
    "test_idx = np.where(np.isin(database['strat_fold'], test_fold))\n",
    "y_true  = list(Y[test_idx])"
   ]
  },
  {
   "cell_type": "code",
   "execution_count": 35,
   "metadata": {},
   "outputs": [],
   "source": [
    "label_map = {'NORM': 0, 'MI': 1, 'STTC': 2, 'HYP': 3, 'CD': 4}\n",
    "label_list = list(label_map.keys())"
   ]
  },
  {
   "cell_type": "markdown",
   "metadata": {
    "tags": []
   },
   "source": [
    "# Read in data from TFRecords"
   ]
  },
  {
   "cell_type": "code",
   "execution_count": 7,
   "metadata": {},
   "outputs": [],
   "source": [
    "path = '/project/GutIntelligenceLab/bwl3xy/ecg'\n",
    "os.chdir(path)"
   ]
  },
  {
   "cell_type": "code",
   "execution_count": 8,
   "metadata": {},
   "outputs": [],
   "source": [
    "def parse_ecg_tensor_from_TFR(TFRecord):\n",
    "    dataset = (tf.data.TFRecordDataset(TFRecord).map(lambda x: tf.io.parse_tensor(x, tf.double)))\n",
    "    dataset = dataset.map(lambda x: tf.reshape(x, [12,250]))\n",
    "    return dataset\n",
    "\n",
    "def parse_label_from_TFR(TFRecord):\n",
    "    dataset = (tf.data.TFRecordDataset(TFRecord).map(lambda x: tf.io.parse_tensor(x, tf.int64)))\n",
    "    dataset = dataset.map(lambda x: tf.reshape(x, []))\n",
    "    return dataset"
   ]
  },
  {
   "cell_type": "code",
   "execution_count": 9,
   "metadata": {},
   "outputs": [
    {
     "name": "stderr",
     "output_type": "stream",
     "text": [
      "2022-05-04 21:42:48.607031: I tensorflow/core/common_runtime/gpu/gpu_device.cc:1525] Created device /job:localhost/replica:0/task:0/device:GPU:0 with 9644 MB memory:  -> device: 0, name: GeForce RTX 2080 Ti, pci bus id: 0000:62:00.0, compute capability: 7.5\n",
      "2022-05-04 21:42:48.608530: I tensorflow/core/common_runtime/gpu/gpu_device.cc:1525] Created device /job:localhost/replica:0/task:0/device:GPU:1 with 9644 MB memory:  -> device: 1, name: GeForce RTX 2080 Ti, pci bus id: 0000:63:00.0, compute capability: 7.5\n"
     ]
    }
   ],
   "source": [
    "X_train_ds = parse_ecg_tensor_from_TFR('data/X_train.tfrecord')\n",
    "X_val_ds = parse_ecg_tensor_from_TFR('data/X_val.tfrecord')\n",
    "X_test_ds = parse_ecg_tensor_from_TFR('data/X_test.tfrecord')\n",
    "Y_train_ds = parse_label_from_TFR('data/Y_train.tfrecord')\n",
    "Y_val_ds = parse_label_from_TFR('data/Y_val.tfrecord')\n",
    "Y_test_ds = parse_label_from_TFR('data/Y_test.tfrecord')"
   ]
  },
  {
   "cell_type": "code",
   "execution_count": 10,
   "metadata": {},
   "outputs": [],
   "source": [
    "BATCH_SIZE = 256\n",
    "\n",
    "train_ds = tf.data.Dataset.zip((X_train_ds, Y_train_ds)).batch(BATCH_SIZE)\n",
    "val_ds = tf.data.Dataset.zip((X_val_ds, Y_val_ds)).batch(BATCH_SIZE)\n",
    "test_ds = tf.data.Dataset.zip((X_test_ds, Y_test_ds)).batch(1)"
   ]
  },
  {
   "cell_type": "code",
   "execution_count": 15,
   "metadata": {
    "tags": []
   },
   "outputs": [],
   "source": [
    "num_classes = 5\n",
    "input_shape = (12,250)"
   ]
  },
  {
   "cell_type": "markdown",
   "metadata": {
    "tags": []
   },
   "source": [
    "# Model 1: 1D Basic CNN"
   ]
  },
  {
   "cell_type": "code",
   "execution_count": 16,
   "metadata": {
    "tags": []
   },
   "outputs": [
    {
     "name": "stdout",
     "output_type": "stream",
     "text": [
      "Model: \"sequential_1\"\n",
      "_________________________________________________________________\n",
      " Layer (type)                Output Shape              Param #   \n",
      "=================================================================\n",
      " conv1d_3 (Conv1D)           (None, 12, 64)            48064     \n",
      "                                                                 \n",
      " batch_normalization_3 (Batc  (None, 12, 64)           256       \n",
      " hNormalization)                                                 \n",
      "                                                                 \n",
      " re_lu_3 (ReLU)              (None, 12, 64)            0         \n",
      "                                                                 \n",
      " conv1d_4 (Conv1D)           (None, 12, 64)            12352     \n",
      "                                                                 \n",
      " batch_normalization_4 (Batc  (None, 12, 64)           256       \n",
      " hNormalization)                                                 \n",
      "                                                                 \n",
      " re_lu_4 (ReLU)              (None, 12, 64)            0         \n",
      "                                                                 \n",
      " conv1d_5 (Conv1D)           (None, 12, 64)            12352     \n",
      "                                                                 \n",
      " batch_normalization_5 (Batc  (None, 12, 64)           256       \n",
      " hNormalization)                                                 \n",
      "                                                                 \n",
      " re_lu_5 (ReLU)              (None, 12, 64)            0         \n",
      "                                                                 \n",
      " global_average_pooling1d_1   (None, 64)               0         \n",
      " (GlobalAveragePooling1D)                                        \n",
      "                                                                 \n",
      " dense_1 (Dense)             (None, 5)                 325       \n",
      "                                                                 \n",
      "=================================================================\n",
      "Total params: 73,861\n",
      "Trainable params: 73,477\n",
      "Non-trainable params: 384\n",
      "_________________________________________________________________\n"
     ]
    }
   ],
   "source": [
    "model = keras.models.Sequential([\n",
    "    \n",
    "    keras.layers.Conv1D(filters=64, kernel_size=3, padding=\"same\", input_shape=input_shape),\n",
    "    keras.layers.BatchNormalization(),\n",
    "    keras.layers.ReLU(),\n",
    "\n",
    "    keras.layers.Conv1D(filters=64, kernel_size=3, padding=\"same\"),\n",
    "    keras.layers.BatchNormalization(),\n",
    "    keras.layers.ReLU(),\n",
    "\n",
    "    keras.layers.Conv1D(filters=64, kernel_size=3, padding=\"same\"),\n",
    "    keras.layers.BatchNormalization(),\n",
    "    keras.layers.ReLU(),\n",
    "\n",
    "    keras.layers.GlobalAveragePooling1D(),\n",
    "\n",
    "    keras.layers.Dense(num_classes, activation=\"softmax\")\n",
    "])\n",
    "\n",
    "model.build(input_shape)\n",
    "\n",
    "model.summary()"
   ]
  },
  {
   "cell_type": "code",
   "execution_count": 17,
   "metadata": {},
   "outputs": [],
   "source": [
    "model.compile(optimizer='adam',\n",
    "              loss='sparse_categorical_crossentropy',\n",
    "              metrics=['accuracy'])"
   ]
  },
  {
   "cell_type": "code",
   "execution_count": 18,
   "metadata": {
    "tags": []
   },
   "outputs": [
    {
     "name": "stdout",
     "output_type": "stream",
     "text": [
      "Epoch 1/30\n",
      "868/868 [==============================] - 13s 14ms/step - loss: 1.2182 - accuracy: 0.5195 - val_loss: 1.1591 - val_accuracy: 0.5509 - lr: 0.0010\n",
      "Epoch 2/30\n",
      "868/868 [==============================] - 12s 14ms/step - loss: 1.0815 - accuracy: 0.5847 - val_loss: 1.0960 - val_accuracy: 0.5773 - lr: 0.0010\n",
      "Epoch 3/30\n",
      "868/868 [==============================] - 12s 14ms/step - loss: 1.0290 - accuracy: 0.6084 - val_loss: 1.0547 - val_accuracy: 0.5933 - lr: 0.0010\n",
      "Epoch 4/30\n",
      "868/868 [==============================] - 12s 14ms/step - loss: 0.9938 - accuracy: 0.6230 - val_loss: 1.0293 - val_accuracy: 0.6028 - lr: 0.0010\n",
      "Epoch 5/30\n",
      "868/868 [==============================] - 12s 14ms/step - loss: 0.9684 - accuracy: 0.6336 - val_loss: 1.0179 - val_accuracy: 0.6081 - lr: 0.0010\n",
      "Epoch 6/30\n",
      "868/868 [==============================] - 12s 14ms/step - loss: 0.9480 - accuracy: 0.6427 - val_loss: 1.0082 - val_accuracy: 0.6152 - lr: 0.0010\n",
      "Epoch 7/30\n",
      "868/868 [==============================] - 12s 14ms/step - loss: 0.9301 - accuracy: 0.6502 - val_loss: 1.0013 - val_accuracy: 0.6180 - lr: 0.0010\n",
      "Epoch 8/30\n",
      "868/868 [==============================] - 12s 14ms/step - loss: 0.9149 - accuracy: 0.6568 - val_loss: 0.9976 - val_accuracy: 0.6195 - lr: 0.0010\n",
      "Epoch 9/30\n",
      "868/868 [==============================] - 12s 14ms/step - loss: 0.9013 - accuracy: 0.6621 - val_loss: 0.9952 - val_accuracy: 0.6211 - lr: 0.0010\n",
      "Epoch 10/30\n",
      "868/868 [==============================] - 12s 14ms/step - loss: 0.8893 - accuracy: 0.6669 - val_loss: 0.9940 - val_accuracy: 0.6208 - lr: 0.0010\n",
      "Epoch 11/30\n",
      "868/868 [==============================] - 12s 14ms/step - loss: 0.8793 - accuracy: 0.6713 - val_loss: 0.9910 - val_accuracy: 0.6219 - lr: 0.0010\n",
      "Epoch 12/30\n",
      "868/868 [==============================] - 12s 14ms/step - loss: 0.8688 - accuracy: 0.6756 - val_loss: 0.9853 - val_accuracy: 0.6252 - lr: 0.0010\n",
      "Epoch 13/30\n",
      "868/868 [==============================] - 12s 14ms/step - loss: 0.8595 - accuracy: 0.6793 - val_loss: 0.9875 - val_accuracy: 0.6245 - lr: 0.0010\n",
      "Epoch 14/30\n",
      "868/868 [==============================] - 12s 14ms/step - loss: 0.8513 - accuracy: 0.6830 - val_loss: 0.9869 - val_accuracy: 0.6260 - lr: 0.0010\n",
      "Epoch 15/30\n",
      "868/868 [==============================] - 12s 14ms/step - loss: 0.8435 - accuracy: 0.6856 - val_loss: 0.9809 - val_accuracy: 0.6283 - lr: 0.0010\n",
      "Epoch 16/30\n",
      "868/868 [==============================] - 12s 14ms/step - loss: 0.8367 - accuracy: 0.6883 - val_loss: 0.9831 - val_accuracy: 0.6280 - lr: 0.0010\n",
      "Epoch 17/30\n",
      "868/868 [==============================] - 12s 14ms/step - loss: 0.8298 - accuracy: 0.6915 - val_loss: 0.9831 - val_accuracy: 0.6295 - lr: 0.0010\n",
      "Epoch 18/30\n",
      "868/868 [==============================] - 12s 14ms/step - loss: 0.8236 - accuracy: 0.6941 - val_loss: 0.9818 - val_accuracy: 0.6297 - lr: 0.0010\n",
      "Epoch 19/30\n",
      "868/868 [==============================] - 12s 14ms/step - loss: 0.8174 - accuracy: 0.6965 - val_loss: 0.9821 - val_accuracy: 0.6303 - lr: 0.0010\n",
      "Epoch 20/30\n",
      "868/868 [==============================] - 12s 14ms/step - loss: 0.8118 - accuracy: 0.6986 - val_loss: 0.9841 - val_accuracy: 0.6302 - lr: 0.0010\n",
      "Epoch 21/30\n",
      "868/868 [==============================] - 12s 14ms/step - loss: 0.8063 - accuracy: 0.7010 - val_loss: 0.9772 - val_accuracy: 0.6324 - lr: 0.0010\n",
      "Epoch 22/30\n",
      "868/868 [==============================] - 12s 14ms/step - loss: 0.8013 - accuracy: 0.7030 - val_loss: 0.9783 - val_accuracy: 0.6329 - lr: 0.0010\n",
      "Epoch 23/30\n",
      "868/868 [==============================] - 12s 14ms/step - loss: 0.7962 - accuracy: 0.7047 - val_loss: 0.9782 - val_accuracy: 0.6333 - lr: 0.0010\n",
      "Epoch 24/30\n",
      "868/868 [==============================] - 12s 14ms/step - loss: 0.7915 - accuracy: 0.7066 - val_loss: 0.9811 - val_accuracy: 0.6320 - lr: 0.0010\n",
      "Epoch 25/30\n",
      "868/868 [==============================] - 12s 14ms/step - loss: 0.7871 - accuracy: 0.7081 - val_loss: 0.9819 - val_accuracy: 0.6329 - lr: 0.0010\n",
      "Epoch 26/30\n",
      "868/868 [==============================] - 12s 14ms/step - loss: 0.7825 - accuracy: 0.7100 - val_loss: 0.9834 - val_accuracy: 0.6324 - lr: 0.0010\n",
      "Epoch 27/30\n",
      "868/868 [==============================] - 12s 14ms/step - loss: 0.7784 - accuracy: 0.7120 - val_loss: 0.9859 - val_accuracy: 0.6306 - lr: 0.0010\n",
      "Epoch 28/30\n",
      "868/868 [==============================] - 12s 14ms/step - loss: 0.7744 - accuracy: 0.7136 - val_loss: 0.9840 - val_accuracy: 0.6319 - lr: 0.0010\n",
      "Epoch 29/30\n",
      "868/868 [==============================] - 12s 14ms/step - loss: 0.7704 - accuracy: 0.7151 - val_loss: 0.9847 - val_accuracy: 0.6319 - lr: 0.0010\n",
      "Epoch 30/30\n",
      "868/868 [==============================] - 12s 14ms/step - loss: 0.7669 - accuracy: 0.7164 - val_loss: 0.9869 - val_accuracy: 0.6313 - lr: 0.0010\n"
     ]
    }
   ],
   "source": [
    "epochs = 30\n",
    "model_output = 'models/basic_cnn.h5'\n",
    "\n",
    "callbacks = [keras.callbacks.ModelCheckpoint(model_output, save_best_only=True, monitor=\"val_loss\"),\n",
    "             keras.callbacks.ReduceLROnPlateau(monitor=\"val_loss\", factor=0.5, patience=20, min_lr=0.0001),\n",
    "             keras.callbacks.EarlyStopping(monitor=\"val_loss\", patience=50, verbose=1),]\n",
    "\n",
    "history = model.fit(train_ds,\n",
    "                    validation_data=val_ds,\n",
    "                    epochs=epochs,\n",
    "                    callbacks=callbacks,\n",
    "                    verbose=1)"
   ]
  },
  {
   "cell_type": "code",
   "execution_count": 19,
   "metadata": {},
   "outputs": [
    {
     "data": {
      "image/png": "[encoded data removed]",
      "text/plain": [
       "<Figure size 432x288 with 1 Axes>"
      ]
     },
     "metadata": {
      "needs_background": "light"
     },
     "output_type": "display_data"
    },
    {
     "data": {
      "image/png": "[encoded data removed]",
      "text/plain": [
       "<Figure size 432x288 with 1 Axes>"
      ]
     },
     "metadata": {
      "needs_background": "light"
     },
     "output_type": "display_data"
    }
   ],
   "source": [
    "# summarize history for accuracy\n",
    "plt.plot(history.history['accuracy'])\n",
    "plt.plot(history.history['val_accuracy'])\n",
    "plt.title('model accuracy')\n",
    "plt.ylabel('accuracy')\n",
    "plt.xlabel('epoch')\n",
    "plt.legend(['train', 'test'], loc='upper left')\n",
    "plt.show()\n",
    "\n",
    "# summarize history for loss\n",
    "plt.plot(history.history['loss'])\n",
    "plt.plot(history.history['val_loss'])\n",
    "plt.title('model loss')\n",
    "plt.ylabel('loss')\n",
    "plt.xlabel('epoch')\n",
    "plt.legend(['train', 'test'], loc='upper left')\n",
    "plt.show()"
   ]
  },
  {
   "cell_type": "code",
   "execution_count": 20,
   "metadata": {},
   "outputs": [
    {
     "name": "stdout",
     "output_type": "stream",
     "text": [
      "32070/32070 [==============================] - 50s 2ms/step - loss: 1.0166 - accuracy: 0.6236\n"
     ]
    },
    {
     "data": {
      "text/plain": [
       "[1.0165705680847168, 0.6236357688903809]"
      ]
     },
     "execution_count": 20,
     "metadata": {},
     "output_type": "execute_result"
    }
   ],
   "source": [
    "# model = tf.keras.models.load_model('models/basic_cnn.h5')\n",
    "model.evaluate(test_ds)"
   ]
  },
  {
   "cell_type": "code",
   "execution_count": 21,
   "metadata": {},
   "outputs": [],
   "source": [
    "preds = model.predict(test_ds)"
   ]
  },
  {
   "cell_type": "code",
   "execution_count": 27,
   "metadata": {},
   "outputs": [
    {
     "data": {
      "text/plain": [
       "2138"
      ]
     },
     "execution_count": 27,
     "metadata": {},
     "output_type": "execute_result"
    }
   ],
   "source": [
    "len(y_pred)"
   ]
  },
  {
   "cell_type": "code",
   "execution_count": 31,
   "metadata": {},
   "outputs": [
    {
     "data": {
      "text/plain": [
       "array(['CD', 'HYP', 'MI', 'NORM', 'STTC'], dtype='<U4')"
      ]
     },
     "execution_count": 31,
     "metadata": {},
     "output_type": "execute_result"
    }
   ],
   "source": [
    "np.unique(y_true)"
   ]
  },
  {
   "cell_type": "code",
   "execution_count": 36,
   "metadata": {},
   "outputs": [
    {
     "data": {
      "text/plain": [
       "0.6730589335827877"
      ]
     },
     "execution_count": 36,
     "metadata": {},
     "output_type": "execute_result"
    }
   ],
   "source": [
    "# Get aggregated predictions\n",
    "y_pred = get_max_preds(preds)\n",
    "accuracy_score(y_true, y_pred)"
   ]
  },
  {
   "cell_type": "code",
   "execution_count": 37,
   "metadata": {},
   "outputs": [
    {
     "name": "stdout",
     "output_type": "stream",
     "text": [
      "              precision    recall  f1-score   support\n",
      "\n",
      "        NORM      0.753     0.912     0.825       921\n",
      "          MI      0.525     0.589     0.555       406\n",
      "        STTC      0.624     0.587     0.605       351\n",
      "         HYP      0.458     0.396     0.425       111\n",
      "          CD      0.780     0.315     0.449       349\n",
      "\n",
      "    accuracy                          0.673      2138\n",
      "   macro avg      0.628     0.560     0.572      2138\n",
      "weighted avg      0.678     0.673     0.655      2138\n",
      "\n"
     ]
    }
   ],
   "source": [
    "print(classification_report(y_true, y_pred, digits=3, target_names=label_list, zero_division=0))"
   ]
  },
  {
   "cell_type": "markdown",
   "metadata": {
    "tags": []
   },
   "source": [
    "# Model 2: 1D Resnet\n",
    "adapted from: https://github.com/hfawaz/dl-4-tsc/blob/master/classifiers/resnet.py"
   ]
  },
  {
   "cell_type": "markdown",
   "metadata": {
    "tags": []
   },
   "source": [
    "when tuning start with learning rate->mini_batch_size -> momentum-> #hidden_units -> # learning_rate_decay -> #layers "
   ]
  },
  {
   "cell_type": "code",
   "execution_count": 38,
   "metadata": {},
   "outputs": [],
   "source": [
    "def resnet1d(input_shape, nb_classes, dropout_rate=0.25, learning_rate=0.0001):\n",
    "    \n",
    "    n_feature_maps = 64\n",
    "\n",
    "    input_layer = keras.layers.Input(input_shape)\n",
    "\n",
    "    # BLOCK 1\n",
    "    conv_x = keras.layers.Conv1D(filters=n_feature_maps, kernel_size=8, padding='same')(input_layer)\n",
    "    conv_x = keras.layers.BatchNormalization()(conv_x)\n",
    "    conv_x = keras.layers.Activation('relu')(conv_x)\n",
    "\n",
    "    conv_y = keras.layers.Conv1D(filters=n_feature_maps, kernel_size=5, padding='same')(conv_x)\n",
    "    conv_y = keras.layers.BatchNormalization()(conv_y)\n",
    "    conv_y = keras.layers.Activation('relu')(conv_y)\n",
    "\n",
    "    conv_z = keras.layers.Conv1D(filters=n_feature_maps, kernel_size=3, padding='same')(conv_y)\n",
    "    conv_z = keras.layers.BatchNormalization()(conv_z)\n",
    "\n",
    "    # expand channels for the sum\n",
    "    shortcut_y = keras.layers.Conv1D(filters=n_feature_maps, kernel_size=1, padding='same')(input_layer)\n",
    "    shortcut_y = keras.layers.BatchNormalization()(shortcut_y)\n",
    "\n",
    "    output_block_1 = keras.layers.add([shortcut_y, conv_z])\n",
    "    output_block_1 = keras.layers.Activation('relu')(output_block_1)\n",
    "    \n",
    "    output_block_1 = tf.keras.layers.Dropout(rate=dropout_rate)(output_block_1)\n",
    "\n",
    "    \n",
    "    # BLOCK 2\n",
    "    conv_x = keras.layers.Conv1D(filters=n_feature_maps * 2, kernel_size=8, padding='same')(output_block_1)\n",
    "    conv_x = keras.layers.BatchNormalization()(conv_x)\n",
    "    conv_x = keras.layers.Activation('relu')(conv_x)\n",
    "\n",
    "    conv_y = keras.layers.Conv1D(filters=n_feature_maps * 2, kernel_size=5, padding='same')(conv_x)\n",
    "    conv_y = keras.layers.BatchNormalization()(conv_y)\n",
    "    conv_y = keras.layers.Activation('relu')(conv_y)\n",
    "\n",
    "    conv_z = keras.layers.Conv1D(filters=n_feature_maps * 2, kernel_size=3, padding='same')(conv_y)\n",
    "    conv_z = keras.layers.BatchNormalization()(conv_z)\n",
    "\n",
    "    # expand channels for the sum\n",
    "    shortcut_y = keras.layers.Conv1D(filters=n_feature_maps * 2, kernel_size=1, padding='same')(output_block_1)\n",
    "    shortcut_y = keras.layers.BatchNormalization()(shortcut_y)\n",
    "\n",
    "    output_block_2 = keras.layers.add([shortcut_y, conv_z])\n",
    "    output_block_2 = keras.layers.Activation('relu')(output_block_2)\n",
    "    \n",
    "    output_block_2 = tf.keras.layers.Dropout(rate=dropout_rate)(output_block_2)\n",
    "\n",
    "    \n",
    "    # BLOCK 3\n",
    "    conv_x = keras.layers.Conv1D(filters=n_feature_maps * 2, kernel_size=8, padding='same')(output_block_2)\n",
    "    conv_x = keras.layers.BatchNormalization()(conv_x)\n",
    "    conv_x = keras.layers.Activation('relu')(conv_x)\n",
    "\n",
    "    conv_y = keras.layers.Conv1D(filters=n_feature_maps * 2, kernel_size=5, padding='same')(conv_x)\n",
    "    conv_y = keras.layers.BatchNormalization()(conv_y)\n",
    "    conv_y = keras.layers.Activation('relu')(conv_y)\n",
    "\n",
    "    conv_z = keras.layers.Conv1D(filters=n_feature_maps * 2, kernel_size=3, padding='same')(conv_y)\n",
    "    conv_z = keras.layers.BatchNormalization()(conv_z)\n",
    "\n",
    "    # no need to expand channels because they are equal\n",
    "    shortcut_y = keras.layers.BatchNormalization()(output_block_2)\n",
    "\n",
    "    output_block_3 = keras.layers.add([shortcut_y, conv_z])\n",
    "    output_block_3 = keras.layers.Activation('relu')(output_block_3)\n",
    "    \n",
    "    output_block_3 = tf.keras.layers.Dropout(rate=dropout_rate)(output_block_3)\n",
    "\n",
    "    \n",
    "    # FINAL\n",
    "    gap_layer = keras.layers.GlobalAveragePooling1D()(output_block_3)\n",
    "    \n",
    "    # insert droupout layer\n",
    "\n",
    "    output_layer = tf.keras.layers.Dropout(rate=dropout_rate)(gap_layer)\n",
    "    output_layer = keras.layers.Dense(nb_classes, activation='softmax')(output_layer)\n",
    "\n",
    "    model = keras.models.Model(inputs=input_layer, outputs=output_layer)\n",
    "\n",
    "    opt = keras.optimizers.Adam(learning_rate=learning_rate)\n",
    "    model.compile(loss='sparse_categorical_crossentropy',\n",
    "                  metrics=['accuracy'],\n",
    "                  optimizer=opt)\n",
    "\n",
    "\n",
    "    return model"
   ]
  },
  {
   "cell_type": "code",
   "execution_count": 39,
   "metadata": {
    "tags": []
   },
   "outputs": [
    {
     "name": "stdout",
     "output_type": "stream",
     "text": [
      "Model: \"model\"\n",
      "__________________________________________________________________________________________________\n",
      " Layer (type)                   Output Shape         Param #     Connected to                     \n",
      "==================================================================================================\n",
      " input_1 (InputLayer)           [(None, 12, 250)]    0           []                               \n",
      "                                                                                                  \n",
      " conv1d_6 (Conv1D)              (None, 12, 64)       128064      ['input_1[0][0]']                \n",
      "                                                                                                  \n",
      " batch_normalization_6 (BatchNo  (None, 12, 64)      256         ['conv1d_6[0][0]']               \n",
      " rmalization)                                                                                     \n",
      "                                                                                                  \n",
      " activation (Activation)        (None, 12, 64)       0           ['batch_normalization_6[0][0]']  \n",
      "                                                                                                  \n",
      " conv1d_7 (Conv1D)              (None, 12, 64)       20544       ['activation[0][0]']             \n",
      "                                                                                                  \n",
      " batch_normalization_7 (BatchNo  (None, 12, 64)      256         ['conv1d_7[0][0]']               \n",
      " rmalization)                                                                                     \n",
      "                                                                                                  \n",
      " activation_1 (Activation)      (None, 12, 64)       0           ['batch_normalization_7[0][0]']  \n",
      "                                                                                                  \n",
      " conv1d_9 (Conv1D)              (None, 12, 64)       16064       ['input_1[0][0]']                \n",
      "                                                                                                  \n",
      " conv1d_8 (Conv1D)              (None, 12, 64)       12352       ['activation_1[0][0]']           \n",
      "                                                                                                  \n",
      " batch_normalization_9 (BatchNo  (None, 12, 64)      256         ['conv1d_9[0][0]']               \n",
      " rmalization)                                                                                     \n",
      "                                                                                                  \n",
      " batch_normalization_8 (BatchNo  (None, 12, 64)      256         ['conv1d_8[0][0]']               \n",
      " rmalization)                                                                                     \n",
      "                                                                                                  \n",
      " add (Add)                      (None, 12, 64)       0           ['batch_normalization_9[0][0]',  \n",
      "                                                                  'batch_normalization_8[0][0]']  \n",
      "                                                                                                  \n",
      " activation_2 (Activation)      (None, 12, 64)       0           ['add[0][0]']                    \n",
      "                                                                                                  \n",
      " dropout (Dropout)              (None, 12, 64)       0           ['activation_2[0][0]']           \n",
      "                                                                                                  \n",
      " conv1d_10 (Conv1D)             (None, 12, 128)      65664       ['dropout[0][0]']                \n",
      "                                                                                                  \n",
      " batch_normalization_10 (BatchN  (None, 12, 128)     512         ['conv1d_10[0][0]']              \n",
      " ormalization)                                                                                    \n",
      "                                                                                                  \n",
      " activation_3 (Activation)      (None, 12, 128)      0           ['batch_normalization_10[0][0]'] \n",
      "                                                                                                  \n",
      " conv1d_11 (Conv1D)             (None, 12, 128)      82048       ['activation_3[0][0]']           \n",
      "                                                                                                  \n",
      " batch_normalization_11 (BatchN  (None, 12, 128)     512         ['conv1d_11[0][0]']              \n",
      " ormalization)                                                                                    \n",
      "                                                                                                  \n",
      " activation_4 (Activation)      (None, 12, 128)      0           ['batch_normalization_11[0][0]'] \n",
      "                                                                                                  \n",
      " conv1d_13 (Conv1D)             (None, 12, 128)      8320        ['dropout[0][0]']                \n",
      "                                                                                                  \n",
      " conv1d_12 (Conv1D)             (None, 12, 128)      49280       ['activation_4[0][0]']           \n",
      "                                                                                                  \n",
      " batch_normalization_13 (BatchN  (None, 12, 128)     512         ['conv1d_13[0][0]']              \n",
      " ormalization)                                                                                    \n",
      "                                                                                                  \n",
      " batch_normalization_12 (BatchN  (None, 12, 128)     512         ['conv1d_12[0][0]']              \n",
      " ormalization)                                                                                    \n",
      "                                                                                                  \n",
      " add_1 (Add)                    (None, 12, 128)      0           ['batch_normalization_13[0][0]', \n",
      "                                                                  'batch_normalization_12[0][0]'] \n",
      "                                                                                                  \n",
      " activation_5 (Activation)      (None, 12, 128)      0           ['add_1[0][0]']                  \n",
      "                                                                                                  \n",
      " dropout_1 (Dropout)            (None, 12, 128)      0           ['activation_5[0][0]']           \n",
      "                                                                                                  \n",
      " conv1d_14 (Conv1D)             (None, 12, 128)      131200      ['dropout_1[0][0]']              \n",
      "                                                                                                  \n",
      " batch_normalization_14 (BatchN  (None, 12, 128)     512         ['conv1d_14[0][0]']              \n",
      " ormalization)                                                                                    \n",
      "                                                                                                  \n",
      " activation_6 (Activation)      (None, 12, 128)      0           ['batch_normalization_14[0][0]'] \n",
      "                                                                                                  \n",
      " conv1d_15 (Conv1D)             (None, 12, 128)      82048       ['activation_6[0][0]']           \n",
      "                                                                                                  \n",
      " batch_normalization_15 (BatchN  (None, 12, 128)     512         ['conv1d_15[0][0]']              \n",
      " ormalization)                                                                                    \n",
      "                                                                                                  \n",
      " activation_7 (Activation)      (None, 12, 128)      0           ['batch_normalization_15[0][0]'] \n",
      "                                                                                                  \n",
      " conv1d_16 (Conv1D)             (None, 12, 128)      49280       ['activation_7[0][0]']           \n",
      "                                                                                                  \n",
      " batch_normalization_17 (BatchN  (None, 12, 128)     512         ['dropout_1[0][0]']              \n",
      " ormalization)                                                                                    \n",
      "                                                                                                  \n",
      " batch_normalization_16 (BatchN  (None, 12, 128)     512         ['conv1d_16[0][0]']              \n",
      " ormalization)                                                                                    \n",
      "                                                                                                  \n",
      " add_2 (Add)                    (None, 12, 128)      0           ['batch_normalization_17[0][0]', \n",
      "                                                                  'batch_normalization_16[0][0]'] \n",
      "                                                                                                  \n",
      " activation_8 (Activation)      (None, 12, 128)      0           ['add_2[0][0]']                  \n",
      "                                                                                                  \n",
      " dropout_2 (Dropout)            (None, 12, 128)      0           ['activation_8[0][0]']           \n",
      "                                                                                                  \n",
      " global_average_pooling1d_2 (Gl  (None, 128)         0           ['dropout_2[0][0]']              \n",
      " obalAveragePooling1D)                                                                            \n",
      "                                                                                                  \n",
      " dropout_3 (Dropout)            (None, 128)          0           ['global_average_pooling1d_2[0][0\n",
      "                                                                 ]']                              \n",
      "                                                                                                  \n",
      " dense_2 (Dense)                (None, 5)            645         ['dropout_3[0][0]']              \n",
      "                                                                                                  \n",
      "==================================================================================================\n",
      "Total params: 650,629\n",
      "Trainable params: 648,069\n",
      "Non-trainable params: 2,560\n",
      "__________________________________________________________________________________________________\n"
     ]
    }
   ],
   "source": [
    "learning_rate = 0.001\n",
    "dropout_rate = 0.25\n",
    "\n",
    "resnet_model = resnet1d(input_shape = input_shape,\n",
    "                         nb_classes = num_classes,\n",
    "                         learning_rate=learning_rate)\n",
    "\n",
    "resnet_model.summary()"
   ]
  },
  {
   "cell_type": "code",
   "execution_count": 40,
   "metadata": {
    "tags": []
   },
   "outputs": [
    {
     "name": "stdout",
     "output_type": "stream",
     "text": [
      "Epoch 1/50\n",
      "868/868 [==============================] - 22s 23ms/step - loss: 1.2479 - accuracy: 0.5145 - val_loss: 1.1178 - val_accuracy: 0.5572\n",
      "Epoch 2/50\n",
      "868/868 [==============================] - 19s 22ms/step - loss: 1.0604 - accuracy: 0.5933 - val_loss: 1.0101 - val_accuracy: 0.6043\n",
      "Epoch 3/50\n",
      "868/868 [==============================] - 19s 22ms/step - loss: 0.9926 - accuracy: 0.6231 - val_loss: 0.9852 - val_accuracy: 0.6160\n",
      "Epoch 4/50\n",
      "868/868 [==============================] - 19s 22ms/step - loss: 0.9467 - accuracy: 0.6438 - val_loss: 0.9787 - val_accuracy: 0.6170\n",
      "Epoch 5/50\n",
      "868/868 [==============================] - 19s 22ms/step - loss: 0.9089 - accuracy: 0.6593 - val_loss: 0.9614 - val_accuracy: 0.6271\n",
      "Epoch 6/50\n",
      "868/868 [==============================] - 19s 22ms/step - loss: 0.8777 - accuracy: 0.6714 - val_loss: 0.9576 - val_accuracy: 0.6293\n",
      "Epoch 7/50\n",
      "868/868 [==============================] - 19s 22ms/step - loss: 0.8498 - accuracy: 0.6845 - val_loss: 0.9488 - val_accuracy: 0.6341\n",
      "Epoch 8/50\n",
      "868/868 [==============================] - 19s 22ms/step - loss: 0.8262 - accuracy: 0.6944 - val_loss: 0.9643 - val_accuracy: 0.6299\n",
      "Epoch 9/50\n",
      "868/868 [==============================] - 19s 22ms/step - loss: 0.8010 - accuracy: 0.7030 - val_loss: 0.9673 - val_accuracy: 0.6308\n",
      "Epoch 10/50\n",
      "868/868 [==============================] - 19s 22ms/step - loss: 0.7799 - accuracy: 0.7121 - val_loss: 0.9774 - val_accuracy: 0.6300\n",
      "Epoch 11/50\n",
      "868/868 [==============================] - 19s 22ms/step - loss: 0.7596 - accuracy: 0.7198 - val_loss: 0.9898 - val_accuracy: 0.6291\n",
      "Epoch 12/50\n",
      "868/868 [==============================] - 19s 22ms/step - loss: 0.7422 - accuracy: 0.7264 - val_loss: 0.9963 - val_accuracy: 0.6306\n",
      "Epoch 13/50\n",
      "868/868 [==============================] - 19s 22ms/step - loss: 0.7264 - accuracy: 0.7329 - val_loss: 1.0006 - val_accuracy: 0.6286\n",
      "Epoch 14/50\n",
      "868/868 [==============================] - 19s 22ms/step - loss: 0.7094 - accuracy: 0.7399 - val_loss: 1.0084 - val_accuracy: 0.6293\n",
      "Epoch 15/50\n",
      "868/868 [==============================] - 19s 22ms/step - loss: 0.6946 - accuracy: 0.7454 - val_loss: 1.0162 - val_accuracy: 0.6288\n",
      "Epoch 16/50\n",
      "868/868 [==============================] - 19s 22ms/step - loss: 0.6809 - accuracy: 0.7503 - val_loss: 1.0241 - val_accuracy: 0.6311\n",
      "Epoch 17/50\n",
      "868/868 [==============================] - 19s 22ms/step - loss: 0.6684 - accuracy: 0.7559 - val_loss: 1.0520 - val_accuracy: 0.6300\n",
      "Epoch 18/50\n",
      "868/868 [==============================] - 19s 22ms/step - loss: 0.6545 - accuracy: 0.7614 - val_loss: 1.0545 - val_accuracy: 0.6294\n",
      "Epoch 19/50\n",
      "868/868 [==============================] - 19s 22ms/step - loss: 0.6414 - accuracy: 0.7654 - val_loss: 1.0564 - val_accuracy: 0.6293\n",
      "Epoch 20/50\n",
      "868/868 [==============================] - 19s 22ms/step - loss: 0.6312 - accuracy: 0.7701 - val_loss: 1.0786 - val_accuracy: 0.6296\n",
      "Epoch 21/50\n",
      "868/868 [==============================] - 19s 22ms/step - loss: 0.6206 - accuracy: 0.7745 - val_loss: 1.0873 - val_accuracy: 0.6280\n",
      "Epoch 22/50\n",
      "868/868 [==============================] - 19s 22ms/step - loss: 0.6088 - accuracy: 0.7787 - val_loss: 1.1017 - val_accuracy: 0.6290\n",
      "Epoch 23/50\n",
      "868/868 [==============================] - 19s 22ms/step - loss: 0.6000 - accuracy: 0.7812 - val_loss: 1.1084 - val_accuracy: 0.6234\n",
      "Epoch 24/50\n",
      "868/868 [==============================] - 19s 22ms/step - loss: 0.5949 - accuracy: 0.7831 - val_loss: 1.1128 - val_accuracy: 0.6276\n",
      "Epoch 25/50\n",
      "868/868 [==============================] - 19s 22ms/step - loss: 0.5803 - accuracy: 0.7892 - val_loss: 1.1424 - val_accuracy: 0.6267\n",
      "Epoch 26/50\n",
      "868/868 [==============================] - 19s 22ms/step - loss: 0.5709 - accuracy: 0.7928 - val_loss: 1.1443 - val_accuracy: 0.6267\n",
      "Epoch 27/50\n",
      "868/868 [==============================] - 19s 22ms/step - loss: 0.5618 - accuracy: 0.7965 - val_loss: 1.1591 - val_accuracy: 0.6289\n",
      "Epoch 28/50\n",
      "868/868 [==============================] - 19s 22ms/step - loss: 0.5560 - accuracy: 0.7976 - val_loss: 1.1700 - val_accuracy: 0.6272\n",
      "Epoch 29/50\n",
      "868/868 [==============================] - 19s 22ms/step - loss: 0.5470 - accuracy: 0.8013 - val_loss: 1.1956 - val_accuracy: 0.6239\n",
      "Epoch 30/50\n",
      "868/868 [==============================] - 19s 22ms/step - loss: 0.5404 - accuracy: 0.8029 - val_loss: 1.1907 - val_accuracy: 0.6278\n",
      "Epoch 31/50\n",
      "868/868 [==============================] - 19s 22ms/step - loss: 0.5293 - accuracy: 0.8076 - val_loss: 1.1874 - val_accuracy: 0.6256\n",
      "Epoch 32/50\n",
      "868/868 [==============================] - 19s 22ms/step - loss: 0.5264 - accuracy: 0.8083 - val_loss: 1.2116 - val_accuracy: 0.6256\n",
      "Epoch 33/50\n",
      "868/868 [==============================] - 19s 22ms/step - loss: 0.5175 - accuracy: 0.8114 - val_loss: 1.2340 - val_accuracy: 0.6246\n",
      "Epoch 34/50\n",
      "868/868 [==============================] - 19s 22ms/step - loss: 0.5098 - accuracy: 0.8142 - val_loss: 1.2449 - val_accuracy: 0.6259\n",
      "Epoch 35/50\n",
      "868/868 [==============================] - 19s 22ms/step - loss: 0.5028 - accuracy: 0.8176 - val_loss: 1.2660 - val_accuracy: 0.6249\n",
      "Epoch 36/50\n",
      "868/868 [==============================] - 19s 22ms/step - loss: 0.4980 - accuracy: 0.8187 - val_loss: 1.2534 - val_accuracy: 0.6262\n",
      "Epoch 37/50\n",
      "868/868 [==============================] - 19s 22ms/step - loss: 0.4902 - accuracy: 0.8224 - val_loss: 1.2705 - val_accuracy: 0.6243\n",
      "Epoch 38/50\n",
      "868/868 [==============================] - 19s 22ms/step - loss: 0.4866 - accuracy: 0.8230 - val_loss: 1.2845 - val_accuracy: 0.6241\n",
      "Epoch 39/50\n",
      "868/868 [==============================] - 19s 22ms/step - loss: 0.4807 - accuracy: 0.8251 - val_loss: 1.3203 - val_accuracy: 0.6262\n",
      "Epoch 40/50\n",
      "868/868 [==============================] - 19s 22ms/step - loss: 0.4760 - accuracy: 0.8266 - val_loss: 1.2985 - val_accuracy: 0.6203\n",
      "Epoch 41/50\n",
      "868/868 [==============================] - 19s 22ms/step - loss: 0.4762 - accuracy: 0.8258 - val_loss: 1.3239 - val_accuracy: 0.6216\n",
      "Epoch 42/50\n",
      "868/868 [==============================] - 19s 22ms/step - loss: 0.4645 - accuracy: 0.8300 - val_loss: 1.3760 - val_accuracy: 0.6209\n",
      "Epoch 43/50\n",
      "868/868 [==============================] - 19s 22ms/step - loss: 0.4577 - accuracy: 0.8332 - val_loss: 1.3541 - val_accuracy: 0.6240\n",
      "Epoch 44/50\n",
      "868/868 [==============================] - 19s 22ms/step - loss: 0.4529 - accuracy: 0.8341 - val_loss: 1.3651 - val_accuracy: 0.6222\n",
      "Epoch 45/50\n",
      "868/868 [==============================] - 19s 22ms/step - loss: 0.4470 - accuracy: 0.8372 - val_loss: 1.3522 - val_accuracy: 0.6208\n",
      "Epoch 46/50\n",
      "868/868 [==============================] - 19s 22ms/step - loss: 0.4420 - accuracy: 0.8390 - val_loss: 1.4398 - val_accuracy: 0.6228\n",
      "Epoch 47/50\n",
      "868/868 [==============================] - 19s 22ms/step - loss: 0.4395 - accuracy: 0.8399 - val_loss: 1.3943 - val_accuracy: 0.6242\n",
      "Epoch 48/50\n",
      "868/868 [==============================] - 19s 22ms/step - loss: 0.4350 - accuracy: 0.8418 - val_loss: 1.4056 - val_accuracy: 0.6244\n",
      "Epoch 49/50\n",
      "868/868 [==============================] - 19s 22ms/step - loss: 0.4303 - accuracy: 0.8426 - val_loss: 1.4072 - val_accuracy: 0.6194\n",
      "Epoch 50/50\n",
      "868/868 [==============================] - 19s 22ms/step - loss: 0.4224 - accuracy: 0.8455 - val_loss: 1.4770 - val_accuracy: 0.6215\n"
     ]
    }
   ],
   "source": [
    "epochs = 50\n",
    "model_output = 'models/resnet.h5'\n",
    "\n",
    "callbacks = [keras.callbacks.ModelCheckpoint(model_output, save_best_only=True, monitor=\"val_loss\"),\n",
    "#              keras.callbacks.ReduceLROnPlateau( monitor=\"val_loss\", factor=0.5, patience=20, min_lr=0.0001),\n",
    "             keras.callbacks.EarlyStopping(monitor=\"val_loss\", patience=50, verbose=1),]\n",
    "\n",
    "history = resnet_model.fit(train_ds,\n",
    "                           validation_data=val_ds,\n",
    "                           epochs=epochs,\n",
    "                           callbacks=callbacks,\n",
    "                           verbose=1)"
   ]
  },
  {
   "cell_type": "code",
   "execution_count": 41,
   "metadata": {},
   "outputs": [
    {
     "data": {
      "image/png": "[encoded data removed]",
      "text/plain": [
       "<Figure size 432x288 with 1 Axes>"
      ]
     },
     "metadata": {
      "needs_background": "light"
     },
     "output_type": "display_data"
    },
    {
     "data": {
      "image/png": "[encoded data removed]",
      "text/plain": [
       "<Figure size 432x288 with 1 Axes>"
      ]
     },
     "metadata": {
      "needs_background": "light"
     },
     "output_type": "display_data"
    }
   ],
   "source": [
    "# summarize history for accuracy\n",
    "plt.plot(history.history['accuracy'])\n",
    "plt.plot(history.history['val_accuracy'])\n",
    "plt.title('model accuracy')\n",
    "plt.ylabel('accuracy')\n",
    "plt.xlabel('epoch')\n",
    "plt.legend(['train', 'test'], loc='upper left')\n",
    "plt.show()\n",
    "\n",
    "# summarize history for loss\n",
    "plt.plot(history.history['loss'])\n",
    "plt.plot(history.history['val_loss'])\n",
    "plt.title('model loss')\n",
    "plt.ylabel('loss')\n",
    "plt.xlabel('epoch')\n",
    "plt.legend(['train', 'test'], loc='upper left')\n",
    "plt.show()"
   ]
  },
  {
   "cell_type": "code",
   "execution_count": 42,
   "metadata": {},
   "outputs": [
    {
     "name": "stdout",
     "output_type": "stream",
     "text": [
      "32070/32070 [==============================] - 94s 3ms/step - loss: 1.5714 - accuracy: 0.6075\n"
     ]
    },
    {
     "data": {
      "text/plain": [
       "[1.5713521242141724, 0.6075459718704224]"
      ]
     },
     "execution_count": 42,
     "metadata": {},
     "output_type": "execute_result"
    }
   ],
   "source": [
    "# resnet_model = tf.keras.models.load_model('models/resnet.h5')\n",
    "resnet_model.evaluate(test_ds)"
   ]
  },
  {
   "cell_type": "code",
   "execution_count": 43,
   "metadata": {},
   "outputs": [],
   "source": [
    "preds = resnet_model.predict(test_ds)"
   ]
  },
  {
   "cell_type": "code",
   "execution_count": 44,
   "metadata": {},
   "outputs": [
    {
     "data": {
      "text/plain": [
       "0.6810102899906455"
      ]
     },
     "execution_count": 44,
     "metadata": {},
     "output_type": "execute_result"
    }
   ],
   "source": [
    "# Get aggregated predictions\n",
    "y_pred = get_max_preds(preds)\n",
    "accuracy_score(y_true, y_pred)"
   ]
  },
  {
   "cell_type": "code",
   "execution_count": 45,
   "metadata": {},
   "outputs": [
    {
     "name": "stdout",
     "output_type": "stream",
     "text": [
      "              precision    recall  f1-score   support\n",
      "\n",
      "        NORM      0.738     0.944     0.828       921\n",
      "          MI      0.552     0.507     0.529       406\n",
      "        STTC      0.668     0.516     0.582       351\n",
      "         HYP      0.454     0.396     0.423       111\n",
      "          CD      0.712     0.447     0.549       349\n",
      "\n",
      "    accuracy                          0.681      2138\n",
      "   macro avg      0.625     0.562     0.582      2138\n",
      "weighted avg      0.672     0.681     0.664      2138\n",
      "\n"
     ]
    }
   ],
   "source": [
    "print(classification_report(y_true, y_pred, digits=3, target_names=label_list, zero_division=0))"
   ]
  },
  {
   "cell_type": "markdown",
   "metadata": {
    "id": "vKGk8ymh4h2J"
   },
   "source": [
    "# Model 3: 1D Inception"
   ]
  },
  {
   "cell_type": "code",
   "execution_count": 36,
   "metadata": {
    "id": "TirdXvy54732",
    "jupyter": {
     "source_hidden": true
    }
   },
   "outputs": [],
   "source": [
    "def inception1d(input_shape, nb_classes):\n",
    "\n",
    "    input_layer = keras.layers.Input(input_shape)\n",
    "\n",
    "    tower_1 = keras.layers.Conv1D(64, 1, padding='same', activation='relu')(input_layer)\n",
    "\n",
    "    tower_2 = keras.layers.Conv1D(64, 1, padding='same', activation='relu')(input_layer)\n",
    "    tower_2 = keras.layers.Conv1D(128, 3, padding='same', activation='relu')(tower_2)\n",
    "\n",
    "    tower_3 = keras.layers.Conv1D(64, 1, padding='same', activation='relu')(input_layer)\n",
    "    tower_3 = keras.layers.Conv1D(32, 5, padding='same', activation='relu')(tower_3)\n",
    "\n",
    "    pool = keras.layers.MaxPooling1D(3, strides=1, padding='same')(input_layer)\n",
    "    pool = keras.layers.Conv1D(32, 1, padding='same', activation='relu')(pool)\n",
    "\n",
    "\n",
    "    output = keras.layers.concatenate([tower_1, tower_2, tower_3, pool], axis = -1)\n",
    "\n",
    "    output = keras.layers.Flatten()(output)\n",
    "    out = keras.layers.Dense(nb_classes, activation='softmax')(output)\n",
    "\n",
    "    model = keras.models.Model(inputs = input_layer, outputs = out)\n",
    "\n",
    "    model.compile(optimizer='adam', loss='sparse_categorical_crossentropy',\n",
    "              metrics=['accuracy'])\n",
    "    \n",
    "    return model"
   ]
  },
  {
   "cell_type": "code",
   "execution_count": 37,
   "metadata": {
    "colab": {
     "base_uri": "https://localhost:8080/"
    },
    "collapsed": true,
    "id": "cvSph5wk5Lme",
    "jupyter": {
     "outputs_hidden": true,
     "source_hidden": true
    },
    "outputId": "0406a889-cdc2-45be-e943-048407022236"
   },
   "outputs": [
    {
     "name": "stdout",
     "output_type": "stream",
     "text": [
      "Model: \"model\"\n",
      "__________________________________________________________________________________________________\n",
      " Layer (type)                   Output Shape         Param #     Connected to                     \n",
      "==================================================================================================\n",
      " input_1 (InputLayer)           [(None, 12, 250)]    0           []                               \n",
      "                                                                                                  \n",
      " conv1d_10 (Conv1D)             (None, 12, 64)       16064       ['input_1[0][0]']                \n",
      "                                                                                                  \n",
      " conv1d_12 (Conv1D)             (None, 12, 64)       16064       ['input_1[0][0]']                \n",
      "                                                                                                  \n",
      " max_pooling1d (MaxPooling1D)   (None, 12, 250)      0           ['input_1[0][0]']                \n",
      "                                                                                                  \n",
      " conv1d_9 (Conv1D)              (None, 12, 64)       16064       ['input_1[0][0]']                \n",
      "                                                                                                  \n",
      " conv1d_11 (Conv1D)             (None, 12, 128)      24704       ['conv1d_10[0][0]']              \n",
      "                                                                                                  \n",
      " conv1d_13 (Conv1D)             (None, 12, 32)       10272       ['conv1d_12[0][0]']              \n",
      "                                                                                                  \n",
      " conv1d_14 (Conv1D)             (None, 12, 32)       8032        ['max_pooling1d[0][0]']          \n",
      "                                                                                                  \n",
      " concatenate (Concatenate)      (None, 12, 256)      0           ['conv1d_9[0][0]',               \n",
      "                                                                  'conv1d_11[0][0]',              \n",
      "                                                                  'conv1d_13[0][0]',              \n",
      "                                                                  'conv1d_14[0][0]']              \n",
      "                                                                                                  \n",
      " flatten (Flatten)              (None, 3072)         0           ['concatenate[0][0]']            \n",
      "                                                                                                  \n",
      " dense_3 (Dense)                (None, 23)           70679       ['flatten[0][0]']                \n",
      "                                                                                                  \n",
      "==================================================================================================\n",
      "Total params: 161,879\n",
      "Trainable params: 161,879\n",
      "Non-trainable params: 0\n",
      "__________________________________________________________________________________________________\n"
     ]
    }
   ],
   "source": [
    "inception_model = inception1d(input_shape = input_shape, \n",
    "                              nb_classes = num_classes)\n",
    "inception_model.summary()"
   ]
  },
  {
   "cell_type": "code",
   "execution_count": 48,
   "metadata": {},
   "outputs": [
    {
     "name": "stdout",
     "output_type": "stream",
     "text": [
      "Model: \"model_1\"\n",
      "__________________________________________________________________________________________________\n",
      " Layer (type)                   Output Shape         Param #     Connected to                     \n",
      "==================================================================================================\n",
      " input_3 (InputLayer)           [(None, 12, 250)]    0           []                               \n",
      "                                                                                                  \n",
      " max_pooling1d_1 (MaxPooling1D)  (None, 12, 250)     0           ['input_3[0][0]']                \n",
      "                                                                                                  \n",
      " conv1d_23 (Conv1D)             (None, 12, 64)       16064       ['input_3[0][0]']                \n",
      "                                                                                                  \n",
      " conv1d_26 (Conv1D)             (None, 12, 16)       4016        ['input_3[0][0]']                \n",
      "                                                                                                  \n",
      " conv1d_28 (Conv1D)             (None, 12, 32)       8032        ['max_pooling1d_1[0][0]']        \n",
      "                                                                                                  \n",
      " batch_normalization_22 (BatchN  (None, 12, 64)      256         ['conv1d_23[0][0]']              \n",
      " ormalization)                                                                                    \n",
      "                                                                                                  \n",
      " conv1d_27 (Conv1D)             (None, 12, 32)       2592        ['conv1d_26[0][0]']              \n",
      "                                                                                                  \n",
      " batch_normalization_25 (BatchN  (None, 12, 32)      128         ['conv1d_28[0][0]']              \n",
      " ormalization)                                                                                    \n",
      "                                                                                                  \n",
      " activation_13 (Activation)     (None, 12, 64)       0           ['batch_normalization_22[0][0]'] \n",
      "                                                                                                  \n",
      " activation_15 (Activation)     (None, 12, 32)       0           ['conv1d_27[0][0]']              \n",
      "                                                                                                  \n",
      " activation_16 (Activation)     (None, 12, 32)       0           ['batch_normalization_25[0][0]'] \n",
      "                                                                                                  \n",
      " concatenate (Concatenate)      (None, 12, 160)      0           ['activation_13[0][0]',          \n",
      "                                                                  'activation_15[0][0]',          \n",
      "                                                                  'conv1d_27[0][0]',              \n",
      "                                                                  'activation_16[0][0]']          \n",
      "                                                                                                  \n",
      " max_pooling1d_2 (MaxPooling1D)  (None, 12, 160)     0           ['concatenate[0][0]']            \n",
      "                                                                                                  \n",
      " conv1d_29 (Conv1D)             (None, 12, 128)      20608       ['concatenate[0][0]']            \n",
      "                                                                                                  \n",
      " conv1d_32 (Conv1D)             (None, 12, 32)       5152        ['concatenate[0][0]']            \n",
      "                                                                                                  \n",
      " conv1d_34 (Conv1D)             (None, 12, 64)       10304       ['max_pooling1d_2[0][0]']        \n",
      "                                                                                                  \n",
      " batch_normalization_26 (BatchN  (None, 12, 128)     512         ['conv1d_29[0][0]']              \n",
      " ormalization)                                                                                    \n",
      "                                                                                                  \n",
      " conv1d_33 (Conv1D)             (None, 12, 96)       15456       ['conv1d_32[0][0]']              \n",
      "                                                                                                  \n",
      " batch_normalization_29 (BatchN  (None, 12, 64)      256         ['conv1d_34[0][0]']              \n",
      " ormalization)                                                                                    \n",
      "                                                                                                  \n",
      " activation_17 (Activation)     (None, 12, 128)      0           ['batch_normalization_26[0][0]'] \n",
      "                                                                                                  \n",
      " activation_19 (Activation)     (None, 12, 96)       0           ['conv1d_33[0][0]']              \n",
      "                                                                                                  \n",
      " activation_20 (Activation)     (None, 12, 64)       0           ['batch_normalization_29[0][0]'] \n",
      "                                                                                                  \n",
      " concatenate_1 (Concatenate)    (None, 12, 384)      0           ['activation_17[0][0]',          \n",
      "                                                                  'activation_19[0][0]',          \n",
      "                                                                  'conv1d_33[0][0]',              \n",
      "                                                                  'activation_20[0][0]']          \n",
      "                                                                                                  \n",
      " flatten (Flatten)              (None, 4608)         0           ['concatenate_1[0][0]']          \n",
      "                                                                                                  \n",
      " dense_3 (Dense)                (None, 5)            23045       ['flatten[0][0]']                \n",
      "                                                                                                  \n",
      "==================================================================================================\n",
      "Total params: 106,421\n",
      "Trainable params: 105,845\n",
      "Non-trainable params: 576\n",
      "__________________________________________________________________________________________________\n"
     ]
    }
   ],
   "source": [
    "def inception1d(layer_in, f1, f2_in, f2_out, f3_in, f3_out, f4_out):\n",
    "    conv1 = keras.layers.Conv1D(f1, 1, padding='same')(layer_in)\n",
    "    conv1 = keras.layers.BatchNormalization()(conv1)\n",
    "    conv1 = keras.layers.Activation('relu')(conv1)\n",
    "\n",
    "    conv3 = keras.layers.Conv1D(f2_in, 1, padding='same', activation='relu')(layer_in)\n",
    "    conv3 = keras.layers.Conv1D(f2_out, 3, padding='same')(conv3)\n",
    "    conv3 = keras.layers.BatchNormalization()(conv3)\n",
    "    conv3 = keras.layers.Activation('relu')(conv3)\n",
    "\n",
    "    conv5 = keras.layers.Conv1D(f3_in, 1, padding='same', activation='relu')(layer_in)\n",
    "    conv5 = keras.layers.Conv1D(f3_out, 5, padding='same')(conv5)\n",
    "    conv3 = keras.layers.BatchNormalization()(conv5)\n",
    "    conv3 = keras.layers.Activation('relu')(conv5)\n",
    "\n",
    "    pool = keras.layers.MaxPooling1D(3, strides=1, padding='same')(layer_in)\n",
    "    pool = keras.layers.Conv1D(f4_out, 1, padding='same')(pool)\n",
    "    pool = keras.layers.BatchNormalization()(pool)\n",
    "    pool = keras.layers.Activation('relu')(pool)\n",
    "\n",
    "    layer_out = keras.layers.concatenate([conv1, conv3, conv5, pool], axis=-1)\n",
    "\n",
    "    return layer_out\n",
    " \n",
    "\n",
    "visible = keras.layers.Input(shape=input_shape)\n",
    "layer = inception1d(visible, 64, 96, 128, 16, 32, 32)\n",
    "layer = inception1d(layer, 128, 128, 192, 32, 96, 64)\n",
    "\n",
    "#flatten activation map\n",
    "#dense layer \n",
    "#sigmoid activation \n",
    "\n",
    "output = keras.layers.Flatten()(layer)\n",
    "out = keras.layers.Dense(num_classes, activation='softmax')(output)\n",
    "inception_model = keras.models.Model(inputs=visible, outputs=out)\n",
    "inception_model.compile(optimizer='adam', loss='sparse_categorical_crossentropy',\n",
    "              metrics=['accuracy'])\n",
    "inception_model.summary()"
   ]
  },
  {
   "cell_type": "code",
   "execution_count": 49,
   "metadata": {
    "colab": {
     "base_uri": "https://localhost:8080/"
    },
    "id": "TQNOP4XS5Qw8",
    "outputId": "d25fdfb5-c9a1-4e1a-8ad0-71c7c3c34de4"
   },
   "outputs": [
    {
     "name": "stdout",
     "output_type": "stream",
     "text": [
      "Epoch 1/25\n",
      "868/868 [==============================] - 16s 17ms/step - loss: 1.1812 - accuracy: 0.5460 - val_loss: 1.0859 - val_accuracy: 0.5796 - lr: 0.0010\n",
      "Epoch 2/25\n",
      "868/868 [==============================] - 14s 16ms/step - loss: 1.0035 - accuracy: 0.6181 - val_loss: 0.9960 - val_accuracy: 0.6180 - lr: 0.0010\n",
      "Epoch 3/25\n",
      "868/868 [==============================] - 14s 16ms/step - loss: 0.9363 - accuracy: 0.6480 - val_loss: 0.9645 - val_accuracy: 0.6293 - lr: 0.0010\n",
      "Epoch 4/25\n",
      "868/868 [==============================] - 14s 17ms/step - loss: 0.8934 - accuracy: 0.6658 - val_loss: 0.9497 - val_accuracy: 0.6360 - lr: 0.0010\n",
      "Epoch 5/25\n",
      "868/868 [==============================] - 14s 16ms/step - loss: 0.8635 - accuracy: 0.6780 - val_loss: 0.9417 - val_accuracy: 0.6401 - lr: 0.0010\n",
      "Epoch 6/25\n",
      "868/868 [==============================] - 14s 16ms/step - loss: 0.8396 - accuracy: 0.6873 - val_loss: 0.9411 - val_accuracy: 0.6424 - lr: 0.0010\n",
      "Epoch 7/25\n",
      "868/868 [==============================] - 14s 16ms/step - loss: 0.8193 - accuracy: 0.6952 - val_loss: 0.9402 - val_accuracy: 0.6444 - lr: 0.0010\n",
      "Epoch 8/25\n",
      "868/868 [==============================] - 14s 16ms/step - loss: 0.8014 - accuracy: 0.7028 - val_loss: 0.9458 - val_accuracy: 0.6447 - lr: 0.0010\n",
      "Epoch 9/25\n",
      "868/868 [==============================] - 14s 16ms/step - loss: 0.7835 - accuracy: 0.7094 - val_loss: 0.9432 - val_accuracy: 0.6475 - lr: 0.0010\n",
      "Epoch 10/25\n",
      "868/868 [==============================] - 14s 16ms/step - loss: 0.7672 - accuracy: 0.7165 - val_loss: 0.9557 - val_accuracy: 0.6426 - lr: 0.0010\n",
      "Epoch 11/25\n",
      "868/868 [==============================] - 14s 16ms/step - loss: 0.7590 - accuracy: 0.7195 - val_loss: 0.9446 - val_accuracy: 0.6469 - lr: 0.0010\n",
      "Epoch 12/25\n",
      "868/868 [==============================] - 14s 16ms/step - loss: 0.7416 - accuracy: 0.7261 - val_loss: 0.9518 - val_accuracy: 0.6464 - lr: 0.0010\n",
      "Epoch 13/25\n",
      "868/868 [==============================] - 14s 16ms/step - loss: 0.7270 - accuracy: 0.7319 - val_loss: 0.9579 - val_accuracy: 0.6453 - lr: 0.0010\n",
      "Epoch 14/25\n",
      "868/868 [==============================] - 14s 16ms/step - loss: 0.7153 - accuracy: 0.7358 - val_loss: 0.9653 - val_accuracy: 0.6433 - lr: 0.0010\n",
      "Epoch 15/25\n",
      "868/868 [==============================] - 14s 16ms/step - loss: 0.7054 - accuracy: 0.7392 - val_loss: 0.9727 - val_accuracy: 0.6437 - lr: 0.0010\n",
      "Epoch 16/25\n",
      "868/868 [==============================] - 14s 16ms/step - loss: 0.6946 - accuracy: 0.7438 - val_loss: 0.9790 - val_accuracy: 0.6424 - lr: 0.0010\n",
      "Epoch 17/25\n",
      "868/868 [==============================] - 14s 16ms/step - loss: 0.6843 - accuracy: 0.7481 - val_loss: 0.9885 - val_accuracy: 0.6415 - lr: 0.0010\n",
      "Epoch 18/25\n",
      "868/868 [==============================] - 14s 16ms/step - loss: 0.6745 - accuracy: 0.7520 - val_loss: 0.9941 - val_accuracy: 0.6415 - lr: 0.0010\n",
      "Epoch 19/25\n",
      "868/868 [==============================] - 14s 16ms/step - loss: 0.6655 - accuracy: 0.7552 - val_loss: 1.0040 - val_accuracy: 0.6397 - lr: 0.0010\n",
      "Epoch 20/25\n",
      "868/868 [==============================] - 14s 16ms/step - loss: 0.6691 - accuracy: 0.7531 - val_loss: 1.0061 - val_accuracy: 0.6409 - lr: 0.0010\n",
      "Epoch 21/25\n",
      "868/868 [==============================] - 14s 16ms/step - loss: 0.6495 - accuracy: 0.7616 - val_loss: 1.0162 - val_accuracy: 0.6387 - lr: 0.0010\n",
      "Epoch 22/25\n",
      "868/868 [==============================] - 14s 16ms/step - loss: 0.6401 - accuracy: 0.7652 - val_loss: 1.0266 - val_accuracy: 0.6377 - lr: 0.0010\n",
      "Epoch 23/25\n",
      "868/868 [==============================] - 14s 16ms/step - loss: 0.6325 - accuracy: 0.7683 - val_loss: 1.0347 - val_accuracy: 0.6374 - lr: 0.0010\n",
      "Epoch 24/25\n",
      "868/868 [==============================] - 14s 16ms/step - loss: 0.6256 - accuracy: 0.7708 - val_loss: 1.0431 - val_accuracy: 0.6363 - lr: 0.0010\n",
      "Epoch 25/25\n",
      "868/868 [==============================] - 14s 16ms/step - loss: 0.6182 - accuracy: 0.7742 - val_loss: 1.0542 - val_accuracy: 0.6350 - lr: 0.0010\n"
     ]
    }
   ],
   "source": [
    "epochs = 25\n",
    "model_output = 'models/inception.h5'\n",
    "\n",
    "callbacks = [keras.callbacks.ModelCheckpoint(model_output, save_best_only=True, monitor=\"val_loss\"),\n",
    "             keras.callbacks.ReduceLROnPlateau( monitor=\"val_loss\", factor=0.5, patience=20, min_lr=0.0001),\n",
    "             keras.callbacks.EarlyStopping(monitor=\"val_loss\", patience=50, verbose=1),]\n",
    "\n",
    "history = inception_model.fit(train_ds,\n",
    "                             validation_data=val_ds,\n",
    "                             epochs=epochs,\n",
    "                             callbacks=callbacks,\n",
    "                             verbose=1)"
   ]
  },
  {
   "cell_type": "code",
   "execution_count": 50,
   "metadata": {},
   "outputs": [
    {
     "data": {
      "image/png": "[encoded data removed]",
      "text/plain": [
       "<Figure size 432x288 with 1 Axes>"
      ]
     },
     "metadata": {
      "needs_background": "light"
     },
     "output_type": "display_data"
    },
    {
     "data": {
      "image/png": "[encoded data removed]",
      "text/plain": [
       "<Figure size 432x288 with 1 Axes>"
      ]
     },
     "metadata": {
      "needs_background": "light"
     },
     "output_type": "display_data"
    }
   ],
   "source": [
    "# summarize history for accuracy\n",
    "plt.plot(history.history['accuracy'])\n",
    "plt.plot(history.history['val_accuracy'])\n",
    "plt.title('model accuracy')\n",
    "plt.ylabel('accuracy')\n",
    "plt.xlabel('epoch')\n",
    "plt.legend(['train', 'test'], loc='upper left')\n",
    "plt.show()\n",
    "\n",
    "# summarize history for loss\n",
    "plt.plot(history.history['loss'])\n",
    "plt.plot(history.history['val_loss'])\n",
    "plt.title('model loss')\n",
    "plt.ylabel('loss')\n",
    "plt.xlabel('epoch')\n",
    "plt.legend(['train', 'test'], loc='upper left')\n",
    "plt.show()"
   ]
  },
  {
   "cell_type": "code",
   "execution_count": 51,
   "metadata": {},
   "outputs": [
    {
     "name": "stdout",
     "output_type": "stream",
     "text": [
      "32070/32070 [==============================] - 68s 2ms/step - loss: 1.1191 - accuracy: 0.6174\n"
     ]
    },
    {
     "data": {
      "text/plain": [
       "[1.1191132068634033, 0.6173994541168213]"
      ]
     },
     "execution_count": 51,
     "metadata": {},
     "output_type": "execute_result"
    }
   ],
   "source": [
    "# inception_model = tf.keras.models.load_model('models/inception.h5')\n",
    "inception_model.evaluate(test_ds)"
   ]
  },
  {
   "cell_type": "code",
   "execution_count": 52,
   "metadata": {},
   "outputs": [],
   "source": [
    "preds = inception_model.predict(test_ds)"
   ]
  },
  {
   "cell_type": "code",
   "execution_count": 53,
   "metadata": {},
   "outputs": [
    {
     "data": {
      "text/plain": [
       "0.6814780168381666"
      ]
     },
     "execution_count": 53,
     "metadata": {},
     "output_type": "execute_result"
    }
   ],
   "source": [
    "# Get aggregated predictions\n",
    "y_pred = get_max_preds(preds)\n",
    "accuracy_score(y_true, y_pred)"
   ]
  },
  {
   "cell_type": "code",
   "execution_count": 54,
   "metadata": {},
   "outputs": [
    {
     "name": "stdout",
     "output_type": "stream",
     "text": [
      "              precision    recall  f1-score   support\n",
      "\n",
      "        NORM      0.744     0.929     0.826       921\n",
      "          MI      0.564     0.532     0.548       406\n",
      "        STTC      0.642     0.541     0.587       351\n",
      "         HYP      0.431     0.423     0.427       111\n",
      "          CD      0.744     0.424     0.540       349\n",
      "\n",
      "    accuracy                          0.681      2138\n",
      "   macro avg      0.625     0.570     0.586      2138\n",
      "weighted avg      0.677     0.681     0.667      2138\n",
      "\n"
     ]
    }
   ],
   "source": [
    "print(classification_report(y_true, y_pred, digits=3, target_names=label_list, zero_division=0))"
   ]
  },
  {
   "cell_type": "markdown",
   "metadata": {},
   "source": [
    "optimize model for **precision** when you want to **decrease the number of false positives**.\n",
    "\n",
    "optimize model for **recall** if you want to **decrease the number of false negatives**."
   ]
  },
  {
   "cell_type": "markdown",
   "metadata": {
    "id": "Gtl31lCM-UQH"
   },
   "source": [
    "# Model 4: LSTM"
   ]
  },
  {
   "cell_type": "code",
   "execution_count": 55,
   "metadata": {},
   "outputs": [
    {
     "name": "stdout",
     "output_type": "stream",
     "text": [
      "Model: \"sequential_2\"\n",
      "_________________________________________________________________\n",
      " Layer (type)                Output Shape              Param #   \n",
      "=================================================================\n",
      " lstm (LSTM)                 (None, 12, 128)           194048    \n",
      "                                                                 \n",
      " batch_normalization_30 (Bat  (None, 12, 128)          512       \n",
      " chNormalization)                                                \n",
      "                                                                 \n",
      " dropout_4 (Dropout)         (None, 12, 128)           0         \n",
      "                                                                 \n",
      " lstm_1 (LSTM)               (None, 12, 64)            49408     \n",
      "                                                                 \n",
      " batch_normalization_31 (Bat  (None, 12, 64)           256       \n",
      " chNormalization)                                                \n",
      "                                                                 \n",
      " dropout_5 (Dropout)         (None, 12, 64)            0         \n",
      "                                                                 \n",
      " lstm_2 (LSTM)               (None, 12, 32)            12416     \n",
      "                                                                 \n",
      " batch_normalization_32 (Bat  (None, 12, 32)           128       \n",
      " chNormalization)                                                \n",
      "                                                                 \n",
      " dropout_6 (Dropout)         (None, 12, 32)            0         \n",
      "                                                                 \n",
      " dense_4 (Dense)             (None, 12, 128)           4224      \n",
      "                                                                 \n",
      " activation_21 (Activation)  (None, 12, 128)           0         \n",
      "                                                                 \n",
      " global_average_pooling1d_3   (None, 128)              0         \n",
      " (GlobalAveragePooling1D)                                        \n",
      "                                                                 \n",
      " dropout_7 (Dropout)         (None, 128)               0         \n",
      "                                                                 \n",
      " dense_5 (Dense)             (None, 5)                 645       \n",
      "                                                                 \n",
      "=================================================================\n",
      "Total params: 261,637\n",
      "Trainable params: 261,189\n",
      "Non-trainable params: 448\n",
      "_________________________________________________________________\n"
     ]
    }
   ],
   "source": [
    "learning_rate = 0.0001\n",
    "dropout_rate = 0.25\n",
    "\n",
    "lstm_model = keras.models.Sequential([\n",
    "    \n",
    "    keras.layers.LSTM(units=128, return_sequences=True, input_shape=input_shape),\n",
    "    keras.layers.BatchNormalization(),\n",
    "    keras.layers.Dropout(rate=dropout_rate),\n",
    "    \n",
    "    keras.layers.LSTM(units=64, return_sequences=True),\n",
    "    keras.layers.BatchNormalization(),\n",
    "    keras.layers.Dropout(rate=dropout_rate),\n",
    "    \n",
    "    keras.layers.LSTM(units=32, return_sequences=True),\n",
    "    keras.layers.BatchNormalization(),\n",
    "    keras.layers.Dropout(rate=dropout_rate),\n",
    "    \n",
    "    keras.layers.Dense(128),\n",
    "    keras.layers.Activation('relu'),\n",
    "    \n",
    "    keras.layers.GlobalAveragePooling1D(),\n",
    "    keras.layers.Dropout(rate=dropout_rate),\n",
    "    \n",
    "    keras.layers.Dense(num_classes, activation='softmax')\n",
    "])\n",
    "\n",
    "\n",
    "opt = keras.optimizers.Adam(learning_rate=learning_rate)\n",
    "\n",
    "lstm_model.compile(loss='sparse_categorical_crossentropy',\n",
    "              metrics=['accuracy'],\n",
    "              optimizer=opt)\n",
    "\n",
    "lstm_model.summary()"
   ]
  },
  {
   "cell_type": "code",
   "execution_count": 56,
   "metadata": {},
   "outputs": [
    {
     "name": "stdout",
     "output_type": "stream",
     "text": [
      "Epoch 1/100\n",
      "868/868 [==============================] - 21s 20ms/step - loss: 1.4429 - accuracy: 0.4100 - val_loss: 1.3165 - val_accuracy: 0.4767\n",
      "Epoch 2/100\n",
      "868/868 [==============================] - 16s 18ms/step - loss: 1.3009 - accuracy: 0.4840 - val_loss: 1.2147 - val_accuracy: 0.5239\n",
      "Epoch 3/100\n",
      "868/868 [==============================] - 16s 18ms/step - loss: 1.2347 - accuracy: 0.5140 - val_loss: 1.1654 - val_accuracy: 0.5464\n",
      "Epoch 4/100\n",
      "868/868 [==============================] - 16s 18ms/step - loss: 1.1928 - accuracy: 0.5349 - val_loss: 1.1378 - val_accuracy: 0.5551\n",
      "Epoch 5/100\n",
      "868/868 [==============================] - 16s 18ms/step - loss: 1.1617 - accuracy: 0.5501 - val_loss: 1.1219 - val_accuracy: 0.5604\n",
      "Epoch 6/100\n",
      "868/868 [==============================] - 16s 18ms/step - loss: 1.1383 - accuracy: 0.5620 - val_loss: 1.1123 - val_accuracy: 0.5628\n",
      "Epoch 7/100\n",
      "868/868 [==============================] - 16s 18ms/step - loss: 1.1189 - accuracy: 0.5714 - val_loss: 1.1073 - val_accuracy: 0.5648\n",
      "Epoch 8/100\n",
      "868/868 [==============================] - 16s 18ms/step - loss: 1.1016 - accuracy: 0.5789 - val_loss: 1.0974 - val_accuracy: 0.5688\n",
      "Epoch 9/100\n",
      "868/868 [==============================] - 16s 18ms/step - loss: 1.0880 - accuracy: 0.5847 - val_loss: 1.0912 - val_accuracy: 0.5727\n",
      "Epoch 10/100\n",
      "868/868 [==============================] - 16s 18ms/step - loss: 1.0725 - accuracy: 0.5913 - val_loss: 1.0853 - val_accuracy: 0.5753\n",
      "Epoch 11/100\n",
      "868/868 [==============================] - 16s 18ms/step - loss: 1.0626 - accuracy: 0.5965 - val_loss: 1.0782 - val_accuracy: 0.5788\n",
      "Epoch 12/100\n",
      "868/868 [==============================] - 16s 18ms/step - loss: 1.0511 - accuracy: 0.6022 - val_loss: 1.0811 - val_accuracy: 0.5774\n",
      "Epoch 13/100\n",
      "868/868 [==============================] - 16s 18ms/step - loss: 1.0411 - accuracy: 0.6062 - val_loss: 1.0687 - val_accuracy: 0.5845\n",
      "Epoch 14/100\n",
      "868/868 [==============================] - 16s 18ms/step - loss: 1.0298 - accuracy: 0.6105 - val_loss: 1.0656 - val_accuracy: 0.5853\n",
      "Epoch 15/100\n",
      "868/868 [==============================] - 16s 18ms/step - loss: 1.0204 - accuracy: 0.6144 - val_loss: 1.0578 - val_accuracy: 0.5894\n",
      "Epoch 16/100\n",
      "868/868 [==============================] - 16s 18ms/step - loss: 1.0126 - accuracy: 0.6182 - val_loss: 1.0541 - val_accuracy: 0.5918\n",
      "Epoch 17/100\n",
      "868/868 [==============================] - 16s 18ms/step - loss: 1.0041 - accuracy: 0.6232 - val_loss: 1.0446 - val_accuracy: 0.5966\n",
      "Epoch 18/100\n",
      "868/868 [==============================] - 16s 18ms/step - loss: 0.9955 - accuracy: 0.6261 - val_loss: 1.0426 - val_accuracy: 0.5972\n",
      "Epoch 19/100\n",
      "868/868 [==============================] - 16s 18ms/step - loss: 0.9884 - accuracy: 0.6296 - val_loss: 1.0377 - val_accuracy: 0.6004\n",
      "Epoch 20/100\n",
      "868/868 [==============================] - 16s 18ms/step - loss: 0.9796 - accuracy: 0.6332 - val_loss: 1.0386 - val_accuracy: 0.6004\n",
      "Epoch 21/100\n",
      "868/868 [==============================] - 16s 18ms/step - loss: 0.9743 - accuracy: 0.6362 - val_loss: 1.0293 - val_accuracy: 0.6051\n",
      "Epoch 22/100\n",
      "868/868 [==============================] - 16s 18ms/step - loss: 0.9682 - accuracy: 0.6378 - val_loss: 1.0261 - val_accuracy: 0.6071\n",
      "Epoch 23/100\n",
      "868/868 [==============================] - 16s 18ms/step - loss: 0.9613 - accuracy: 0.6417 - val_loss: 1.0228 - val_accuracy: 0.6086\n",
      "Epoch 24/100\n",
      "868/868 [==============================] - 16s 18ms/step - loss: 0.9550 - accuracy: 0.6431 - val_loss: 1.0242 - val_accuracy: 0.6086\n",
      "Epoch 25/100\n",
      "868/868 [==============================] - 16s 18ms/step - loss: 0.9483 - accuracy: 0.6470 - val_loss: 1.0162 - val_accuracy: 0.6134\n",
      "Epoch 26/100\n",
      "868/868 [==============================] - 16s 18ms/step - loss: 0.9428 - accuracy: 0.6496 - val_loss: 1.0164 - val_accuracy: 0.6135\n",
      "Epoch 27/100\n",
      "868/868 [==============================] - 16s 19ms/step - loss: 0.9375 - accuracy: 0.6508 - val_loss: 1.0124 - val_accuracy: 0.6154\n",
      "Epoch 28/100\n",
      "868/868 [==============================] - 16s 18ms/step - loss: 0.9325 - accuracy: 0.6537 - val_loss: 1.0091 - val_accuracy: 0.6183\n",
      "Epoch 29/100\n",
      "868/868 [==============================] - 16s 18ms/step - loss: 0.9274 - accuracy: 0.6558 - val_loss: 1.0052 - val_accuracy: 0.6188\n",
      "Epoch 30/100\n",
      "868/868 [==============================] - 16s 18ms/step - loss: 0.9221 - accuracy: 0.6579 - val_loss: 1.0054 - val_accuracy: 0.6194\n",
      "Epoch 31/100\n",
      "868/868 [==============================] - 16s 18ms/step - loss: 0.9181 - accuracy: 0.6598 - val_loss: 1.0035 - val_accuracy: 0.6203\n",
      "Epoch 32/100\n",
      "868/868 [==============================] - 16s 18ms/step - loss: 0.9122 - accuracy: 0.6627 - val_loss: 1.0041 - val_accuracy: 0.6205\n",
      "Epoch 33/100\n",
      "868/868 [==============================] - 16s 18ms/step - loss: 0.9081 - accuracy: 0.6648 - val_loss: 0.9979 - val_accuracy: 0.6238\n",
      "Epoch 34/100\n",
      "868/868 [==============================] - 16s 18ms/step - loss: 0.9036 - accuracy: 0.6655 - val_loss: 0.9962 - val_accuracy: 0.6259\n",
      "Epoch 35/100\n",
      "868/868 [==============================] - 16s 18ms/step - loss: 0.8988 - accuracy: 0.6674 - val_loss: 0.9974 - val_accuracy: 0.6260\n",
      "Epoch 36/100\n",
      "868/868 [==============================] - 16s 18ms/step - loss: 0.8946 - accuracy: 0.6696 - val_loss: 0.9946 - val_accuracy: 0.6267\n",
      "Epoch 37/100\n",
      "868/868 [==============================] - 16s 19ms/step - loss: 0.8904 - accuracy: 0.6711 - val_loss: 0.9920 - val_accuracy: 0.6297\n",
      "Epoch 38/100\n",
      "868/868 [==============================] - 16s 18ms/step - loss: 0.8866 - accuracy: 0.6731 - val_loss: 0.9902 - val_accuracy: 0.6297\n",
      "Epoch 39/100\n",
      "868/868 [==============================] - 16s 18ms/step - loss: 0.8826 - accuracy: 0.6739 - val_loss: 0.9923 - val_accuracy: 0.6300\n",
      "Epoch 40/100\n",
      "868/868 [==============================] - 16s 18ms/step - loss: 0.8799 - accuracy: 0.6747 - val_loss: 0.9901 - val_accuracy: 0.6293\n",
      "Epoch 41/100\n",
      "868/868 [==============================] - 16s 18ms/step - loss: 0.8746 - accuracy: 0.6778 - val_loss: 0.9915 - val_accuracy: 0.6303\n",
      "Epoch 42/100\n",
      "868/868 [==============================] - 16s 18ms/step - loss: 0.8704 - accuracy: 0.6796 - val_loss: 0.9891 - val_accuracy: 0.6315\n",
      "Epoch 43/100\n",
      "868/868 [==============================] - 16s 18ms/step - loss: 0.8681 - accuracy: 0.6798 - val_loss: 0.9865 - val_accuracy: 0.6337\n",
      "Epoch 44/100\n",
      "868/868 [==============================] - 16s 19ms/step - loss: 0.8634 - accuracy: 0.6825 - val_loss: 0.9881 - val_accuracy: 0.6328\n",
      "Epoch 45/100\n",
      "868/868 [==============================] - 16s 18ms/step - loss: 0.8595 - accuracy: 0.6835 - val_loss: 0.9887 - val_accuracy: 0.6334\n",
      "Epoch 46/100\n",
      "868/868 [==============================] - 16s 19ms/step - loss: 0.8563 - accuracy: 0.6845 - val_loss: 0.9855 - val_accuracy: 0.6341\n",
      "Epoch 47/100\n",
      "868/868 [==============================] - 16s 18ms/step - loss: 0.8529 - accuracy: 0.6865 - val_loss: 0.9890 - val_accuracy: 0.6342\n",
      "Epoch 48/100\n",
      "868/868 [==============================] - 16s 18ms/step - loss: 0.8496 - accuracy: 0.6882 - val_loss: 0.9879 - val_accuracy: 0.6343\n",
      "Epoch 49/100\n",
      "868/868 [==============================] - 16s 18ms/step - loss: 0.8473 - accuracy: 0.6894 - val_loss: 0.9876 - val_accuracy: 0.6351\n",
      "Epoch 50/100\n",
      "868/868 [==============================] - 16s 18ms/step - loss: 0.8437 - accuracy: 0.6905 - val_loss: 0.9867 - val_accuracy: 0.6356\n",
      "Epoch 51/100\n",
      "868/868 [==============================] - 16s 19ms/step - loss: 0.8406 - accuracy: 0.6915 - val_loss: 0.9849 - val_accuracy: 0.6371\n",
      "Epoch 52/100\n",
      "868/868 [==============================] - 16s 18ms/step - loss: 0.8362 - accuracy: 0.6936 - val_loss: 0.9851 - val_accuracy: 0.6371\n",
      "Epoch 53/100\n",
      "868/868 [==============================] - 16s 18ms/step - loss: 0.8342 - accuracy: 0.6934 - val_loss: 0.9841 - val_accuracy: 0.6384\n",
      "Epoch 54/100\n",
      "868/868 [==============================] - 16s 19ms/step - loss: 0.8310 - accuracy: 0.6952 - val_loss: 0.9837 - val_accuracy: 0.6374\n",
      "Epoch 55/100\n",
      "868/868 [==============================] - 16s 18ms/step - loss: 0.8283 - accuracy: 0.6956 - val_loss: 0.9843 - val_accuracy: 0.6385\n",
      "Epoch 56/100\n",
      "868/868 [==============================] - 16s 18ms/step - loss: 0.8238 - accuracy: 0.6985 - val_loss: 0.9824 - val_accuracy: 0.6402\n",
      "Epoch 57/100\n",
      "868/868 [==============================] - 16s 18ms/step - loss: 0.8215 - accuracy: 0.6984 - val_loss: 0.9840 - val_accuracy: 0.6403\n",
      "Epoch 58/100\n",
      "868/868 [==============================] - 16s 19ms/step - loss: 0.8176 - accuracy: 0.7004 - val_loss: 0.9858 - val_accuracy: 0.6392\n",
      "Epoch 59/100\n",
      "868/868 [==============================] - 16s 18ms/step - loss: 0.8156 - accuracy: 0.7008 - val_loss: 0.9879 - val_accuracy: 0.6398\n",
      "Epoch 60/100\n",
      "868/868 [==============================] - 16s 18ms/step - loss: 0.8136 - accuracy: 0.7019 - val_loss: 0.9850 - val_accuracy: 0.6396\n",
      "Epoch 61/100\n",
      "868/868 [==============================] - 16s 18ms/step - loss: 0.8092 - accuracy: 0.7035 - val_loss: 0.9886 - val_accuracy: 0.6406\n",
      "Epoch 62/100\n",
      "868/868 [==============================] - 16s 19ms/step - loss: 0.8070 - accuracy: 0.7039 - val_loss: 0.9860 - val_accuracy: 0.6404\n",
      "Epoch 63/100\n",
      "868/868 [==============================] - 16s 18ms/step - loss: 0.8050 - accuracy: 0.7058 - val_loss: 0.9872 - val_accuracy: 0.6424\n",
      "Epoch 64/100\n",
      "868/868 [==============================] - 16s 18ms/step - loss: 0.8024 - accuracy: 0.7061 - val_loss: 0.9865 - val_accuracy: 0.6399\n",
      "Epoch 65/100\n",
      "868/868 [==============================] - 16s 18ms/step - loss: 0.7999 - accuracy: 0.7080 - val_loss: 0.9875 - val_accuracy: 0.6411\n",
      "Epoch 66/100\n",
      "868/868 [==============================] - 16s 18ms/step - loss: 0.7990 - accuracy: 0.7083 - val_loss: 0.9857 - val_accuracy: 0.6421\n",
      "Epoch 67/100\n",
      "868/868 [==============================] - 16s 18ms/step - loss: 0.7961 - accuracy: 0.7091 - val_loss: 0.9850 - val_accuracy: 0.6424\n",
      "Epoch 68/100\n",
      "868/868 [==============================] - 16s 18ms/step - loss: 0.7938 - accuracy: 0.7102 - val_loss: 0.9873 - val_accuracy: 0.6417\n",
      "Epoch 69/100\n",
      "868/868 [==============================] - 16s 18ms/step - loss: 0.7902 - accuracy: 0.7105 - val_loss: 0.9855 - val_accuracy: 0.6432\n",
      "Epoch 70/100\n",
      "868/868 [==============================] - 16s 19ms/step - loss: 0.7871 - accuracy: 0.7131 - val_loss: 0.9860 - val_accuracy: 0.6429\n",
      "Epoch 71/100\n",
      "868/868 [==============================] - 16s 19ms/step - loss: 0.7871 - accuracy: 0.7124 - val_loss: 0.9880 - val_accuracy: 0.6424\n",
      "Epoch 72/100\n",
      "868/868 [==============================] - 16s 19ms/step - loss: 0.7826 - accuracy: 0.7146 - val_loss: 0.9902 - val_accuracy: 0.6427\n",
      "Epoch 73/100\n",
      "868/868 [==============================] - 16s 18ms/step - loss: 0.7808 - accuracy: 0.7145 - val_loss: 0.9886 - val_accuracy: 0.6432\n",
      "Epoch 74/100\n",
      "868/868 [==============================] - 16s 18ms/step - loss: 0.7786 - accuracy: 0.7165 - val_loss: 0.9915 - val_accuracy: 0.6440\n",
      "Epoch 75/100\n",
      "868/868 [==============================] - 16s 19ms/step - loss: 0.7766 - accuracy: 0.7167 - val_loss: 0.9885 - val_accuracy: 0.6432\n",
      "Epoch 76/100\n",
      "868/868 [==============================] - 16s 19ms/step - loss: 0.7738 - accuracy: 0.7183 - val_loss: 0.9895 - val_accuracy: 0.6441\n",
      "Epoch 77/100\n",
      "868/868 [==============================] - 16s 19ms/step - loss: 0.7717 - accuracy: 0.7186 - val_loss: 0.9893 - val_accuracy: 0.6449\n",
      "Epoch 78/100\n",
      "868/868 [==============================] - 16s 18ms/step - loss: 0.7671 - accuracy: 0.7204 - val_loss: 0.9914 - val_accuracy: 0.6437\n",
      "Epoch 79/100\n",
      "868/868 [==============================] - 16s 18ms/step - loss: 0.7664 - accuracy: 0.7212 - val_loss: 0.9920 - val_accuracy: 0.6437\n",
      "Epoch 80/100\n",
      "868/868 [==============================] - 16s 19ms/step - loss: 0.7649 - accuracy: 0.7209 - val_loss: 0.9934 - val_accuracy: 0.6444\n",
      "Epoch 81/100\n",
      "868/868 [==============================] - 16s 19ms/step - loss: 0.7629 - accuracy: 0.7227 - val_loss: 0.9947 - val_accuracy: 0.6442\n",
      "Epoch 82/100\n",
      "868/868 [==============================] - 16s 19ms/step - loss: 0.7605 - accuracy: 0.7226 - val_loss: 0.9956 - val_accuracy: 0.6448\n",
      "Epoch 83/100\n",
      "868/868 [==============================] - 16s 19ms/step - loss: 0.7589 - accuracy: 0.7236 - val_loss: 0.9939 - val_accuracy: 0.6446\n",
      "Epoch 84/100\n",
      "868/868 [==============================] - 16s 19ms/step - loss: 0.7553 - accuracy: 0.7253 - val_loss: 0.9984 - val_accuracy: 0.6437\n",
      "Epoch 85/100\n",
      "868/868 [==============================] - 16s 19ms/step - loss: 0.7548 - accuracy: 0.7251 - val_loss: 0.9981 - val_accuracy: 0.6437\n",
      "Epoch 86/100\n",
      "868/868 [==============================] - 16s 19ms/step - loss: 0.7524 - accuracy: 0.7267 - val_loss: 0.9972 - val_accuracy: 0.6443\n",
      "Epoch 87/100\n",
      "868/868 [==============================] - 16s 19ms/step - loss: 0.7510 - accuracy: 0.7266 - val_loss: 0.9976 - val_accuracy: 0.6453\n",
      "Epoch 88/100\n",
      "868/868 [==============================] - 16s 18ms/step - loss: 0.7493 - accuracy: 0.7276 - val_loss: 0.9995 - val_accuracy: 0.6446\n",
      "Epoch 89/100\n",
      "868/868 [==============================] - 16s 19ms/step - loss: 0.7462 - accuracy: 0.7286 - val_loss: 1.0022 - val_accuracy: 0.6447\n",
      "Epoch 90/100\n",
      "868/868 [==============================] - 16s 18ms/step - loss: 0.7435 - accuracy: 0.7300 - val_loss: 0.9993 - val_accuracy: 0.6447\n",
      "Epoch 91/100\n",
      "868/868 [==============================] - 16s 19ms/step - loss: 0.7412 - accuracy: 0.7310 - val_loss: 0.9979 - val_accuracy: 0.6473\n",
      "Epoch 92/100\n",
      "868/868 [==============================] - 16s 19ms/step - loss: 0.7397 - accuracy: 0.7319 - val_loss: 1.0010 - val_accuracy: 0.6457\n",
      "Epoch 93/100\n",
      "868/868 [==============================] - 16s 19ms/step - loss: 0.7381 - accuracy: 0.7328 - val_loss: 1.0037 - val_accuracy: 0.6461\n",
      "Epoch 94/100\n",
      "868/868 [==============================] - 16s 18ms/step - loss: 0.7359 - accuracy: 0.7330 - val_loss: 1.0035 - val_accuracy: 0.6462\n",
      "Epoch 95/100\n",
      "868/868 [==============================] - 16s 19ms/step - loss: 0.7346 - accuracy: 0.7341 - val_loss: 1.0065 - val_accuracy: 0.6461\n",
      "Epoch 96/100\n",
      "868/868 [==============================] - 16s 19ms/step - loss: 0.7335 - accuracy: 0.7346 - val_loss: 1.0065 - val_accuracy: 0.6451\n",
      "Epoch 97/100\n",
      "868/868 [==============================] - 16s 19ms/step - loss: 0.7288 - accuracy: 0.7360 - val_loss: 1.0076 - val_accuracy: 0.6455\n",
      "Epoch 98/100\n",
      "868/868 [==============================] - 16s 19ms/step - loss: 0.7285 - accuracy: 0.7359 - val_loss: 1.0096 - val_accuracy: 0.6457\n",
      "Epoch 99/100\n",
      "868/868 [==============================] - 16s 18ms/step - loss: 0.7271 - accuracy: 0.7358 - val_loss: 1.0110 - val_accuracy: 0.6458\n",
      "Epoch 100/100\n",
      "868/868 [==============================] - 16s 18ms/step - loss: 0.7259 - accuracy: 0.7374 - val_loss: 1.0111 - val_accuracy: 0.6457\n"
     ]
    }
   ],
   "source": [
    "epochs = 100\n",
    "model_output = 'models/lstm.h5'\n",
    "\n",
    "callbacks = [keras.callbacks.ModelCheckpoint(model_output, save_best_only=True, monitor=\"val_loss\"),\n",
    "             keras.callbacks.EarlyStopping(monitor=\"val_loss\", patience=50, verbose=1),]\n",
    "\n",
    "history = lstm_model.fit(train_ds,\n",
    "                         validation_data=val_ds,\n",
    "                         epochs=epochs,\n",
    "                         callbacks=callbacks,\n",
    "                         verbose=1)"
   ]
  },
  {
   "cell_type": "code",
   "execution_count": 57,
   "metadata": {},
   "outputs": [
    {
     "data": {
      "image/png": "[encoded data removed]",
      "text/plain": [
       "<Figure size 432x288 with 1 Axes>"
      ]
     },
     "metadata": {
      "needs_background": "light"
     },
     "output_type": "display_data"
    },
    {
     "data": {
      "image/png": "[encoded data removed]",
      "text/plain": [
       "<Figure size 432x288 with 1 Axes>"
      ]
     },
     "metadata": {
      "needs_background": "light"
     },
     "output_type": "display_data"
    }
   ],
   "source": [
    "# summarize history for accuracy\n",
    "plt.plot(history.history['accuracy'])\n",
    "plt.plot(history.history['val_accuracy'])\n",
    "plt.title('model accuracy')\n",
    "plt.ylabel('accuracy')\n",
    "plt.xlabel('epoch')\n",
    "plt.legend(['train', 'test'], loc='upper left')\n",
    "plt.show()\n",
    "\n",
    "# summarize history for loss\n",
    "plt.plot(history.history['loss'])\n",
    "plt.plot(history.history['val_loss'])\n",
    "plt.title('model loss')\n",
    "plt.ylabel('loss')\n",
    "plt.xlabel('epoch')\n",
    "plt.legend(['train', 'test'], loc='upper left')\n",
    "plt.show()"
   ]
  },
  {
   "cell_type": "code",
   "execution_count": 58,
   "metadata": {},
   "outputs": [
    {
     "name": "stdout",
     "output_type": "stream",
     "text": [
      "32070/32070 [==============================] - 92s 3ms/step - loss: 1.0602 - accuracy: 0.6354\n"
     ]
    },
    {
     "data": {
      "text/plain": [
       "[1.060244083404541, 0.635391354560852]"
      ]
     },
     "execution_count": 58,
     "metadata": {},
     "output_type": "execute_result"
    }
   ],
   "source": [
    "# lstm_model = tf.keras.models.load_model('models/lstm.h5')\n",
    "lstm_model.evaluate(test_ds)"
   ]
  },
  {
   "cell_type": "code",
   "execution_count": 59,
   "metadata": {},
   "outputs": [],
   "source": [
    "preds = lstm_model.predict(test_ds)"
   ]
  },
  {
   "cell_type": "code",
   "execution_count": 60,
   "metadata": {},
   "outputs": [
    {
     "data": {
      "text/plain": [
       "0.6856875584658559"
      ]
     },
     "execution_count": 60,
     "metadata": {},
     "output_type": "execute_result"
    }
   ],
   "source": [
    "# Get aggregated predictions\n",
    "y_pred = get_max_preds(preds)\n",
    "accuracy_score(y_true, y_pred)"
   ]
  },
  {
   "cell_type": "code",
   "execution_count": 61,
   "metadata": {},
   "outputs": [
    {
     "data": {
      "text/plain": [
       "0.6856875584658559"
      ]
     },
     "execution_count": 61,
     "metadata": {},
     "output_type": "execute_result"
    }
   ],
   "source": [
    "# Get aggregated predictions\n",
    "y_pred = get_max_preds(preds)\n",
    "accuracy_score(y_true, y_pred)"
   ]
  },
  {
   "cell_type": "code",
   "execution_count": 62,
   "metadata": {},
   "outputs": [
    {
     "name": "stdout",
     "output_type": "stream",
     "text": [
      "              precision    recall  f1-score   support\n",
      "\n",
      "        NORM      0.735     0.946     0.827       921\n",
      "          MI      0.529     0.606     0.565       406\n",
      "        STTC      0.727     0.501     0.594       351\n",
      "         HYP      0.492     0.288     0.364       111\n",
      "          CD      0.779     0.404     0.532       349\n",
      "\n",
      "    accuracy                          0.686      2138\n",
      "   macro avg      0.653     0.549     0.576      2138\n",
      "weighted avg      0.689     0.686     0.667      2138\n",
      "\n"
     ]
    }
   ],
   "source": [
    "print(classification_report(y_true, y_pred, digits=3, target_names=label_list, zero_division=0))"
   ]
  },
  {
   "cell_type": "markdown",
   "metadata": {},
   "source": [
    "# Model 5: Ensemble"
   ]
  },
  {
   "cell_type": "code",
   "execution_count": 63,
   "metadata": {},
   "outputs": [],
   "source": [
    "resnet_model = tf.keras.models.load_model('models/resnet.h5')\n",
    "inception_model = tf.keras.models.load_model('models/inception.h5')\n",
    "# lstm_model = tf.keras.models.load_model('models/lstm.h5')"
   ]
  },
  {
   "cell_type": "code",
   "execution_count": 64,
   "metadata": {},
   "outputs": [
    {
     "name": "stdout",
     "output_type": "stream",
     "text": [
      "Model: \"model_2\"\n",
      "__________________________________________________________________________________________________\n",
      " Layer (type)                   Output Shape         Param #     Connected to                     \n",
      "==================================================================================================\n",
      " input_4 (InputLayer)           [(None, 12, 250)]    0           []                               \n",
      "                                                                                                  \n",
      " model (Functional)             (None, 5)            650629      ['input_4[0][0]']                \n",
      "                                                                                                  \n",
      " model_1 (Functional)           (None, 5)            106421      ['input_4[0][0]']                \n",
      "                                                                                                  \n",
      " sequential_2 (Sequential)      (None, 5)            261637      ['input_4[0][0]']                \n",
      "                                                                                                  \n",
      " average (Average)              (None, 5)            0           ['model[0][0]',                  \n",
      "                                                                  'model_1[0][0]',                \n",
      "                                                                  'sequential_2[0][0]']           \n",
      "                                                                                                  \n",
      "==================================================================================================\n",
      "Total params: 1,018,687\n",
      "Trainable params: 1,015,103\n",
      "Non-trainable params: 3,584\n",
      "__________________________________________________________________________________________________\n"
     ]
    }
   ],
   "source": [
    "models = [resnet_model, inception_model,lstm_model]\n",
    "model_input = tf.keras.Input(shape=input_shape)\n",
    "model_outputs = [model(model_input) for model in models]\n",
    "ensemble_output = tf.keras.layers.Average()(model_outputs)\n",
    "ensemble_model = tf.keras.Model(inputs=model_input, outputs=ensemble_output)\n",
    "\n",
    "opt = keras.optimizers.Adam(learning_rate=learning_rate)\n",
    "\n",
    "ensemble_model.compile(loss='sparse_categorical_crossentropy',\n",
    "                          metrics=['accuracy'],\n",
    "                          optimizer=opt)\n",
    "\n",
    "ensemble_model.summary()"
   ]
  },
  {
   "cell_type": "code",
   "execution_count": 65,
   "metadata": {},
   "outputs": [
    {
     "name": "stdout",
     "output_type": "stream",
     "text": [
      "32070/32070 [==============================] - 186s 6ms/step - loss: 0.9092 - accuracy: 0.6567\n"
     ]
    },
    {
     "data": {
      "text/plain": [
       "[0.909203052520752, 0.6566885113716125]"
      ]
     },
     "execution_count": 65,
     "metadata": {},
     "output_type": "execute_result"
    }
   ],
   "source": [
    "ensemble_model.evaluate(test_ds)"
   ]
  },
  {
   "cell_type": "code",
   "execution_count": 66,
   "metadata": {},
   "outputs": [],
   "source": [
    "preds = resnet_model.predict(test_ds)"
   ]
  },
  {
   "cell_type": "code",
   "execution_count": 67,
   "metadata": {},
   "outputs": [
    {
     "data": {
      "text/plain": [
       "0.6632366697848456"
      ]
     },
     "execution_count": 67,
     "metadata": {},
     "output_type": "execute_result"
    }
   ],
   "source": [
    "# Get aggregated predictions\n",
    "y_pred = get_max_preds(preds)\n",
    "accuracy_score(y_true, y_pred)"
   ]
  },
  {
   "cell_type": "code",
   "execution_count": 68,
   "metadata": {},
   "outputs": [
    {
     "name": "stdout",
     "output_type": "stream",
     "text": [
      "              precision    recall  f1-score   support\n",
      "\n",
      "        NORM      0.723     0.948     0.820       921\n",
      "          MI      0.543     0.470     0.504       406\n",
      "        STTC      0.613     0.487     0.543       351\n",
      "         HYP      0.402     0.387     0.394       111\n",
      "          CD      0.729     0.401     0.518       349\n",
      "\n",
      "    accuracy                          0.663      2138\n",
      "   macro avg      0.602     0.539     0.556      2138\n",
      "weighted avg      0.655     0.663     0.643      2138\n",
      "\n"
     ]
    }
   ],
   "source": [
    "print(classification_report(y_true, y_pred, digits=3, target_names=label_list, zero_division=0))"
   ]
  }
 ],
 "metadata": {
  "kernelspec": {
   "display_name": "Tensorflow 2.8.0/Keras Py3.9",
   "language": "python",
   "name": "tensorflow-2.8.0"
  },
  "language_info": {
   "codemirror_mode": {
    "name": "ipython",
    "version": 3
   },
   "file_extension": ".py",
   "mimetype": "text/x-python",
   "name": "python",
   "nbconvert_exporter": "python",
   "pygments_lexer": "ipython3",
   "version": "3.9.10"
  }
 },
 "nbformat": 4,
 "nbformat_minor": 5
}

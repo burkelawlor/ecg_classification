{
 "cells": [
  {
   "cell_type": "code",
   "execution_count": 27,
   "id": "58e81cec-7e80-493f-a76e-fefd30f46e4a",
   "metadata": {},
   "outputs": [
    {
     "name": "stdout",
     "output_type": "stream",
     "text": [
      "Num GPUs Available:  1\n",
      "Device mapping:\n",
      "/job:localhost/replica:0/task:0/device:GPU:0 -> device: 0, name: GeForce GTX 1060, pci bus id: 0000:01:00.0, compute capability: 6.1\n",
      "\n"
     ]
    }
   ],
   "source": [
    "import pandas as pd\n",
    "import numpy as np\n",
    "import os\n",
    "import wfdb\n",
    "import ast\n",
    "\n",
    "import tensorflow as tf\n",
    "from tensorflow import keras\n",
    "print(\"Num GPUs Available: \", len(tf.config.list_physical_devices('GPU')))\n",
    "sess = tf.compat.v1.Session(config=tf.compat.v1.ConfigProto(log_device_placement=True))"
   ]
  },
  {
   "cell_type": "markdown",
   "id": "57b4ee6d-cf52-4a06-9b6d-a6678e30d85b",
   "metadata": {},
   "source": [
    "# Load in Data"
   ]
  },
  {
   "cell_type": "code",
   "execution_count": 2,
   "id": "161c2804-9530-4267-806c-85452c6e9809",
   "metadata": {},
   "outputs": [],
   "source": [
    "data_path = 'C:\\\\Users\\\\burke\\\\Documents\\\\data\\\\ptb_xl'\n",
    "\n",
    "database = pd.read_csv(os.path.join(data_path,'ptbxl_database.csv'))\n",
    "scp_statements = pd.read_csv(os.path.join(data_path,'scp_statements.csv'))"
   ]
  },
  {
   "cell_type": "markdown",
   "id": "9e5fb3f6-c2ec-449b-9cbd-566a4300150d",
   "metadata": {},
   "source": [
    "# Get diagnostic labels"
   ]
  },
  {
   "cell_type": "code",
   "execution_count": 1,
   "id": "da49b897-fc42-4b9d-99ea-844210b5ce18",
   "metadata": {},
   "outputs": [],
   "source": [
    "def spc_to_diag(spc_codes, subclass=False):\n",
    "    ''' \n",
    "    Function that returns the diagnostic label of the highest SPC codes as given in the PTB_XL database.\n",
    "    \n",
    "    SPC codes are labelled in a dictionary with probabilities of being that label\n",
    "     ex. {'NORM': 100.0, 'LVOLT': 0.0, 'SR': 0.0}\n",
    "    spc_statements.csv provides alookup to convert spc codes to diagnostic label\n",
    "    \n",
    "    INPUTS: \n",
    "        spc_codes: string of spc_code dictionary as in the spc_codes column of the ptbxl_databse\n",
    "        subclass: returns superclass if TRUE, subclass if FALSE \n",
    "    ''' \n",
    "    \n",
    "    # Convert string to dictionary\n",
    "    codes = ast.literal_eval(spc_codes)\n",
    "    \n",
    "    # Take the key that has the highest value\n",
    "    max_code = max(codes, key=codes.get)\n",
    "\n",
    "    # Convert the maximum spc code to the diganostic class\n",
    "    if not subclass:\n",
    "        diagnosis = scp_statements[scp_statements.iloc[:,0] == max_code]['diagnostic_class'].item()\n",
    "    else:\n",
    "        diagnosis = scp_statements[scp_statements.iloc[:,0] == max_code]['diagnostic_subclass'].item()\n",
    "\n",
    "    return diagnosis"
   ]
  },
  {
   "cell_type": "code",
   "execution_count": 4,
   "id": "5cab80c3-4ada-4043-a59d-aae7c3a12d4f",
   "metadata": {},
   "outputs": [],
   "source": [
    "superclasses = database['scp_codes'].apply(spc_to_diag)\n",
    "subclasses = database['scp_codes'].apply(spc_to_diag, subclass=True)"
   ]
  },
  {
   "cell_type": "code",
   "execution_count": 111,
   "id": "38a13913-a34d-47c6-b464-c5f399809356",
   "metadata": {},
   "outputs": [
    {
     "data": {
      "text/html": [
       "<div>\n",
       "<style scoped>\n",
       "    .dataframe tbody tr th:only-of-type {\n",
       "        vertical-align: middle;\n",
       "    }\n",
       "\n",
       "    .dataframe tbody tr th {\n",
       "        vertical-align: top;\n",
       "    }\n",
       "\n",
       "    .dataframe thead th {\n",
       "        text-align: right;\n",
       "    }\n",
       "</style>\n",
       "<table border=\"1\" class=\"dataframe\">\n",
       "  <thead>\n",
       "    <tr style=\"text-align: right;\">\n",
       "      <th></th>\n",
       "      <th>class</th>\n",
       "      <th>subclass</th>\n",
       "      <th>strat_fold</th>\n",
       "      <th>filename_lr</th>\n",
       "      <th>filename_hr</th>\n",
       "    </tr>\n",
       "  </thead>\n",
       "  <tbody>\n",
       "    <tr>\n",
       "      <th>0</th>\n",
       "      <td>NORM</td>\n",
       "      <td>NORM</td>\n",
       "      <td>3</td>\n",
       "      <td>records100/00000/00001_lr</td>\n",
       "      <td>records500/00000/00001_hr</td>\n",
       "    </tr>\n",
       "    <tr>\n",
       "      <th>1</th>\n",
       "      <td>NORM</td>\n",
       "      <td>NORM</td>\n",
       "      <td>2</td>\n",
       "      <td>records100/00000/00002_lr</td>\n",
       "      <td>records500/00000/00002_hr</td>\n",
       "    </tr>\n",
       "    <tr>\n",
       "      <th>2</th>\n",
       "      <td>NORM</td>\n",
       "      <td>NORM</td>\n",
       "      <td>5</td>\n",
       "      <td>records100/00000/00003_lr</td>\n",
       "      <td>records500/00000/00003_hr</td>\n",
       "    </tr>\n",
       "    <tr>\n",
       "      <th>3</th>\n",
       "      <td>NORM</td>\n",
       "      <td>NORM</td>\n",
       "      <td>3</td>\n",
       "      <td>records100/00000/00004_lr</td>\n",
       "      <td>records500/00000/00004_hr</td>\n",
       "    </tr>\n",
       "    <tr>\n",
       "      <th>4</th>\n",
       "      <td>NORM</td>\n",
       "      <td>NORM</td>\n",
       "      <td>4</td>\n",
       "      <td>records100/00000/00005_lr</td>\n",
       "      <td>records500/00000/00005_hr</td>\n",
       "    </tr>\n",
       "  </tbody>\n",
       "</table>\n",
       "</div>"
      ],
      "text/plain": [
       "  class subclass  strat_fold                filename_lr  \\\n",
       "0  NORM     NORM           3  records100/00000/00001_lr   \n",
       "1  NORM     NORM           2  records100/00000/00002_lr   \n",
       "2  NORM     NORM           5  records100/00000/00003_lr   \n",
       "3  NORM     NORM           3  records100/00000/00004_lr   \n",
       "4  NORM     NORM           4  records100/00000/00005_lr   \n",
       "\n",
       "                 filename_hr  \n",
       "0  records500/00000/00001_hr  \n",
       "1  records500/00000/00002_hr  \n",
       "2  records500/00000/00003_hr  \n",
       "3  records500/00000/00004_hr  \n",
       "4  records500/00000/00005_hr  "
      ]
     },
     "execution_count": 111,
     "metadata": {},
     "output_type": "execute_result"
    }
   ],
   "source": [
    "keep = ['strat_fold', 'filename_lr', 'filename_hr']\n",
    "database = database[keep]\n",
    "database.insert(0, 'class', superclasses)\n",
    "database.insert(1, 'subclass', subclasses)\n",
    "\n",
    "database = database.dropna(axis=0)\n",
    "\n",
    "database.head()"
   ]
  },
  {
   "cell_type": "markdown",
   "id": "ed981ca6-2fb0-42f9-a1f7-0550a37de95f",
   "metadata": {},
   "source": [
    "## Dealing with dignositc labels"
   ]
  },
  {
   "cell_type": "markdown",
   "id": "0cc31152-d859-48cb-9bde-e831178e3d29",
   "metadata": {},
   "source": [
    "# Get ECG Data"
   ]
  },
  {
   "cell_type": "code",
   "execution_count": 112,
   "id": "6571c014-efd8-4fb4-b454-a9adbc3fbdae",
   "metadata": {},
   "outputs": [],
   "source": [
    "def get_ecg_data(filename, data_path):\n",
    "    \n",
    "    record = wfdb.rdrecord(os.path.join(data_path,filename))\n",
    "    record = record.p_signal\n",
    "    record = record.astype(np.float64)\n",
    "    \n",
    "    return record"
   ]
  },
  {
   "cell_type": "code",
   "execution_count": 113,
   "id": "749d6726-7c21-4d6b-8724-b0886d91188c",
   "metadata": {},
   "outputs": [
    {
     "data": {
      "text/plain": [
       "0        [[-0.119, -0.055, 0.064, 0.086, -0.091, 0.004,...\n",
       "1        [[0.004, 0.138, 0.134, -0.072, -0.065, 0.136, ...\n",
       "2        [[-0.029, -0.079, -0.049, 0.054, 0.011, -0.064...\n",
       "3        [[-0.054, -0.138, -0.083, 0.096, 0.015, -0.11,...\n",
       "4        [[-0.034, -0.574, -0.54, 0.304, 0.253, -0.556,...\n",
       "                               ...                        \n",
       "21832    [[-0.052, -0.034, 0.018, 0.043, -0.034, -0.008...\n",
       "21833    [[-0.05, -0.013, 0.036, 0.031, -0.042, 0.011, ...\n",
       "21834    [[0.038, 0.024, -0.014, -0.03, 0.026, 0.005, 0...\n",
       "21835    [[-0.057, -0.057, 0.0, 0.057, -0.028, -0.028, ...\n",
       "21836    [[-0.049, -0.025, 0.024, 0.037, -0.036, 0.0, 0...\n",
       "Name: filename_lr, Length: 21181, dtype: object"
      ]
     },
     "execution_count": 113,
     "metadata": {},
     "output_type": "execute_result"
    }
   ],
   "source": [
    "filenames = database['filename_lr']\n",
    "data_path = 'C:\\\\Users\\\\burke\\\\Documents\\\\data\\\\ptb_xl'\n",
    "\n",
    "ecg_data = filenames.apply(get_ecg_data, data_path = data_path)\n",
    "ecg_data"
   ]
  },
  {
   "cell_type": "markdown",
   "id": "b822b69e-ec70-42b4-8713-32bd7b202a49",
   "metadata": {},
   "source": [
    "# Convert to Pickle"
   ]
  },
  {
   "cell_type": "code",
   "execution_count": null,
   "id": "9a259140-288d-4ed7-b885-9b6c3bc9bde7",
   "metadata": {
    "tags": []
   },
   "outputs": [],
   "source": [
    "data_path = 'C:\\\\Users\\\\burke\\\\Documents\\\\data\\\\ptb_xl'\n",
    "\n",
    "ecg_data.to_pickle(os.path.joing(data_path,'ecg_data.pkl'))\n",
    "database.to_pickle(os.path.joing(data_path,'database.pkl'))"
   ]
  }
 ],
 "metadata": {
  "kernelspec": {
   "display_name": "Python 3 (ipykernel)",
   "language": "python",
   "name": "python3"
  },
  "language_info": {
   "codemirror_mode": {
    "name": "ipython",
    "version": 3
   },
   "file_extension": ".py",
   "mimetype": "text/x-python",
   "name": "python",
   "nbconvert_exporter": "python",
   "pygments_lexer": "ipython3",
   "version": "3.8.8"
  }
 },
 "nbformat": 4,
 "nbformat_minor": 5
}

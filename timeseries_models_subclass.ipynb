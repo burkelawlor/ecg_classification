{
 "cells": [
  {
   "cell_type": "code",
   "execution_count": 14,
   "metadata": {},
   "outputs": [
    {
     "name": "stdout",
     "output_type": "stream",
     "text": [
      "Num GPU Available:  2\n",
      "Device mapping:\n",
      "/job:localhost/replica:0/task:0/device:GPU:0 -> device: 0, name: GeForce RTX 2080 Ti, pci bus id: 0000:41:00.0, compute capability: 7.5\n",
      "/job:localhost/replica:0/task:0/device:GPU:1 -> device: 1, name: GeForce RTX 2080 Ti, pci bus id: 0000:61:00.0, compute capability: 7.5\n",
      "\n"
     ]
    },
    {
     "name": "stderr",
     "output_type": "stream",
     "text": [
      "2022-05-04 14:11:14.044602: I tensorflow/core/common_runtime/gpu/gpu_device.cc:1525] Created device /job:localhost/replica:0/task:0/device:GPU:0 with 9644 MB memory:  -> device: 0, name: GeForce RTX 2080 Ti, pci bus id: 0000:41:00.0, compute capability: 7.5\n",
      "2022-05-04 14:11:14.046037: I tensorflow/core/common_runtime/gpu/gpu_device.cc:1525] Created device /job:localhost/replica:0/task:0/device:GPU:1 with 9644 MB memory:  -> device: 1, name: GeForce RTX 2080 Ti, pci bus id: 0000:61:00.0, compute capability: 7.5\n"
     ]
    }
   ],
   "source": [
    "import pandas as pd\n",
    "import numpy as np\n",
    "import os\n",
    "from sklearn.metrics import confusion_matrix\n",
    "from sklearn.metrics import accuracy_score\n",
    "from sklearn.metrics import classification_report\n",
    "import matplotlib.pyplot as plt\n",
    "import seaborn as sns\n",
    "\n",
    "import tensorflow as tf\n",
    "from tensorflow import keras\n",
    "\n",
    "np.random.seed(42)\n",
    "tf.random.set_seed(42)\n",
    "\n",
    "print(\"Num GPU Available: \", len(tf.config.list_physical_devices('GPU')))\n",
    "sess = tf.compat.v1.Session(config=tf.compat.v1.ConfigProto(log_device_placement=True))"
   ]
  },
  {
   "cell_type": "markdown",
   "metadata": {},
   "source": [
    "# Evalutaion Stuff"
   ]
  },
  {
   "cell_type": "markdown",
   "metadata": {},
   "source": [
    "## Function to aggregate windowed predictions"
   ]
  },
  {
   "cell_type": "code",
   "execution_count": 127,
   "metadata": {},
   "outputs": [],
   "source": [
    "def get_max_preds(preds, window_size=15):\n",
    "    '''\n",
    "    Aggregates every window_size predictions by summing probabilites of each\n",
    "    Returns the class/index with the highest summed prediction\n",
    "    '''\n",
    "    final_preds = []\n",
    "    for i in range(len(preds)//window_size):\n",
    "        aggregated_preds = []\n",
    "        for j in range(window_size):\n",
    "            idx = i*window_size+j                                 # get indices for windows within whole record\n",
    "            aggregated_preds.append(preds[idx])                   # append windows to list\n",
    "        summed_preds = np.sum(np.array(aggregated_preds), axis=0) # sum aggregated predicions\n",
    "        final_preds.append(np.argmax(summed_preds))               # get index of highest prediction and append to list\n",
    "    return final_preds"
   ]
  },
  {
   "cell_type": "code",
   "execution_count": 93,
   "metadata": {
    "jupyter": {
     "source_hidden": true
    }
   },
   "outputs": [],
   "source": [
    "# def get_max_preds(preds):\n",
    "#     '''\n",
    "#     Aggregates window level predictions by taking class that is predicted (highest probability) the most often\n",
    "#     '''\n",
    "#     final_preds = []\n",
    "#     for i in range(len(preds)//15):\n",
    "#         record_preds = []\n",
    "#         for j in range(15):\n",
    "#             idx = i*15+j\n",
    "#             record_preds.append(np.argmax(preds[idx]))\n",
    "#         pred = np.argmax(np.bincount(record_preds))\n",
    "#         final_preds.append(pred)\n",
    "#     return final_preds"
   ]
  },
  {
   "cell_type": "markdown",
   "metadata": {},
   "source": [
    "## Read true labels for predictions"
   ]
  },
  {
   "cell_type": "code",
   "execution_count": 3,
   "metadata": {},
   "outputs": [],
   "source": [
    "path = '/project/GutIntelligenceLab/bwl3xy/ecg'\n",
    "os.chdir(path)"
   ]
  },
  {
   "cell_type": "code",
   "execution_count": 15,
   "metadata": {},
   "outputs": [],
   "source": [
    "# Get true labels\n",
    "database = pd.read_pickle('data/database.pkl')\n",
    "Y = np.array(database['class'])\n",
    "test_fold = [10] \n",
    "test_idx = np.where(np.isin(database['strat_fold'], test_fold))\n",
    "y_true  = list(Y[test_idx])"
   ]
  },
  {
   "cell_type": "code",
   "execution_count": 83,
   "metadata": {},
   "outputs": [],
   "source": [
    "## NOTE: SEHYP (20) removed from labels as there are no records of this class in the validation set\n",
    "\n",
    "label_map = {'NORM': 0,\n",
    "             'IMI': 1,\n",
    "             'STTC': 2,\n",
    "             'NST_': 3,\n",
    "             'LVH': 4,\n",
    "             'LAFB/LPFB': 5,\n",
    "             'IRBBB': 6,\n",
    "             'IVCD': 7,\n",
    "             'AMI': 8,\n",
    "             '_AVB': 9,\n",
    "             'ISCA': 10,\n",
    "             'ISCI': 11,\n",
    "             'CRBBB': 12,\n",
    "             'CLBBB': 13,\n",
    "             'RAO/RAE': 14,\n",
    "             'RVH': 15,\n",
    "             'ISC_': 16,\n",
    "             'ILBBB': 17,\n",
    "             'WPW': 18,\n",
    "             'LAO/LAE': 19,\n",
    "#              'SEHYP': 20,\n",
    "             'LMI': 21,\n",
    "             'PMI': 22}\n",
    "\n",
    "label_list = list(label_map.keys())"
   ]
  },
  {
   "cell_type": "markdown",
   "metadata": {
    "tags": []
   },
   "source": [
    "# Read in data from TFRecords"
   ]
  },
  {
   "cell_type": "code",
   "execution_count": 4,
   "metadata": {},
   "outputs": [],
   "source": [
    "def parse_ecg_tensor_from_TFR(TFRecord):\n",
    "    dataset = (tf.data.TFRecordDataset(TFRecord).map(lambda x: tf.io.parse_tensor(x, tf.double)))\n",
    "    dataset = dataset.map(lambda x: tf.reshape(x, [12,250]))\n",
    "    return dataset\n",
    "\n",
    "def parse_label_from_TFR(TFRecord):\n",
    "    dataset = (tf.data.TFRecordDataset(TFRecord).map(lambda x: tf.io.parse_tensor(x, tf.int64)))\n",
    "    dataset = dataset.map(lambda x: tf.reshape(x, []))\n",
    "    return dataset"
   ]
  },
  {
   "cell_type": "code",
   "execution_count": 6,
   "metadata": {},
   "outputs": [],
   "source": [
    "X_train_ds = parse_ecg_tensor_from_TFR('data/X_train.tfrecord')\n",
    "X_val_ds = parse_ecg_tensor_from_TFR('data/X_val.tfrecord')\n",
    "X_test_ds = parse_ecg_tensor_from_TFR('data/X_test.tfrecord')\n",
    "Y_train_ds = parse_label_from_TFR('data/Y_train.tfrecord')\n",
    "Y_val_ds = parse_label_from_TFR('data/Y_val.tfrecord')\n",
    "Y_test_ds = parse_label_from_TFR('data/Y_test.tfrecord')"
   ]
  },
  {
   "cell_type": "code",
   "execution_count": 22,
   "metadata": {},
   "outputs": [],
   "source": [
    "BATCH_SIZE = 256\n",
    "\n",
    "train_ds = tf.data.Dataset.zip((X_train_ds, Y_train_ds)).batch(BATCH_SIZE)\n",
    "val_ds = tf.data.Dataset.zip((X_val_ds, Y_val_ds)).batch(BATCH_SIZE)\n",
    "test_ds = tf.data.Dataset.zip((X_test_ds, Y_test_ds)).batch(1)"
   ]
  },
  {
   "cell_type": "code",
   "execution_count": 8,
   "metadata": {
    "tags": []
   },
   "outputs": [],
   "source": [
    "num_classes = 23\n",
    "input_shape = (12,250)"
   ]
  },
  {
   "cell_type": "markdown",
   "metadata": {
    "tags": []
   },
   "source": [
    "# Model 1: 1D Basic CNN"
   ]
  },
  {
   "cell_type": "code",
   "execution_count": 19,
   "metadata": {
    "tags": []
   },
   "outputs": [
    {
     "name": "stdout",
     "output_type": "stream",
     "text": [
      "Model: \"sequential_2\"\n",
      "_________________________________________________________________\n",
      " Layer (type)                Output Shape              Param #   \n",
      "=================================================================\n",
      " conv1d_6 (Conv1D)           (None, 12, 64)            48064     \n",
      "                                                                 \n",
      " batch_normalization_6 (Batc  (None, 12, 64)           256       \n",
      " hNormalization)                                                 \n",
      "                                                                 \n",
      " re_lu_6 (ReLU)              (None, 12, 64)            0         \n",
      "                                                                 \n",
      " conv1d_7 (Conv1D)           (None, 12, 64)            12352     \n",
      "                                                                 \n",
      " batch_normalization_7 (Batc  (None, 12, 64)           256       \n",
      " hNormalization)                                                 \n",
      "                                                                 \n",
      " re_lu_7 (ReLU)              (None, 12, 64)            0         \n",
      "                                                                 \n",
      " conv1d_8 (Conv1D)           (None, 12, 64)            12352     \n",
      "                                                                 \n",
      " batch_normalization_8 (Batc  (None, 12, 64)           256       \n",
      " hNormalization)                                                 \n",
      "                                                                 \n",
      " re_lu_8 (ReLU)              (None, 12, 64)            0         \n",
      "                                                                 \n",
      " global_average_pooling1d_2   (None, 64)               0         \n",
      " (GlobalAveragePooling1D)                                        \n",
      "                                                                 \n",
      " dense_2 (Dense)             (None, 23)                1495      \n",
      "                                                                 \n",
      "=================================================================\n",
      "Total params: 75,031\n",
      "Trainable params: 74,647\n",
      "Non-trainable params: 384\n",
      "_________________________________________________________________\n"
     ]
    }
   ],
   "source": [
    "model = keras.models.Sequential([\n",
    "    \n",
    "    keras.layers.Conv1D(filters=64, kernel_size=3, padding=\"same\", input_shape=input_shape),\n",
    "    keras.layers.BatchNormalization(),\n",
    "    keras.layers.ReLU(),\n",
    "\n",
    "    keras.layers.Conv1D(filters=64, kernel_size=3, padding=\"same\"),\n",
    "    keras.layers.BatchNormalization(),\n",
    "    keras.layers.ReLU(),\n",
    "\n",
    "    keras.layers.Conv1D(filters=64, kernel_size=3, padding=\"same\"),\n",
    "    keras.layers.BatchNormalization(),\n",
    "    keras.layers.ReLU(),\n",
    "\n",
    "    keras.layers.GlobalAveragePooling1D(),\n",
    "\n",
    "    keras.layers.Dense(num_classes, activation=\"softmax\")\n",
    "])\n",
    "\n",
    "model.build(input_shape)\n",
    "\n",
    "model.summary()"
   ]
  },
  {
   "cell_type": "code",
   "execution_count": 17,
   "metadata": {},
   "outputs": [],
   "source": [
    "model.compile(optimizer='adam',\n",
    "              loss='sparse_categorical_crossentropy',\n",
    "              metrics=['accuracy'])"
   ]
  },
  {
   "cell_type": "code",
   "execution_count": 11,
   "metadata": {
    "tags": []
   },
   "outputs": [
    {
     "name": "stdout",
     "output_type": "stream",
     "text": [
      "Epoch 1/15\n"
     ]
    },
    {
     "name": "stderr",
     "output_type": "stream",
     "text": [
      "2022-05-04 14:07:58.092863: I tensorflow/stream_executor/cuda/cuda_dnn.cc:368] Loaded cuDNN version 8101\n"
     ]
    },
    {
     "name": "stdout",
     "output_type": "stream",
     "text": [
      "868/868 [==============================] - 20s 15ms/step - loss: 1.8556 - accuracy: 0.4729 - val_loss: 1.7479 - val_accuracy: 0.4978\n",
      "Epoch 2/15\n",
      "868/868 [==============================] - 12s 14ms/step - loss: 1.6267 - accuracy: 0.5201 - val_loss: 1.6434 - val_accuracy: 0.5193\n",
      "Epoch 3/15\n",
      "868/868 [==============================] - 12s 14ms/step - loss: 1.5412 - accuracy: 0.5409 - val_loss: 1.5872 - val_accuracy: 0.5314\n",
      "Epoch 4/15\n",
      "868/868 [==============================] - 12s 14ms/step - loss: 1.4782 - accuracy: 0.5579 - val_loss: 1.5534 - val_accuracy: 0.5411\n",
      "Epoch 5/15\n",
      "868/868 [==============================] - 12s 14ms/step - loss: 1.4278 - accuracy: 0.5716 - val_loss: 1.5294 - val_accuracy: 0.5471\n",
      "Epoch 6/15\n",
      "868/868 [==============================] - 12s 14ms/step - loss: 1.3875 - accuracy: 0.5825 - val_loss: 1.5019 - val_accuracy: 0.5541\n",
      "Epoch 7/15\n",
      "868/868 [==============================] - 12s 14ms/step - loss: 1.3557 - accuracy: 0.5910 - val_loss: 1.4889 - val_accuracy: 0.5577\n",
      "Epoch 8/15\n",
      "868/868 [==============================] - 12s 14ms/step - loss: 1.3292 - accuracy: 0.5982 - val_loss: 1.4728 - val_accuracy: 0.5612\n",
      "Epoch 9/15\n",
      "868/868 [==============================] - 12s 14ms/step - loss: 1.3073 - accuracy: 0.6040 - val_loss: 1.4692 - val_accuracy: 0.5619\n",
      "Epoch 10/15\n",
      "868/868 [==============================] - 12s 14ms/step - loss: 1.2897 - accuracy: 0.6081 - val_loss: 1.4520 - val_accuracy: 0.5658\n",
      "Epoch 11/15\n",
      "868/868 [==============================] - 12s 14ms/step - loss: 1.2730 - accuracy: 0.6127 - val_loss: 1.4477 - val_accuracy: 0.5682\n",
      "Epoch 12/15\n",
      "868/868 [==============================] - 12s 14ms/step - loss: 1.2588 - accuracy: 0.6163 - val_loss: 1.4403 - val_accuracy: 0.5699\n",
      "Epoch 13/15\n",
      "868/868 [==============================] - 12s 14ms/step - loss: 1.2461 - accuracy: 0.6195 - val_loss: 1.4326 - val_accuracy: 0.5707\n",
      "Epoch 14/15\n",
      "868/868 [==============================] - 12s 14ms/step - loss: 1.2348 - accuracy: 0.6230 - val_loss: 1.4252 - val_accuracy: 0.5736\n",
      "Epoch 15/15\n",
      "868/868 [==============================] - 12s 14ms/step - loss: 1.2239 - accuracy: 0.6255 - val_loss: 1.4247 - val_accuracy: 0.5740\n"
     ]
    }
   ],
   "source": [
    "epochs = 30\n",
    "model_output = 'models/basic_cnn.h5'\n",
    "\n",
    "callbacks = [keras.callbacks.ModelCheckpoint(model_output, save_best_only=True, monitor=\"val_loss\"),\n",
    "#              keras.callbacks.ReduceLROnPlateau(monitor=\"val_loss\", factor=0.5, patience=20, min_lr=0.0001),\n",
    "             keras.callbacks.EarlyStopping(monitor=\"val_loss\", patience=50, verbose=1),]\n",
    "\n",
    "history = model.fit(train_ds,\n",
    "                    validation_data=val_ds,\n",
    "                    epochs=epochs,\n",
    "                    callbacks=callbacks,\n",
    "                    verbose=1)"
   ]
  },
  {
   "cell_type": "code",
   "execution_count": 18,
   "metadata": {},
   "outputs": [
    {
     "data": {
      "image/png": "[encoded data removed]",
      "text/plain": [
       "<Figure size 432x288 with 1 Axes>"
      ]
     },
     "metadata": {
      "needs_background": "light"
     },
     "output_type": "display_data"
    },
    {
     "data": {
      "image/png": "[encoded data removed]",
      "text/plain": [
       "<Figure size 432x288 with 1 Axes>"
      ]
     },
     "metadata": {
      "needs_background": "light"
     },
     "output_type": "display_data"
    }
   ],
   "source": [
    "# summarize history for accuracy\n",
    "plt.plot(history.history['accuracy'])\n",
    "plt.plot(history.history['val_accuracy'])\n",
    "plt.title('model accuracy')\n",
    "plt.ylabel('accuracy')\n",
    "plt.xlabel('epoch')\n",
    "plt.legend(['train', 'test'], loc='upper left')\n",
    "plt.show()\n",
    "\n",
    "# summarize history for loss\n",
    "plt.plot(history.history['loss'])\n",
    "plt.plot(history.history['val_loss'])\n",
    "plt.title('model loss')\n",
    "plt.ylabel('loss')\n",
    "plt.xlabel('epoch')\n",
    "plt.legend(['train', 'test'], loc='upper left')\n",
    "plt.show()"
   ]
  },
  {
   "cell_type": "code",
   "execution_count": 155,
   "metadata": {},
   "outputs": [],
   "source": [
    "# model = tf.keras.models.load_model('models/basic_cnn.h5')\n",
    "model.evaluate(test_ds)"
   ]
  },
  {
   "cell_type": "code",
   "execution_count": 156,
   "metadata": {},
   "outputs": [],
   "source": [
    "preds = model.predict(test_ds)"
   ]
  },
  {
   "cell_type": "code",
   "execution_count": 157,
   "metadata": {},
   "outputs": [
    {
     "data": {
      "text/plain": [
       "0.5944808231992517"
      ]
     },
     "execution_count": 157,
     "metadata": {},
     "output_type": "execute_result"
    }
   ],
   "source": [
    "# Get aggregated predictions\n",
    "y_pred = get_max_preds(preds)\n",
    "accuracy_score(y_true, y_pred)"
   ]
  },
  {
   "cell_type": "code",
   "execution_count": 158,
   "metadata": {},
   "outputs": [
    {
     "name": "stdout",
     "output_type": "stream",
     "text": [
      "              precision    recall  f1-score   support\n",
      "\n",
      "        NORM      0.703     0.936     0.803       921\n",
      "         IMI      0.380     0.420     0.399       207\n",
      "        STTC      0.378     0.541     0.445       181\n",
      "        NST_      0.000     0.000     0.000        46\n",
      "         LVH      0.430     0.490     0.458       100\n",
      "   LAFB/LPFB      0.619     0.148     0.239        88\n",
      "       IRBBB      0.417     0.160     0.231        94\n",
      "        IVCD      0.000     0.000     0.000        36\n",
      "         AMI      0.586     0.337     0.428       193\n",
      "        _AVB      0.000     0.000     0.000        23\n",
      "        ISCA      0.246     0.237     0.241        59\n",
      "        ISCI      0.000     0.000     0.000        18\n",
      "       CRBBB      0.744     0.674     0.707        43\n",
      "       CLBBB      0.867     0.736     0.796        53\n",
      "     RAO/RAE      0.000     0.000     0.000         4\n",
      "         RVH      0.000     0.000     0.000         3\n",
      "        ISC_      0.000     0.000     0.000        47\n",
      "       ILBBB      0.000     0.000     0.000         4\n",
      "         WPW      0.000     0.000     0.000         8\n",
      "     LAO/LAE      0.000     0.000     0.000         4\n",
      "         LMI      0.000     0.000     0.000         4\n",
      "         PMI      0.000     0.000     0.000         2\n",
      "\n",
      "    accuracy                          0.594      2138\n",
      "   macro avg      0.244     0.213     0.216      2138\n",
      "weighted avg      0.531     0.594     0.543      2138\n",
      "\n"
     ]
    }
   ],
   "source": [
    "print(classification_report(y_true, y_pred, digits=3, target_names=label_list, zero_division=0))"
   ]
  },
  {
   "cell_type": "markdown",
   "metadata": {
    "tags": []
   },
   "source": [
    "# Model 2: 1D Resnet\n",
    "adapted from: https://github.com/hfawaz/dl-4-tsc/blob/master/classifiers/resnet.py"
   ]
  },
  {
   "cell_type": "markdown",
   "metadata": {
    "tags": []
   },
   "source": [
    "when tuning start with learning rate->mini_batch_size -> momentum-> #hidden_units -> # learning_rate_decay -> #layers "
   ]
  },
  {
   "cell_type": "code",
   "execution_count": 137,
   "metadata": {},
   "outputs": [],
   "source": [
    "def resnet1d(input_shape, nb_classes, dropout_rate=0.25, learning_rate=0.0001):\n",
    "    \n",
    "    n_feature_maps = 64\n",
    "\n",
    "    input_layer = keras.layers.Input(input_shape)\n",
    "\n",
    "    # BLOCK 1\n",
    "    conv_x = keras.layers.Conv1D(filters=n_feature_maps, kernel_size=8, padding='same')(input_layer)\n",
    "    conv_x = keras.layers.BatchNormalization()(conv_x)\n",
    "    conv_x = keras.layers.Activation('relu')(conv_x)\n",
    "\n",
    "    conv_y = keras.layers.Conv1D(filters=n_feature_maps, kernel_size=5, padding='same')(conv_x)\n",
    "    conv_y = keras.layers.BatchNormalization()(conv_y)\n",
    "    conv_y = keras.layers.Activation('relu')(conv_y)\n",
    "\n",
    "    conv_z = keras.layers.Conv1D(filters=n_feature_maps, kernel_size=3, padding='same')(conv_y)\n",
    "    conv_z = keras.layers.BatchNormalization()(conv_z)\n",
    "\n",
    "    # expand channels for the sum\n",
    "    shortcut_y = keras.layers.Conv1D(filters=n_feature_maps, kernel_size=1, padding='same')(input_layer)\n",
    "    shortcut_y = keras.layers.BatchNormalization()(shortcut_y)\n",
    "\n",
    "    output_block_1 = keras.layers.add([shortcut_y, conv_z])\n",
    "    output_block_1 = keras.layers.Activation('relu')(output_block_1)\n",
    "    \n",
    "    output_block_1 = tf.keras.layers.Dropout(rate=dropout_rate)(output_block_1)\n",
    "\n",
    "    \n",
    "    # BLOCK 2\n",
    "    conv_x = keras.layers.Conv1D(filters=n_feature_maps * 2, kernel_size=8, padding='same')(output_block_1)\n",
    "    conv_x = keras.layers.BatchNormalization()(conv_x)\n",
    "    conv_x = keras.layers.Activation('relu')(conv_x)\n",
    "\n",
    "    conv_y = keras.layers.Conv1D(filters=n_feature_maps * 2, kernel_size=5, padding='same')(conv_x)\n",
    "    conv_y = keras.layers.BatchNormalization()(conv_y)\n",
    "    conv_y = keras.layers.Activation('relu')(conv_y)\n",
    "\n",
    "    conv_z = keras.layers.Conv1D(filters=n_feature_maps * 2, kernel_size=3, padding='same')(conv_y)\n",
    "    conv_z = keras.layers.BatchNormalization()(conv_z)\n",
    "\n",
    "    # expand channels for the sum\n",
    "    shortcut_y = keras.layers.Conv1D(filters=n_feature_maps * 2, kernel_size=1, padding='same')(output_block_1)\n",
    "    shortcut_y = keras.layers.BatchNormalization()(shortcut_y)\n",
    "\n",
    "    output_block_2 = keras.layers.add([shortcut_y, conv_z])\n",
    "    output_block_2 = keras.layers.Activation('relu')(output_block_2)\n",
    "    \n",
    "    output_block_2 = tf.keras.layers.Dropout(rate=dropout_rate)(output_block_2)\n",
    "\n",
    "    \n",
    "    # BLOCK 3\n",
    "    conv_x = keras.layers.Conv1D(filters=n_feature_maps * 2, kernel_size=8, padding='same')(output_block_2)\n",
    "    conv_x = keras.layers.BatchNormalization()(conv_x)\n",
    "    conv_x = keras.layers.Activation('relu')(conv_x)\n",
    "\n",
    "    conv_y = keras.layers.Conv1D(filters=n_feature_maps * 2, kernel_size=5, padding='same')(conv_x)\n",
    "    conv_y = keras.layers.BatchNormalization()(conv_y)\n",
    "    conv_y = keras.layers.Activation('relu')(conv_y)\n",
    "\n",
    "    conv_z = keras.layers.Conv1D(filters=n_feature_maps * 2, kernel_size=3, padding='same')(conv_y)\n",
    "    conv_z = keras.layers.BatchNormalization()(conv_z)\n",
    "\n",
    "    # no need to expand channels because they are equal\n",
    "    shortcut_y = keras.layers.BatchNormalization()(output_block_2)\n",
    "\n",
    "    output_block_3 = keras.layers.add([shortcut_y, conv_z])\n",
    "    output_block_3 = keras.layers.Activation('relu')(output_block_3)\n",
    "    \n",
    "    output_block_3 = tf.keras.layers.Dropout(rate=dropout_rate)(output_block_3)\n",
    "\n",
    "    \n",
    "    # FINAL\n",
    "    gap_layer = keras.layers.GlobalAveragePooling1D()(output_block_3)\n",
    "    \n",
    "    # insert droupout layer\n",
    "\n",
    "    output_layer = tf.keras.layers.Dropout(rate=dropout_rate)(gap_layer)\n",
    "    output_layer = keras.layers.Dense(nb_classes, activation='softmax')(output_layer)\n",
    "\n",
    "    model = keras.models.Model(inputs=input_layer, outputs=output_layer)\n",
    "\n",
    "    opt = keras.optimizers.Adam(learning_rate=learning_rate)\n",
    "    model.compile(loss='sparse_categorical_crossentropy',\n",
    "                  metrics=['accuracy'],\n",
    "                  optimizer=opt)\n",
    "\n",
    "\n",
    "    return model"
   ]
  },
  {
   "cell_type": "code",
   "execution_count": 138,
   "metadata": {
    "tags": []
   },
   "outputs": [
    {
     "name": "stdout",
     "output_type": "stream",
     "text": [
      "Model: \"model_3\"\n",
      "__________________________________________________________________________________________________\n",
      " Layer (type)                   Output Shape         Param #     Connected to                     \n",
      "==================================================================================================\n",
      " input_4 (InputLayer)           [(None, 12, 250)]    0           []                               \n",
      "                                                                                                  \n",
      " conv1d_37 (Conv1D)             (None, 12, 64)       128064      ['input_4[0][0]']                \n",
      "                                                                                                  \n",
      " batch_normalization_33 (BatchN  (None, 12, 64)      256         ['conv1d_37[0][0]']              \n",
      " ormalization)                                                                                    \n",
      "                                                                                                  \n",
      " activation_18 (Activation)     (None, 12, 64)       0           ['batch_normalization_33[0][0]'] \n",
      "                                                                                                  \n",
      " conv1d_38 (Conv1D)             (None, 12, 64)       20544       ['activation_18[0][0]']          \n",
      "                                                                                                  \n",
      " batch_normalization_34 (BatchN  (None, 12, 64)      256         ['conv1d_38[0][0]']              \n",
      " ormalization)                                                                                    \n",
      "                                                                                                  \n",
      " activation_19 (Activation)     (None, 12, 64)       0           ['batch_normalization_34[0][0]'] \n",
      "                                                                                                  \n",
      " conv1d_40 (Conv1D)             (None, 12, 64)       16064       ['input_4[0][0]']                \n",
      "                                                                                                  \n",
      " conv1d_39 (Conv1D)             (None, 12, 64)       12352       ['activation_19[0][0]']          \n",
      "                                                                                                  \n",
      " batch_normalization_36 (BatchN  (None, 12, 64)      256         ['conv1d_40[0][0]']              \n",
      " ormalization)                                                                                    \n",
      "                                                                                                  \n",
      " batch_normalization_35 (BatchN  (None, 12, 64)      256         ['conv1d_39[0][0]']              \n",
      " ormalization)                                                                                    \n",
      "                                                                                                  \n",
      " add_6 (Add)                    (None, 12, 64)       0           ['batch_normalization_36[0][0]', \n",
      "                                                                  'batch_normalization_35[0][0]'] \n",
      "                                                                                                  \n",
      " activation_20 (Activation)     (None, 12, 64)       0           ['add_6[0][0]']                  \n",
      "                                                                                                  \n",
      " dropout_8 (Dropout)            (None, 12, 64)       0           ['activation_20[0][0]']          \n",
      "                                                                                                  \n",
      " conv1d_41 (Conv1D)             (None, 12, 128)      65664       ['dropout_8[0][0]']              \n",
      "                                                                                                  \n",
      " batch_normalization_37 (BatchN  (None, 12, 128)     512         ['conv1d_41[0][0]']              \n",
      " ormalization)                                                                                    \n",
      "                                                                                                  \n",
      " activation_21 (Activation)     (None, 12, 128)      0           ['batch_normalization_37[0][0]'] \n",
      "                                                                                                  \n",
      " conv1d_42 (Conv1D)             (None, 12, 128)      82048       ['activation_21[0][0]']          \n",
      "                                                                                                  \n",
      " batch_normalization_38 (BatchN  (None, 12, 128)     512         ['conv1d_42[0][0]']              \n",
      " ormalization)                                                                                    \n",
      "                                                                                                  \n",
      " activation_22 (Activation)     (None, 12, 128)      0           ['batch_normalization_38[0][0]'] \n",
      "                                                                                                  \n",
      " conv1d_44 (Conv1D)             (None, 12, 128)      8320        ['dropout_8[0][0]']              \n",
      "                                                                                                  \n",
      " conv1d_43 (Conv1D)             (None, 12, 128)      49280       ['activation_22[0][0]']          \n",
      "                                                                                                  \n",
      " batch_normalization_40 (BatchN  (None, 12, 128)     512         ['conv1d_44[0][0]']              \n",
      " ormalization)                                                                                    \n",
      "                                                                                                  \n",
      " batch_normalization_39 (BatchN  (None, 12, 128)     512         ['conv1d_43[0][0]']              \n",
      " ormalization)                                                                                    \n",
      "                                                                                                  \n",
      " add_7 (Add)                    (None, 12, 128)      0           ['batch_normalization_40[0][0]', \n",
      "                                                                  'batch_normalization_39[0][0]'] \n",
      "                                                                                                  \n",
      " activation_23 (Activation)     (None, 12, 128)      0           ['add_7[0][0]']                  \n",
      "                                                                                                  \n",
      " dropout_9 (Dropout)            (None, 12, 128)      0           ['activation_23[0][0]']          \n",
      "                                                                                                  \n",
      " conv1d_45 (Conv1D)             (None, 12, 128)      131200      ['dropout_9[0][0]']              \n",
      "                                                                                                  \n",
      " batch_normalization_41 (BatchN  (None, 12, 128)     512         ['conv1d_45[0][0]']              \n",
      " ormalization)                                                                                    \n",
      "                                                                                                  \n",
      " activation_24 (Activation)     (None, 12, 128)      0           ['batch_normalization_41[0][0]'] \n",
      "                                                                                                  \n",
      " conv1d_46 (Conv1D)             (None, 12, 128)      82048       ['activation_24[0][0]']          \n",
      "                                                                                                  \n",
      " batch_normalization_42 (BatchN  (None, 12, 128)     512         ['conv1d_46[0][0]']              \n",
      " ormalization)                                                                                    \n",
      "                                                                                                  \n",
      " activation_25 (Activation)     (None, 12, 128)      0           ['batch_normalization_42[0][0]'] \n",
      "                                                                                                  \n",
      " conv1d_47 (Conv1D)             (None, 12, 128)      49280       ['activation_25[0][0]']          \n",
      "                                                                                                  \n",
      " batch_normalization_44 (BatchN  (None, 12, 128)     512         ['dropout_9[0][0]']              \n",
      " ormalization)                                                                                    \n",
      "                                                                                                  \n",
      " batch_normalization_43 (BatchN  (None, 12, 128)     512         ['conv1d_47[0][0]']              \n",
      " ormalization)                                                                                    \n",
      "                                                                                                  \n",
      " add_8 (Add)                    (None, 12, 128)      0           ['batch_normalization_44[0][0]', \n",
      "                                                                  'batch_normalization_43[0][0]'] \n",
      "                                                                                                  \n",
      " activation_26 (Activation)     (None, 12, 128)      0           ['add_8[0][0]']                  \n",
      "                                                                                                  \n",
      " dropout_10 (Dropout)           (None, 12, 128)      0           ['activation_26[0][0]']          \n",
      "                                                                                                  \n",
      " global_average_pooling1d_5 (Gl  (None, 128)         0           ['dropout_10[0][0]']             \n",
      " obalAveragePooling1D)                                                                            \n",
      "                                                                                                  \n",
      " dropout_11 (Dropout)           (None, 128)          0           ['global_average_pooling1d_5[0][0\n",
      "                                                                 ]']                              \n",
      "                                                                                                  \n",
      " dense_6 (Dense)                (None, 23)           2967        ['dropout_11[0][0]']             \n",
      "                                                                                                  \n",
      "==================================================================================================\n",
      "Total params: 652,951\n",
      "Trainable params: 650,391\n",
      "Non-trainable params: 2,560\n",
      "__________________________________________________________________________________________________\n"
     ]
    }
   ],
   "source": [
    "learning_rate = 0.001\n",
    "dropout_rate = 0.25\n",
    "\n",
    "resnet_model = resnet1d(input_shape = input_shape,\n",
    "                         nb_classes = num_classes,\n",
    "                         learning_rate=learning_rate)\n",
    "\n",
    "resnet_model.summary()"
   ]
  },
  {
   "cell_type": "code",
   "execution_count": 139,
   "metadata": {
    "tags": []
   },
   "outputs": [
    {
     "name": "stdout",
     "output_type": "stream",
     "text": [
      "Epoch 1/50\n",
      "868/868 [==============================] - 22s 23ms/step - loss: 1.9008 - accuracy: 0.4661 - val_loss: 1.7077 - val_accuracy: 0.5007\n",
      "Epoch 2/50\n",
      "868/868 [==============================] - 19s 22ms/step - loss: 1.6343 - accuracy: 0.5157 - val_loss: 1.5966 - val_accuracy: 0.5283\n",
      "Epoch 3/50\n",
      "868/868 [==============================] - 19s 22ms/step - loss: 1.5317 - accuracy: 0.5412 - val_loss: 1.5652 - val_accuracy: 0.5338\n",
      "Epoch 4/50\n",
      "868/868 [==============================] - 19s 22ms/step - loss: 1.4640 - accuracy: 0.5595 - val_loss: 1.5417 - val_accuracy: 0.5305\n",
      "Epoch 5/50\n",
      "868/868 [==============================] - 19s 22ms/step - loss: 1.4110 - accuracy: 0.5740 - val_loss: 1.5432 - val_accuracy: 0.5283\n",
      "Epoch 6/50\n",
      "868/868 [==============================] - 19s 22ms/step - loss: 1.3645 - accuracy: 0.5866 - val_loss: 1.4949 - val_accuracy: 0.5439\n",
      "Epoch 7/50\n",
      "868/868 [==============================] - 19s 22ms/step - loss: 1.3229 - accuracy: 0.5989 - val_loss: 1.4861 - val_accuracy: 0.5450\n",
      "Epoch 8/50\n",
      "868/868 [==============================] - 19s 22ms/step - loss: 1.2881 - accuracy: 0.6083 - val_loss: 1.4562 - val_accuracy: 0.5517\n",
      "Epoch 9/50\n",
      "868/868 [==============================] - 19s 22ms/step - loss: 1.2550 - accuracy: 0.6178 - val_loss: 1.4456 - val_accuracy: 0.5582\n",
      "Epoch 10/50\n",
      "868/868 [==============================] - 19s 22ms/step - loss: 1.2244 - accuracy: 0.6275 - val_loss: 1.4486 - val_accuracy: 0.5578\n",
      "Epoch 11/50\n",
      "868/868 [==============================] - 19s 22ms/step - loss: 1.1982 - accuracy: 0.6346 - val_loss: 1.4347 - val_accuracy: 0.5634\n",
      "Epoch 12/50\n",
      "868/868 [==============================] - 19s 22ms/step - loss: 1.1744 - accuracy: 0.6406 - val_loss: 1.4217 - val_accuracy: 0.5686\n",
      "Epoch 13/50\n",
      "868/868 [==============================] - 19s 22ms/step - loss: 1.1537 - accuracy: 0.6458 - val_loss: 1.4276 - val_accuracy: 0.5676\n",
      "Epoch 14/50\n",
      "868/868 [==============================] - 19s 22ms/step - loss: 1.1346 - accuracy: 0.6510 - val_loss: 1.4368 - val_accuracy: 0.5661\n",
      "Epoch 15/50\n",
      "868/868 [==============================] - 19s 22ms/step - loss: 1.1163 - accuracy: 0.6561 - val_loss: 1.4284 - val_accuracy: 0.5688\n",
      "Epoch 16/50\n",
      "868/868 [==============================] - 19s 22ms/step - loss: 1.0987 - accuracy: 0.6597 - val_loss: 1.4436 - val_accuracy: 0.5663\n",
      "Epoch 17/50\n",
      "868/868 [==============================] - 19s 22ms/step - loss: 1.0814 - accuracy: 0.6652 - val_loss: 1.4558 - val_accuracy: 0.5644\n",
      "Epoch 18/50\n",
      "868/868 [==============================] - 19s 22ms/step - loss: 1.0658 - accuracy: 0.6691 - val_loss: 1.4430 - val_accuracy: 0.5708\n",
      "Epoch 19/50\n",
      "868/868 [==============================] - 19s 22ms/step - loss: 1.0506 - accuracy: 0.6736 - val_loss: 1.4509 - val_accuracy: 0.5688\n",
      "Epoch 20/50\n",
      "868/868 [==============================] - 19s 22ms/step - loss: 1.0377 - accuracy: 0.6767 - val_loss: 1.4617 - val_accuracy: 0.5712\n",
      "Epoch 21/50\n",
      "868/868 [==============================] - 19s 22ms/step - loss: 1.0263 - accuracy: 0.6792 - val_loss: 1.4694 - val_accuracy: 0.5694\n",
      "Epoch 22/50\n",
      "868/868 [==============================] - 19s 22ms/step - loss: 1.0107 - accuracy: 0.6840 - val_loss: 1.4415 - val_accuracy: 0.5772\n",
      "Epoch 23/50\n",
      "868/868 [==============================] - 19s 22ms/step - loss: 0.9983 - accuracy: 0.6871 - val_loss: 1.4715 - val_accuracy: 0.5729\n",
      "Epoch 24/50\n",
      "868/868 [==============================] - 19s 22ms/step - loss: 0.9898 - accuracy: 0.6893 - val_loss: 1.4733 - val_accuracy: 0.5734\n",
      "Epoch 25/50\n",
      "868/868 [==============================] - 19s 22ms/step - loss: 0.9763 - accuracy: 0.6928 - val_loss: 1.4765 - val_accuracy: 0.5732\n",
      "Epoch 26/50\n",
      "868/868 [==============================] - 19s 22ms/step - loss: 0.9668 - accuracy: 0.6957 - val_loss: 1.4883 - val_accuracy: 0.5772\n",
      "Epoch 27/50\n",
      "868/868 [==============================] - 19s 22ms/step - loss: 0.9597 - accuracy: 0.6971 - val_loss: 1.5027 - val_accuracy: 0.5727\n",
      "Epoch 28/50\n",
      "868/868 [==============================] - 19s 22ms/step - loss: 0.9458 - accuracy: 0.7015 - val_loss: 1.5159 - val_accuracy: 0.5753\n",
      "Epoch 29/50\n",
      "868/868 [==============================] - 19s 22ms/step - loss: 0.9348 - accuracy: 0.7042 - val_loss: 1.5074 - val_accuracy: 0.5732\n",
      "Epoch 30/50\n",
      "868/868 [==============================] - 19s 22ms/step - loss: 0.9265 - accuracy: 0.7070 - val_loss: 1.5221 - val_accuracy: 0.5721\n",
      "Epoch 31/50\n",
      "868/868 [==============================] - 19s 22ms/step - loss: 0.9170 - accuracy: 0.7087 - val_loss: 1.5273 - val_accuracy: 0.5721\n",
      "Epoch 32/50\n",
      "868/868 [==============================] - 19s 22ms/step - loss: 0.9071 - accuracy: 0.7119 - val_loss: 1.5334 - val_accuracy: 0.5750\n",
      "Epoch 33/50\n",
      "868/868 [==============================] - 19s 22ms/step - loss: 0.9018 - accuracy: 0.7136 - val_loss: 1.5446 - val_accuracy: 0.5708\n",
      "Epoch 34/50\n",
      "868/868 [==============================] - 19s 22ms/step - loss: 0.8916 - accuracy: 0.7154 - val_loss: 1.5424 - val_accuracy: 0.5753\n",
      "Epoch 35/50\n",
      "868/868 [==============================] - 19s 22ms/step - loss: 0.8841 - accuracy: 0.7183 - val_loss: 1.5635 - val_accuracy: 0.5753\n",
      "Epoch 36/50\n",
      "868/868 [==============================] - 19s 22ms/step - loss: 0.8757 - accuracy: 0.7210 - val_loss: 1.5686 - val_accuracy: 0.5754\n",
      "Epoch 37/50\n",
      "868/868 [==============================] - 19s 22ms/step - loss: 0.8689 - accuracy: 0.7232 - val_loss: 1.5986 - val_accuracy: 0.5698\n",
      "Epoch 38/50\n",
      "868/868 [==============================] - 19s 22ms/step - loss: 0.8623 - accuracy: 0.7233 - val_loss: 1.5958 - val_accuracy: 0.5737\n",
      "Epoch 39/50\n",
      "868/868 [==============================] - 19s 22ms/step - loss: 0.8529 - accuracy: 0.7262 - val_loss: 1.6151 - val_accuracy: 0.5733\n",
      "Epoch 40/50\n",
      "868/868 [==============================] - 19s 22ms/step - loss: 0.8465 - accuracy: 0.7280 - val_loss: 1.6066 - val_accuracy: 0.5752\n",
      "Epoch 41/50\n",
      "868/868 [==============================] - 19s 22ms/step - loss: 0.8398 - accuracy: 0.7308 - val_loss: 1.6120 - val_accuracy: 0.5740\n",
      "Epoch 42/50\n",
      "868/868 [==============================] - 19s 22ms/step - loss: 0.8321 - accuracy: 0.7325 - val_loss: 1.6319 - val_accuracy: 0.5737\n",
      "Epoch 43/50\n",
      "868/868 [==============================] - 19s 22ms/step - loss: 0.8284 - accuracy: 0.7330 - val_loss: 1.6496 - val_accuracy: 0.5685\n",
      "Epoch 44/50\n",
      "868/868 [==============================] - 19s 22ms/step - loss: 0.8180 - accuracy: 0.7363 - val_loss: 1.6845 - val_accuracy: 0.5716\n",
      "Epoch 45/50\n",
      "868/868 [==============================] - 19s 22ms/step - loss: 0.8134 - accuracy: 0.7375 - val_loss: 1.6374 - val_accuracy: 0.5703\n",
      "Epoch 46/50\n",
      "868/868 [==============================] - 19s 22ms/step - loss: 0.8059 - accuracy: 0.7393 - val_loss: 1.6960 - val_accuracy: 0.5732\n",
      "Epoch 47/50\n",
      "868/868 [==============================] - 19s 22ms/step - loss: 0.8008 - accuracy: 0.7411 - val_loss: 1.6652 - val_accuracy: 0.5713\n",
      "Epoch 48/50\n",
      "868/868 [==============================] - 19s 22ms/step - loss: 0.7940 - accuracy: 0.7429 - val_loss: 1.6772 - val_accuracy: 0.5681\n",
      "Epoch 49/50\n",
      "868/868 [==============================] - 19s 22ms/step - loss: 0.7896 - accuracy: 0.7453 - val_loss: 1.7671 - val_accuracy: 0.5735\n",
      "Epoch 50/50\n",
      "868/868 [==============================] - 19s 22ms/step - loss: 0.7854 - accuracy: 0.7460 - val_loss: 1.6910 - val_accuracy: 0.5717\n"
     ]
    }
   ],
   "source": [
    "epochs = 50\n",
    "model_output = 'models/resnet.h5'\n",
    "\n",
    "callbacks = [keras.callbacks.ModelCheckpoint(model_output, save_best_only=True, monitor=\"val_loss\"),\n",
    "#              keras.callbacks.ReduceLROnPlateau( monitor=\"val_loss\", factor=0.5, patience=20, min_lr=0.0001),\n",
    "             keras.callbacks.EarlyStopping(monitor=\"val_loss\", patience=50, verbose=1),]\n",
    "\n",
    "history = resnet_model.fit(train_ds,\n",
    "                           validation_data=val_ds,\n",
    "                           epochs=epochs,\n",
    "                           callbacks=callbacks,\n",
    "                           verbose=1)"
   ]
  },
  {
   "cell_type": "code",
   "execution_count": 140,
   "metadata": {},
   "outputs": [
    {
     "data": {
      "image/png": "[encoded data removed]",
      "text/plain": [
       "<Figure size 432x288 with 1 Axes>"
      ]
     },
     "metadata": {
      "needs_background": "light"
     },
     "output_type": "display_data"
    },
    {
     "data": {
      "image/png": "[encoded data removed]",
      "text/plain": [
       "<Figure size 432x288 with 1 Axes>"
      ]
     },
     "metadata": {
      "needs_background": "light"
     },
     "output_type": "display_data"
    }
   ],
   "source": [
    "# summarize history for accuracy\n",
    "plt.plot(history.history['accuracy'])\n",
    "plt.plot(history.history['val_accuracy'])\n",
    "plt.title('model accuracy')\n",
    "plt.ylabel('accuracy')\n",
    "plt.xlabel('epoch')\n",
    "plt.legend(['train', 'test'], loc='upper left')\n",
    "plt.show()\n",
    "\n",
    "# summarize history for loss\n",
    "plt.plot(history.history['loss'])\n",
    "plt.plot(history.history['val_loss'])\n",
    "plt.title('model loss')\n",
    "plt.ylabel('loss')\n",
    "plt.xlabel('epoch')\n",
    "plt.legend(['train', 'test'], loc='upper left')\n",
    "plt.show()"
   ]
  },
  {
   "cell_type": "code",
   "execution_count": 141,
   "metadata": {},
   "outputs": [
    {
     "name": "stdout",
     "output_type": "stream",
     "text": [
      "32070/32070 [==============================] - 94s 3ms/step - loss: 1.7764 - accuracy: 0.5618\n"
     ]
    },
    {
     "data": {
      "text/plain": [
       "[1.7764487266540527, 0.5617711544036865]"
      ]
     },
     "execution_count": 141,
     "metadata": {},
     "output_type": "execute_result"
    }
   ],
   "source": [
    "# resnet_model = tf.keras.models.load_model('models/resnet.h5')\n",
    "resnet_model.evaluate(test_ds)"
   ]
  },
  {
   "cell_type": "code",
   "execution_count": 142,
   "metadata": {},
   "outputs": [],
   "source": [
    "preds = resnet_model.predict(test_ds)"
   ]
  },
  {
   "cell_type": "code",
   "execution_count": 143,
   "metadata": {},
   "outputs": [
    {
     "data": {
      "text/plain": [
       "0.6122544434050514"
      ]
     },
     "execution_count": 143,
     "metadata": {},
     "output_type": "execute_result"
    }
   ],
   "source": [
    "# Get aggregated predictions\n",
    "y_pred = get_max_preds(preds)\n",
    "accuracy_score(y_true, y_pred)"
   ]
  },
  {
   "cell_type": "code",
   "execution_count": 144,
   "metadata": {},
   "outputs": [
    {
     "name": "stdout",
     "output_type": "stream",
     "text": [
      "              precision    recall  f1-score   support\n",
      "\n",
      "        NORM      0.706     0.964     0.815       921\n",
      "         IMI      0.431     0.391     0.410       207\n",
      "        STTC      0.463     0.376     0.415       181\n",
      "        NST_      0.000     0.000     0.000        46\n",
      "         LVH      0.353     0.540     0.427       100\n",
      "   LAFB/LPFB      0.534     0.443     0.484        88\n",
      "       IRBBB      0.457     0.223     0.300        94\n",
      "        IVCD      0.000     0.000     0.000        36\n",
      "         AMI      0.591     0.404     0.480       193\n",
      "        _AVB      0.000     0.000     0.000        23\n",
      "        ISCA      0.304     0.288     0.296        59\n",
      "        ISCI      0.000     0.000     0.000        18\n",
      "       CRBBB      0.536     0.349     0.423        43\n",
      "       CLBBB      0.904     0.887     0.895        53\n",
      "     RAO/RAE      0.000     0.000     0.000         4\n",
      "         RVH      0.000     0.000     0.000         3\n",
      "        ISC_      0.000     0.000     0.000        47\n",
      "       ILBBB      0.000     0.000     0.000         4\n",
      "         WPW      1.000     0.125     0.222         8\n",
      "     LAO/LAE      0.000     0.000     0.000         4\n",
      "         LMI      0.000     0.000     0.000         4\n",
      "         PMI      0.000     0.000     0.000         2\n",
      "\n",
      "    accuracy                          0.612      2138\n",
      "   macro avg      0.285     0.227     0.235      2138\n",
      "weighted avg      0.542     0.612     0.562      2138\n",
      "\n"
     ]
    }
   ],
   "source": [
    "print(classification_report(y_true, y_pred, digits=3, target_names=label_list, zero_division=0))"
   ]
  },
  {
   "cell_type": "markdown",
   "metadata": {
    "id": "vKGk8ymh4h2J"
   },
   "source": [
    "# Model 3: 1D Inception"
   ]
  },
  {
   "cell_type": "code",
   "execution_count": 36,
   "metadata": {
    "id": "TirdXvy54732"
   },
   "outputs": [],
   "source": [
    "def inception1d(input_shape, nb_classes):\n",
    "\n",
    "    input_layer = keras.layers.Input(input_shape)\n",
    "\n",
    "    tower_1 = keras.layers.Conv1D(64, 1, padding='same', activation='relu')(input_layer)\n",
    "\n",
    "    tower_2 = keras.layers.Conv1D(64, 1, padding='same', activation='relu')(input_layer)\n",
    "    tower_2 = keras.layers.Conv1D(128, 3, padding='same', activation='relu')(tower_2)\n",
    "\n",
    "    tower_3 = keras.layers.Conv1D(64, 1, padding='same', activation='relu')(input_layer)\n",
    "    tower_3 = keras.layers.Conv1D(32, 5, padding='same', activation='relu')(tower_3)\n",
    "\n",
    "    pool = keras.layers.MaxPooling1D(3, strides=1, padding='same')(input_layer)\n",
    "    pool = keras.layers.Conv1D(32, 1, padding='same', activation='relu')(pool)\n",
    "\n",
    "\n",
    "    output = keras.layers.concatenate([tower_1, tower_2, tower_3, pool], axis = -1)\n",
    "\n",
    "    output = keras.layers.Flatten()(output)\n",
    "    out = keras.layers.Dense(nb_classes, activation='softmax')(output)\n",
    "\n",
    "    model = keras.models.Model(inputs = input_layer, outputs = out)\n",
    "\n",
    "    model.compile(optimizer='adam', loss='sparse_categorical_crossentropy',\n",
    "              metrics=['accuracy'])\n",
    "    \n",
    "    return model"
   ]
  },
  {
   "cell_type": "code",
   "execution_count": 37,
   "metadata": {
    "colab": {
     "base_uri": "https://localhost:8080/"
    },
    "id": "cvSph5wk5Lme",
    "outputId": "0406a889-cdc2-45be-e943-048407022236"
   },
   "outputs": [
    {
     "name": "stdout",
     "output_type": "stream",
     "text": [
      "Model: \"model\"\n",
      "__________________________________________________________________________________________________\n",
      " Layer (type)                   Output Shape         Param #     Connected to                     \n",
      "==================================================================================================\n",
      " input_1 (InputLayer)           [(None, 12, 250)]    0           []                               \n",
      "                                                                                                  \n",
      " conv1d_10 (Conv1D)             (None, 12, 64)       16064       ['input_1[0][0]']                \n",
      "                                                                                                  \n",
      " conv1d_12 (Conv1D)             (None, 12, 64)       16064       ['input_1[0][0]']                \n",
      "                                                                                                  \n",
      " max_pooling1d (MaxPooling1D)   (None, 12, 250)      0           ['input_1[0][0]']                \n",
      "                                                                                                  \n",
      " conv1d_9 (Conv1D)              (None, 12, 64)       16064       ['input_1[0][0]']                \n",
      "                                                                                                  \n",
      " conv1d_11 (Conv1D)             (None, 12, 128)      24704       ['conv1d_10[0][0]']              \n",
      "                                                                                                  \n",
      " conv1d_13 (Conv1D)             (None, 12, 32)       10272       ['conv1d_12[0][0]']              \n",
      "                                                                                                  \n",
      " conv1d_14 (Conv1D)             (None, 12, 32)       8032        ['max_pooling1d[0][0]']          \n",
      "                                                                                                  \n",
      " concatenate (Concatenate)      (None, 12, 256)      0           ['conv1d_9[0][0]',               \n",
      "                                                                  'conv1d_11[0][0]',              \n",
      "                                                                  'conv1d_13[0][0]',              \n",
      "                                                                  'conv1d_14[0][0]']              \n",
      "                                                                                                  \n",
      " flatten (Flatten)              (None, 3072)         0           ['concatenate[0][0]']            \n",
      "                                                                                                  \n",
      " dense_3 (Dense)                (None, 23)           70679       ['flatten[0][0]']                \n",
      "                                                                                                  \n",
      "==================================================================================================\n",
      "Total params: 161,879\n",
      "Trainable params: 161,879\n",
      "Non-trainable params: 0\n",
      "__________________________________________________________________________________________________\n"
     ]
    }
   ],
   "source": [
    "inception_model = inception1d(input_shape = input_shape, \n",
    "                              nb_classes = num_classes)\n",
    "inception_model.summary()"
   ]
  },
  {
   "cell_type": "code",
   "execution_count": 38,
   "metadata": {
    "colab": {
     "base_uri": "https://localhost:8080/"
    },
    "id": "TQNOP4XS5Qw8",
    "outputId": "d25fdfb5-c9a1-4e1a-8ad0-71c7c3c34de4"
   },
   "outputs": [
    {
     "name": "stdout",
     "output_type": "stream",
     "text": [
      "Epoch 1/25\n",
      "868/868 [==============================] - 13s 14ms/step - loss: 1.7541 - accuracy: 0.5060 - val_loss: 1.6463 - val_accuracy: 0.5176 - lr: 0.0010\n",
      "Epoch 2/25\n",
      "868/868 [==============================] - 12s 14ms/step - loss: 1.4365 - accuracy: 0.5679 - val_loss: 1.4863 - val_accuracy: 0.5527 - lr: 0.0010\n",
      "Epoch 3/25\n",
      "868/868 [==============================] - 12s 14ms/step - loss: 1.3318 - accuracy: 0.5925 - val_loss: 1.4369 - val_accuracy: 0.5662 - lr: 0.0010\n",
      "Epoch 4/25\n",
      "868/868 [==============================] - 12s 14ms/step - loss: 1.2671 - accuracy: 0.6084 - val_loss: 1.5293 - val_accuracy: 0.5574 - lr: 0.0010\n",
      "Epoch 5/25\n",
      "868/868 [==============================] - 12s 14ms/step - loss: 1.2166 - accuracy: 0.6221 - val_loss: 1.4087 - val_accuracy: 0.5787 - lr: 0.0010\n",
      "Epoch 6/25\n",
      "868/868 [==============================] - 12s 14ms/step - loss: 1.1578 - accuracy: 0.6356 - val_loss: 1.4047 - val_accuracy: 0.5823 - lr: 0.0010\n",
      "Epoch 7/25\n",
      "868/868 [==============================] - 12s 14ms/step - loss: 1.1207 - accuracy: 0.6463 - val_loss: 1.4100 - val_accuracy: 0.5843 - lr: 0.0010\n",
      "Epoch 8/25\n",
      "868/868 [==============================] - 12s 14ms/step - loss: 1.0777 - accuracy: 0.6573 - val_loss: 1.4301 - val_accuracy: 0.5857 - lr: 0.0010\n",
      "Epoch 9/25\n",
      "868/868 [==============================] - 12s 14ms/step - loss: 1.0432 - accuracy: 0.6669 - val_loss: 1.4493 - val_accuracy: 0.5861 - lr: 0.0010\n",
      "Epoch 10/25\n",
      "868/868 [==============================] - 12s 14ms/step - loss: 1.0145 - accuracy: 0.6755 - val_loss: 1.6341 - val_accuracy: 0.5697 - lr: 0.0010\n",
      "Epoch 11/25\n",
      "868/868 [==============================] - 12s 14ms/step - loss: 1.0017 - accuracy: 0.6792 - val_loss: 1.4669 - val_accuracy: 0.5889 - lr: 0.0010\n",
      "Epoch 12/25\n",
      "868/868 [==============================] - 12s 14ms/step - loss: 0.9691 - accuracy: 0.6889 - val_loss: 1.4940 - val_accuracy: 0.5876 - lr: 0.0010\n",
      "Epoch 13/25\n",
      "868/868 [==============================] - 12s 14ms/step - loss: 0.9358 - accuracy: 0.6977 - val_loss: 1.5011 - val_accuracy: 0.5891 - lr: 0.0010\n",
      "Epoch 14/25\n",
      "868/868 [==============================] - 12s 14ms/step - loss: 0.9138 - accuracy: 0.7045 - val_loss: 1.5247 - val_accuracy: 0.5879 - lr: 0.0010\n",
      "Epoch 15/25\n",
      "868/868 [==============================] - 12s 14ms/step - loss: 0.8946 - accuracy: 0.7101 - val_loss: 1.5492 - val_accuracy: 0.5870 - lr: 0.0010\n",
      "Epoch 16/25\n",
      "868/868 [==============================] - 12s 14ms/step - loss: 0.8777 - accuracy: 0.7149 - val_loss: 1.5726 - val_accuracy: 0.5859 - lr: 0.0010\n",
      "Epoch 17/25\n",
      "868/868 [==============================] - 12s 14ms/step - loss: 0.8593 - accuracy: 0.7204 - val_loss: 1.5945 - val_accuracy: 0.5849 - lr: 0.0010\n",
      "Epoch 18/25\n",
      "868/868 [==============================] - 12s 14ms/step - loss: 0.8425 - accuracy: 0.7254 - val_loss: 1.6263 - val_accuracy: 0.5832 - lr: 0.0010\n",
      "Epoch 19/25\n",
      "868/868 [==============================] - 12s 14ms/step - loss: 0.8557 - accuracy: 0.7221 - val_loss: 1.9428 - val_accuracy: 0.5592 - lr: 0.0010\n",
      "Epoch 20/25\n",
      "868/868 [==============================] - 12s 14ms/step - loss: 0.8504 - accuracy: 0.7240 - val_loss: 1.6619 - val_accuracy: 0.5840 - lr: 0.0010\n",
      "Epoch 21/25\n",
      "868/868 [==============================] - 12s 14ms/step - loss: 0.7990 - accuracy: 0.7385 - val_loss: 1.6801 - val_accuracy: 0.5822 - lr: 0.0010\n",
      "Epoch 22/25\n",
      "868/868 [==============================] - 12s 14ms/step - loss: 0.7860 - accuracy: 0.7423 - val_loss: 1.7077 - val_accuracy: 0.5816 - lr: 0.0010\n",
      "Epoch 23/25\n",
      "868/868 [==============================] - 12s 14ms/step - loss: 0.7755 - accuracy: 0.7450 - val_loss: 1.7378 - val_accuracy: 0.5800 - lr: 0.0010\n",
      "Epoch 24/25\n",
      "868/868 [==============================] - 12s 14ms/step - loss: 0.7652 - accuracy: 0.7481 - val_loss: 1.7677 - val_accuracy: 0.5795 - lr: 0.0010\n",
      "Epoch 25/25\n",
      "868/868 [==============================] - 12s 14ms/step - loss: 0.7552 - accuracy: 0.7513 - val_loss: 1.7995 - val_accuracy: 0.5787 - lr: 0.0010\n"
     ]
    }
   ],
   "source": [
    "epochs = 25\n",
    "model_output = 'models/inception.h5'\n",
    "\n",
    "callbacks = [keras.callbacks.ModelCheckpoint(model_output, save_best_only=True, monitor=\"val_loss\"),\n",
    "             keras.callbacks.ReduceLROnPlateau( monitor=\"val_loss\", factor=0.5, patience=20, min_lr=0.0001),\n",
    "             keras.callbacks.EarlyStopping(monitor=\"val_loss\", patience=50, verbose=1),]\n",
    "\n",
    "history = inception_model.fit(train_ds,\n",
    "                             validation_data=val_ds,\n",
    "                             epochs=epochs,\n",
    "                             callbacks=callbacks,\n",
    "                             verbose=1)"
   ]
  },
  {
   "cell_type": "code",
   "execution_count": 39,
   "metadata": {},
   "outputs": [
    {
     "data": {
      "image/png": "[encoded data removed]",
      "text/plain": [
       "<Figure size 432x288 with 1 Axes>"
      ]
     },
     "metadata": {
      "needs_background": "light"
     },
     "output_type": "display_data"
    },
    {
     "data": {
      "image/png": "[encoded data removed]",
      "text/plain": [
       "<Figure size 432x288 with 1 Axes>"
      ]
     },
     "metadata": {
      "needs_background": "light"
     },
     "output_type": "display_data"
    }
   ],
   "source": [
    "# summarize history for accuracy\n",
    "plt.plot(history.history['accuracy'])\n",
    "plt.plot(history.history['val_accuracy'])\n",
    "plt.title('model accuracy')\n",
    "plt.ylabel('accuracy')\n",
    "plt.xlabel('epoch')\n",
    "plt.legend(['train', 'test'], loc='upper left')\n",
    "plt.show()\n",
    "\n",
    "# summarize history for loss\n",
    "plt.plot(history.history['loss'])\n",
    "plt.plot(history.history['val_loss'])\n",
    "plt.title('model loss')\n",
    "plt.ylabel('loss')\n",
    "plt.xlabel('epoch')\n",
    "plt.legend(['train', 'test'], loc='upper left')\n",
    "plt.show()"
   ]
  },
  {
   "cell_type": "code",
   "execution_count": 40,
   "metadata": {},
   "outputs": [
    {
     "name": "stdout",
     "output_type": "stream",
     "text": [
      "32070/32070 [==============================] - 52s 2ms/step - loss: 1.9308 - accuracy: 0.5702\n"
     ]
    },
    {
     "data": {
      "text/plain": [
       "[1.9307893514633179, 0.5701590180397034]"
      ]
     },
     "execution_count": 40,
     "metadata": {},
     "output_type": "execute_result"
    }
   ],
   "source": [
    "# inception_model = tf.keras.models.load_model('models/inception.h5')\n",
    "inception_model.evaluate(test_ds)"
   ]
  },
  {
   "cell_type": "code",
   "execution_count": 128,
   "metadata": {},
   "outputs": [],
   "source": [
    "preds = inception_model.predict(test_ds)"
   ]
  },
  {
   "cell_type": "code",
   "execution_count": 129,
   "metadata": {},
   "outputs": [
    {
     "data": {
      "text/plain": [
       "0.6239476145930777"
      ]
     },
     "execution_count": 129,
     "metadata": {},
     "output_type": "execute_result"
    }
   ],
   "source": [
    "# Get aggregated predictions\n",
    "y_pred = get_max_preds(preds)\n",
    "accuracy_score(y_true, y_pred)"
   ]
  },
  {
   "cell_type": "code",
   "execution_count": 126,
   "metadata": {},
   "outputs": [
    {
     "data": {
      "text/plain": [
       "0.6239476145930777"
      ]
     },
     "execution_count": 126,
     "metadata": {},
     "output_type": "execute_result"
    }
   ],
   "source": [
    "# Get aggregated predictions\n",
    "y_pred = get_max_preds(preds)\n",
    "accuracy_score(y_true, y_pred)"
   ]
  },
  {
   "cell_type": "code",
   "execution_count": 130,
   "metadata": {},
   "outputs": [
    {
     "name": "stdout",
     "output_type": "stream",
     "text": [
      "              precision    recall  f1-score   support\n",
      "\n",
      "        NORM      0.700     0.977     0.816       921\n",
      "         IMI      0.539     0.232     0.324       207\n",
      "        STTC      0.388     0.558     0.458       181\n",
      "        NST_      0.000     0.000     0.000        46\n",
      "         LVH      0.472     0.420     0.444       100\n",
      "   LAFB/LPFB      0.519     0.477     0.497        88\n",
      "       IRBBB      0.536     0.160     0.246        94\n",
      "        IVCD      0.000     0.000     0.000        36\n",
      "         AMI      0.570     0.508     0.537       193\n",
      "        _AVB      0.000     0.000     0.000        23\n",
      "        ISCA      0.423     0.186     0.259        59\n",
      "        ISCI      0.500     0.056     0.100        18\n",
      "       CRBBB      0.707     0.674     0.690        43\n",
      "       CLBBB      0.887     0.887     0.887        53\n",
      "     RAO/RAE      0.000     0.000     0.000         4\n",
      "         RVH      0.000     0.000     0.000         3\n",
      "        ISC_      0.000     0.000     0.000        47\n",
      "       ILBBB      0.000     0.000     0.000         4\n",
      "         WPW      0.000     0.000     0.000         8\n",
      "     LAO/LAE      0.000     0.000     0.000         4\n",
      "         LMI      0.000     0.000     0.000         4\n",
      "         PMI      0.000     0.000     0.000         2\n",
      "\n",
      "    accuracy                          0.624      2138\n",
      "   macro avg      0.284     0.233     0.239      2138\n",
      "weighted avg      0.557     0.624     0.566      2138\n",
      "\n"
     ]
    }
   ],
   "source": [
    "print(classification_report(y_true, y_pred, digits=3, target_names=label_list, zero_division=0))"
   ]
  },
  {
   "cell_type": "markdown",
   "metadata": {},
   "source": [
    "optimize model for **precision** when you want to **decrease the number of false positives**.\n",
    "\n",
    "optimize model for **recall** if you want to **decrease the number of false negatives**."
   ]
  },
  {
   "cell_type": "markdown",
   "metadata": {
    "id": "Gtl31lCM-UQH"
   },
   "source": [
    "# Model 4: LSTM"
   ]
  },
  {
   "cell_type": "code",
   "execution_count": 35,
   "metadata": {},
   "outputs": [
    {
     "name": "stdout",
     "output_type": "stream",
     "text": [
      "Model: \"sequential_11\"\n",
      "_________________________________________________________________\n",
      " Layer (type)                Output Shape              Param #   \n",
      "=================================================================\n",
      " lstm_27 (LSTM)              (None, 12, 128)           194048    \n",
      "                                                                 \n",
      " batch_normalization_10 (Bat  (None, 12, 128)          512       \n",
      " chNormalization)                                                \n",
      "                                                                 \n",
      " dropout_13 (Dropout)        (None, 12, 128)           0         \n",
      "                                                                 \n",
      " lstm_28 (LSTM)              (None, 12, 64)            49408     \n",
      "                                                                 \n",
      " batch_normalization_11 (Bat  (None, 12, 64)           256       \n",
      " chNormalization)                                                \n",
      "                                                                 \n",
      " dropout_14 (Dropout)        (None, 12, 64)            0         \n",
      "                                                                 \n",
      " lstm_29 (LSTM)              (None, 12, 32)            12416     \n",
      "                                                                 \n",
      " batch_normalization_12 (Bat  (None, 12, 32)           128       \n",
      " chNormalization)                                                \n",
      "                                                                 \n",
      " dropout_15 (Dropout)        (None, 12, 32)            0         \n",
      "                                                                 \n",
      " dense_18 (Dense)            (None, 12, 128)           4224      \n",
      "                                                                 \n",
      " activation_6 (Activation)   (None, 12, 128)           0         \n",
      "                                                                 \n",
      " global_average_pooling1d_7   (None, 128)              0         \n",
      " (GlobalAveragePooling1D)                                        \n",
      "                                                                 \n",
      " dropout_16 (Dropout)        (None, 128)               0         \n",
      "                                                                 \n",
      " dense_19 (Dense)            (None, 23)                2967      \n",
      "                                                                 \n",
      "=================================================================\n",
      "Total params: 263,959\n",
      "Trainable params: 263,511\n",
      "Non-trainable params: 448\n",
      "_________________________________________________________________\n"
     ]
    }
   ],
   "source": [
    "learning_rate = 0.0001\n",
    "dropout_rate = 0.25\n",
    "\n",
    "lstm_model = keras.models.Sequential([\n",
    "    \n",
    "    keras.layers.LSTM(units=128, return_sequences=True, input_shape=input_shape),\n",
    "    keras.layers.BatchNormalization(),\n",
    "    keras.layers.Dropout(rate=dropout_rate),\n",
    "    \n",
    "    keras.layers.LSTM(units=64, return_sequences=True),\n",
    "    keras.layers.BatchNormalization(),\n",
    "    keras.layers.Dropout(rate=dropout_rate),\n",
    "    \n",
    "    keras.layers.LSTM(units=32, return_sequences=True),\n",
    "    keras.layers.BatchNormalization(),\n",
    "    keras.layers.Dropout(rate=dropout_rate),\n",
    "    \n",
    "    keras.layers.Dense(128),\n",
    "    keras.layers.Activation('relu'),\n",
    "    \n",
    "    keras.layers.GlobalAveragePooling1D(),\n",
    "    keras.layers.Dropout(rate=dropout_rate),\n",
    "    \n",
    "    keras.layers.Dense(num_classes, activation='softmax')\n",
    "])\n",
    "\n",
    "\n",
    "opt = keras.optimizers.Adam(learning_rate=learning_rate)\n",
    "\n",
    "lstm_model.compile(loss='sparse_categorical_crossentropy',\n",
    "              metrics=['accuracy'],\n",
    "              optimizer=opt)\n",
    "\n",
    "lstm_model.summary()"
   ]
  },
  {
   "cell_type": "code",
   "execution_count": 36,
   "metadata": {},
   "outputs": [
    {
     "name": "stdout",
     "output_type": "stream",
     "text": [
      "Epoch 1/50\n",
      "868/868 [==============================] - 20s 19ms/step - loss: 2.3458 - accuracy: 0.3504 - val_loss: 1.9766 - val_accuracy: 0.4458\n",
      "Epoch 2/50\n",
      "868/868 [==============================] - 16s 19ms/step - loss: 1.9418 - accuracy: 0.4537 - val_loss: 1.8518 - val_accuracy: 0.4649\n",
      "Epoch 3/50\n",
      "868/868 [==============================] - 16s 18ms/step - loss: 1.8578 - accuracy: 0.4661 - val_loss: 1.7951 - val_accuracy: 0.4747\n",
      "Epoch 4/50\n",
      "868/868 [==============================] - 16s 18ms/step - loss: 1.8042 - accuracy: 0.4777 - val_loss: 1.7560 - val_accuracy: 0.4803\n",
      "Epoch 5/50\n",
      "868/868 [==============================] - 16s 18ms/step - loss: 1.7631 - accuracy: 0.4852 - val_loss: 1.7230 - val_accuracy: 0.4880\n",
      "Epoch 6/50\n",
      "868/868 [==============================] - 16s 18ms/step - loss: 1.7261 - accuracy: 0.4936 - val_loss: 1.6939 - val_accuracy: 0.4923\n",
      "Epoch 7/50\n",
      "868/868 [==============================] - 16s 18ms/step - loss: 1.6971 - accuracy: 0.5008 - val_loss: 1.6750 - val_accuracy: 0.4965\n",
      "Epoch 8/50\n",
      "868/868 [==============================] - 16s 18ms/step - loss: 1.6713 - accuracy: 0.5074 - val_loss: 1.6539 - val_accuracy: 0.5009\n",
      "Epoch 9/50\n",
      "868/868 [==============================] - 18s 21ms/step - loss: 1.6480 - accuracy: 0.5120 - val_loss: 1.6366 - val_accuracy: 0.5039\n",
      "Epoch 10/50\n",
      "868/868 [==============================] - 16s 19ms/step - loss: 1.6272 - accuracy: 0.5171 - val_loss: 1.6235 - val_accuracy: 0.5060\n",
      "Epoch 11/50\n",
      "868/868 [==============================] - 16s 18ms/step - loss: 1.6079 - accuracy: 0.5222 - val_loss: 1.6144 - val_accuracy: 0.5062\n",
      "Epoch 12/50\n",
      "868/868 [==============================] - 16s 18ms/step - loss: 1.5914 - accuracy: 0.5270 - val_loss: 1.6043 - val_accuracy: 0.5085\n",
      "Epoch 13/50\n",
      "868/868 [==============================] - 16s 18ms/step - loss: 1.5752 - accuracy: 0.5306 - val_loss: 1.5901 - val_accuracy: 0.5125\n",
      "Epoch 14/50\n",
      "868/868 [==============================] - 16s 18ms/step - loss: 1.5621 - accuracy: 0.5333 - val_loss: 1.5830 - val_accuracy: 0.5145\n",
      "Epoch 15/50\n",
      "868/868 [==============================] - 16s 19ms/step - loss: 1.5477 - accuracy: 0.5373 - val_loss: 1.5719 - val_accuracy: 0.5181\n",
      "Epoch 16/50\n",
      "868/868 [==============================] - 16s 18ms/step - loss: 1.5333 - accuracy: 0.5410 - val_loss: 1.5651 - val_accuracy: 0.5204\n",
      "Epoch 17/50\n",
      "868/868 [==============================] - 16s 18ms/step - loss: 1.5211 - accuracy: 0.5444 - val_loss: 1.5537 - val_accuracy: 0.5249\n",
      "Epoch 18/50\n",
      "868/868 [==============================] - 16s 18ms/step - loss: 1.5102 - accuracy: 0.5473 - val_loss: 1.5485 - val_accuracy: 0.5257\n",
      "Epoch 19/50\n",
      "868/868 [==============================] - 16s 18ms/step - loss: 1.4988 - accuracy: 0.5520 - val_loss: 1.5401 - val_accuracy: 0.5296\n",
      "Epoch 20/50\n",
      "868/868 [==============================] - 16s 19ms/step - loss: 1.4886 - accuracy: 0.5540 - val_loss: 1.5344 - val_accuracy: 0.5310\n",
      "Epoch 21/50\n",
      "868/868 [==============================] - 16s 18ms/step - loss: 1.4767 - accuracy: 0.5573 - val_loss: 1.5285 - val_accuracy: 0.5330\n",
      "Epoch 22/50\n",
      "868/868 [==============================] - 16s 19ms/step - loss: 1.4684 - accuracy: 0.5598 - val_loss: 1.5230 - val_accuracy: 0.5362\n",
      "Epoch 23/50\n",
      "868/868 [==============================] - 16s 18ms/step - loss: 1.4594 - accuracy: 0.5631 - val_loss: 1.5159 - val_accuracy: 0.5380\n",
      "Epoch 24/50\n",
      "868/868 [==============================] - 16s 18ms/step - loss: 1.4496 - accuracy: 0.5662 - val_loss: 1.5082 - val_accuracy: 0.5410\n",
      "Epoch 25/50\n",
      "868/868 [==============================] - 16s 18ms/step - loss: 1.4414 - accuracy: 0.5677 - val_loss: 1.5061 - val_accuracy: 0.5422\n",
      "Epoch 26/50\n",
      "868/868 [==============================] - 16s 18ms/step - loss: 1.4319 - accuracy: 0.5719 - val_loss: 1.5010 - val_accuracy: 0.5445\n",
      "Epoch 27/50\n",
      "868/868 [==============================] - 16s 18ms/step - loss: 1.4240 - accuracy: 0.5725 - val_loss: 1.4987 - val_accuracy: 0.5446\n",
      "Epoch 28/50\n",
      "868/868 [==============================] - 16s 18ms/step - loss: 1.4166 - accuracy: 0.5769 - val_loss: 1.4911 - val_accuracy: 0.5490\n",
      "Epoch 29/50\n",
      "868/868 [==============================] - 16s 18ms/step - loss: 1.4094 - accuracy: 0.5773 - val_loss: 1.4898 - val_accuracy: 0.5487\n",
      "Epoch 30/50\n",
      "868/868 [==============================] - 16s 18ms/step - loss: 1.4002 - accuracy: 0.5811 - val_loss: 1.4848 - val_accuracy: 0.5508\n",
      "Epoch 31/50\n",
      "868/868 [==============================] - 16s 18ms/step - loss: 1.3959 - accuracy: 0.5825 - val_loss: 1.4818 - val_accuracy: 0.5526\n",
      "Epoch 32/50\n",
      "868/868 [==============================] - 16s 18ms/step - loss: 1.3870 - accuracy: 0.5840 - val_loss: 1.4760 - val_accuracy: 0.5540\n",
      "Epoch 33/50\n",
      "868/868 [==============================] - 16s 18ms/step - loss: 1.3811 - accuracy: 0.5865 - val_loss: 1.4737 - val_accuracy: 0.5540\n",
      "Epoch 34/50\n",
      "868/868 [==============================] - 16s 18ms/step - loss: 1.3748 - accuracy: 0.5887 - val_loss: 1.4682 - val_accuracy: 0.5566\n",
      "Epoch 35/50\n",
      "868/868 [==============================] - 16s 18ms/step - loss: 1.3671 - accuracy: 0.5903 - val_loss: 1.4655 - val_accuracy: 0.5575\n",
      "Epoch 36/50\n",
      "868/868 [==============================] - 16s 18ms/step - loss: 1.3609 - accuracy: 0.5924 - val_loss: 1.4616 - val_accuracy: 0.5590\n",
      "Epoch 37/50\n",
      "868/868 [==============================] - 16s 18ms/step - loss: 1.3531 - accuracy: 0.5950 - val_loss: 1.4579 - val_accuracy: 0.5600\n",
      "Epoch 38/50\n",
      "868/868 [==============================] - 16s 18ms/step - loss: 1.3481 - accuracy: 0.5959 - val_loss: 1.4580 - val_accuracy: 0.5609\n",
      "Epoch 39/50\n",
      "868/868 [==============================] - 16s 18ms/step - loss: 1.3416 - accuracy: 0.5982 - val_loss: 1.4492 - val_accuracy: 0.5630\n",
      "Epoch 40/50\n",
      "868/868 [==============================] - 16s 18ms/step - loss: 1.3365 - accuracy: 0.5995 - val_loss: 1.4513 - val_accuracy: 0.5630\n",
      "Epoch 41/50\n",
      "868/868 [==============================] - 16s 18ms/step - loss: 1.3300 - accuracy: 0.6020 - val_loss: 1.4461 - val_accuracy: 0.5644\n",
      "Epoch 42/50\n",
      "868/868 [==============================] - 16s 18ms/step - loss: 1.3250 - accuracy: 0.6025 - val_loss: 1.4459 - val_accuracy: 0.5643\n",
      "Epoch 43/50\n",
      "868/868 [==============================] - 16s 18ms/step - loss: 1.3194 - accuracy: 0.6042 - val_loss: 1.4378 - val_accuracy: 0.5676\n",
      "Epoch 44/50\n",
      "868/868 [==============================] - 16s 18ms/step - loss: 1.3147 - accuracy: 0.6057 - val_loss: 1.4386 - val_accuracy: 0.5672\n",
      "Epoch 45/50\n",
      "868/868 [==============================] - 16s 19ms/step - loss: 1.3089 - accuracy: 0.6073 - val_loss: 1.4348 - val_accuracy: 0.5694\n",
      "Epoch 46/50\n",
      "868/868 [==============================] - 16s 18ms/step - loss: 1.3035 - accuracy: 0.6090 - val_loss: 1.4367 - val_accuracy: 0.5681\n",
      "Epoch 47/50\n",
      "868/868 [==============================] - 16s 19ms/step - loss: 1.2987 - accuracy: 0.6101 - val_loss: 1.4347 - val_accuracy: 0.5693\n",
      "Epoch 48/50\n",
      "868/868 [==============================] - 16s 18ms/step - loss: 1.2949 - accuracy: 0.6114 - val_loss: 1.4293 - val_accuracy: 0.5720\n",
      "Epoch 49/50\n",
      "868/868 [==============================] - 16s 18ms/step - loss: 1.2906 - accuracy: 0.6128 - val_loss: 1.4259 - val_accuracy: 0.5717\n",
      "Epoch 50/50\n",
      "868/868 [==============================] - 16s 18ms/step - loss: 1.2858 - accuracy: 0.6135 - val_loss: 1.4241 - val_accuracy: 0.5732\n"
     ]
    }
   ],
   "source": [
    "epochs = 100\n",
    "model_output = 'models/lstm.h5'\n",
    "\n",
    "callbacks = [keras.callbacks.ModelCheckpoint(model_output, save_best_only=True, monitor=\"val_loss\"),\n",
    "             keras.callbacks.EarlyStopping(monitor=\"val_loss\", patience=50, verbose=1),]\n",
    "\n",
    "history = lstm_model.fit(train_ds,\n",
    "                         validation_data=val_ds,\n",
    "                         epochs=epochs,\n",
    "                         callbacks=callbacks,\n",
    "                         verbose=1)"
   ]
  },
  {
   "cell_type": "code",
   "execution_count": 37,
   "metadata": {},
   "outputs": [
    {
     "data": {
      "image/png": "[encoded data removed]",
      "text/plain": [
       "<Figure size 432x288 with 1 Axes>"
      ]
     },
     "metadata": {
      "needs_background": "light"
     },
     "output_type": "display_data"
    },
    {
     "data": {
      "image/png": "[encoded data removed]",
      "text/plain": [
       "<Figure size 432x288 with 1 Axes>"
      ]
     },
     "metadata": {
      "needs_background": "light"
     },
     "output_type": "display_data"
    }
   ],
   "source": [
    "# summarize history for accuracy\n",
    "plt.plot(history.history['accuracy'])\n",
    "plt.plot(history.history['val_accuracy'])\n",
    "plt.title('model accuracy')\n",
    "plt.ylabel('accuracy')\n",
    "plt.xlabel('epoch')\n",
    "plt.legend(['train', 'test'], loc='upper left')\n",
    "plt.show()\n",
    "\n",
    "# summarize history for loss\n",
    "plt.plot(history.history['loss'])\n",
    "plt.plot(history.history['val_loss'])\n",
    "plt.title('model loss')\n",
    "plt.ylabel('loss')\n",
    "plt.xlabel('epoch')\n",
    "plt.legend(['train', 'test'], loc='upper left')\n",
    "plt.show()"
   ]
  },
  {
   "cell_type": "code",
   "execution_count": 40,
   "metadata": {},
   "outputs": [
    {
     "name": "stdout",
     "output_type": "stream",
     "text": [
      "32070/32070 [==============================] - 52s 2ms/step - loss: 1.9308 - accuracy: 0.5702\n"
     ]
    },
    {
     "data": {
      "text/plain": [
       "[1.9307893514633179, 0.5701590180397034]"
      ]
     },
     "execution_count": 40,
     "metadata": {},
     "output_type": "execute_result"
    }
   ],
   "source": [
    "# lstm_model = tf.keras.models.load_model('models/lstm.h5')\n",
    "lstm_model.evaluate(test_ds)"
   ]
  },
  {
   "cell_type": "code",
   "execution_count": 128,
   "metadata": {},
   "outputs": [],
   "source": [
    "preds = lstm_model.predict(test_ds)"
   ]
  },
  {
   "cell_type": "code",
   "execution_count": 129,
   "metadata": {},
   "outputs": [
    {
     "data": {
      "text/plain": [
       "0.6239476145930777"
      ]
     },
     "execution_count": 129,
     "metadata": {},
     "output_type": "execute_result"
    }
   ],
   "source": [
    "# Get aggregated predictions\n",
    "y_pred = get_max_preds(preds)\n",
    "accuracy_score(y_true, y_pred)"
   ]
  },
  {
   "cell_type": "code",
   "execution_count": 126,
   "metadata": {},
   "outputs": [
    {
     "data": {
      "text/plain": [
       "0.6239476145930777"
      ]
     },
     "execution_count": 126,
     "metadata": {},
     "output_type": "execute_result"
    }
   ],
   "source": [
    "# Get aggregated predictions\n",
    "y_pred = get_max_preds(preds)\n",
    "accuracy_score(y_true, y_pred)"
   ]
  },
  {
   "cell_type": "code",
   "execution_count": 130,
   "metadata": {},
   "outputs": [
    {
     "name": "stdout",
     "output_type": "stream",
     "text": [
      "              precision    recall  f1-score   support\n",
      "\n",
      "        NORM      0.700     0.977     0.816       921\n",
      "         IMI      0.539     0.232     0.324       207\n",
      "        STTC      0.388     0.558     0.458       181\n",
      "        NST_      0.000     0.000     0.000        46\n",
      "         LVH      0.472     0.420     0.444       100\n",
      "   LAFB/LPFB      0.519     0.477     0.497        88\n",
      "       IRBBB      0.536     0.160     0.246        94\n",
      "        IVCD      0.000     0.000     0.000        36\n",
      "         AMI      0.570     0.508     0.537       193\n",
      "        _AVB      0.000     0.000     0.000        23\n",
      "        ISCA      0.423     0.186     0.259        59\n",
      "        ISCI      0.500     0.056     0.100        18\n",
      "       CRBBB      0.707     0.674     0.690        43\n",
      "       CLBBB      0.887     0.887     0.887        53\n",
      "     RAO/RAE      0.000     0.000     0.000         4\n",
      "         RVH      0.000     0.000     0.000         3\n",
      "        ISC_      0.000     0.000     0.000        47\n",
      "       ILBBB      0.000     0.000     0.000         4\n",
      "         WPW      0.000     0.000     0.000         8\n",
      "     LAO/LAE      0.000     0.000     0.000         4\n",
      "         LMI      0.000     0.000     0.000         4\n",
      "         PMI      0.000     0.000     0.000         2\n",
      "\n",
      "    accuracy                          0.624      2138\n",
      "   macro avg      0.284     0.233     0.239      2138\n",
      "weighted avg      0.557     0.624     0.566      2138\n",
      "\n"
     ]
    }
   ],
   "source": [
    "print(classification_report(y_true, y_pred, digits=3, target_names=label_list, zero_division=0))"
   ]
  },
  {
   "cell_type": "markdown",
   "metadata": {},
   "source": [
    "# Model 5: Ensemble"
   ]
  },
  {
   "cell_type": "code",
   "execution_count": 145,
   "metadata": {},
   "outputs": [],
   "source": [
    "resnet_model = tf.keras.models.load_model('models/resnet.h5')\n",
    "inception_model = tf.keras.models.load_model('models/inception.h5')\n",
    "lstm_model = tf.keras.models.load_model('models/lstm.h5')"
   ]
  },
  {
   "cell_type": "code",
   "execution_count": 150,
   "metadata": {},
   "outputs": [
    {
     "name": "stdout",
     "output_type": "stream",
     "text": [
      "Model: \"model_6\"\n",
      "__________________________________________________________________________________________________\n",
      " Layer (type)                   Output Shape         Param #     Connected to                     \n",
      "==================================================================================================\n",
      " input_7 (InputLayer)           [(None, 12, 250)]    0           []                               \n",
      "                                                                                                  \n",
      " model_3 (Functional)           (None, 23)           652951      ['input_7[0][0]']                \n",
      "                                                                                                  \n",
      " model (Functional)             (None, 23)           161879      ['input_7[0][0]']                \n",
      "                                                                                                  \n",
      " sequential_11 (Sequential)     (None, 23)           263959      ['input_7[0][0]']                \n",
      "                                                                                                  \n",
      " average_2 (Average)            (None, 23)           0           ['model_3[2][0]',                \n",
      "                                                                  'model[2][0]',                  \n",
      "                                                                  'sequential_11[2][0]']          \n",
      "                                                                                                  \n",
      "==================================================================================================\n",
      "Total params: 1,078,789\n",
      "Trainable params: 1,075,781\n",
      "Non-trainable params: 3,008\n",
      "__________________________________________________________________________________________________\n"
     ]
    }
   ],
   "source": [
    "models = [resnet_model, inception_model,lstm_model]\n",
    "model_input = tf.keras.Input(shape=input_shape)\n",
    "model_outputs = [model(model_input) for model in models]\n",
    "ensemble_output = tf.keras.layers.Average()(model_outputs)\n",
    "ensemble_model = tf.keras.Model(inputs=model_input, outputs=ensemble_output)\n",
    "\n",
    "opt = keras.optimizers.Adam(learning_rate=learning_rate)\n",
    "\n",
    "ensemble_model.compile(loss='sparse_categorical_crossentropy',\n",
    "                          metrics=['accuracy'],\n",
    "                          optimizer=opt)\n",
    "\n",
    "ensemble_model.summary()"
   ]
  },
  {
   "cell_type": "code",
   "execution_count": 151,
   "metadata": {},
   "outputs": [
    {
     "name": "stdout",
     "output_type": "stream",
     "text": [
      "32070/32070 [==============================] - 167s 5ms/step - loss: 1.3145 - accuracy: 0.5991\n"
     ]
    },
    {
     "data": {
      "text/plain": [
       "[1.314463496208191, 0.5990645289421082]"
      ]
     },
     "execution_count": 151,
     "metadata": {},
     "output_type": "execute_result"
    }
   ],
   "source": [
    "ensemble_model.evaluate(test_ds)"
   ]
  },
  {
   "cell_type": "code",
   "execution_count": 152,
   "metadata": {},
   "outputs": [],
   "source": [
    "preds = resnet_model.predict(test_ds)"
   ]
  },
  {
   "cell_type": "code",
   "execution_count": 153,
   "metadata": {},
   "outputs": [
    {
     "data": {
      "text/plain": [
       "0.5916744621141253"
      ]
     },
     "execution_count": 153,
     "metadata": {},
     "output_type": "execute_result"
    }
   ],
   "source": [
    "# Get aggregated predictions\n",
    "y_pred = get_max_preds(preds)\n",
    "accuracy_score(y_true, y_pred)"
   ]
  },
  {
   "cell_type": "code",
   "execution_count": 154,
   "metadata": {},
   "outputs": [
    {
     "name": "stdout",
     "output_type": "stream",
     "text": [
      "              precision    recall  f1-score   support\n",
      "\n",
      "        NORM      0.706     0.946     0.809       921\n",
      "         IMI      0.329     0.464     0.385       207\n",
      "        STTC      0.385     0.343     0.363       181\n",
      "        NST_      0.000     0.000     0.000        46\n",
      "         LVH      0.346     0.560     0.427       100\n",
      "   LAFB/LPFB      0.528     0.318     0.397        88\n",
      "       IRBBB      0.524     0.117     0.191        94\n",
      "        IVCD      0.000     0.000     0.000        36\n",
      "         AMI      0.785     0.264     0.395       193\n",
      "        _AVB      0.000     0.000     0.000        23\n",
      "        ISCA      0.268     0.186     0.220        59\n",
      "        ISCI      0.000     0.000     0.000        18\n",
      "       CRBBB      0.593     0.744     0.660        43\n",
      "       CLBBB      0.902     0.868     0.885        53\n",
      "     RAO/RAE      0.000     0.000     0.000         4\n",
      "         RVH      0.000     0.000     0.000         3\n",
      "        ISC_      0.000     0.000     0.000        47\n",
      "       ILBBB      0.000     0.000     0.000         4\n",
      "         WPW      0.200     0.125     0.154         8\n",
      "     LAO/LAE      0.000     0.000     0.000         4\n",
      "         LMI      0.000     0.000     0.000         4\n",
      "         PMI      0.000     0.000     0.000         2\n",
      "\n",
      "    accuracy                          0.592      2138\n",
      "   macro avg      0.253     0.224     0.222      2138\n",
      "weighted avg      0.543     0.592     0.539      2138\n",
      "\n"
     ]
    }
   ],
   "source": [
    "print(classification_report(y_true, y_pred, digits=3, target_names=label_list, zero_division=0))"
   ]
  }
 ],
 "metadata": {
  "kernelspec": {
   "display_name": "Tensorflow 2.8.0/Keras Py3.9",
   "language": "python",
   "name": "tensorflow-2.8.0"
  },
  "language_info": {
   "codemirror_mode": {
    "name": "ipython",
    "version": 3
   },
   "file_extension": ".py",
   "mimetype": "text/x-python",
   "name": "python",
   "nbconvert_exporter": "python",
   "pygments_lexer": "ipython3",
   "version": "3.9.10"
  }
 },
 "nbformat": 4,
 "nbformat_minor": 5
}

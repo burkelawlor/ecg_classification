{
 "cells": [
  {
   "cell_type": "code",
   "execution_count": 2,
   "metadata": {},
   "outputs": [
    {
     "name": "stdout",
     "output_type": "stream",
     "text": [
      "Num GPUs Available:  2\n"
     ]
    },
    {
     "name": "stderr",
     "output_type": "stream",
     "text": [
      "2022-05-04 21:55:55.265757: I tensorflow/core/platform/cpu_feature_guard.cc:151] This TensorFlow binary is optimized with oneAPI Deep Neural Network Library (oneDNN) to use the following CPU instructions in performance-critical operations:  AVX2 AVX512F FMA\n",
      "To enable them in other operations, rebuild TensorFlow with the appropriate compiler flags.\n"
     ]
    },
    {
     "name": "stdout",
     "output_type": "stream",
     "text": [
      "Device mapping:\n",
      "/job:localhost/replica:0/task:0/device:GPU:0 -> device: 0, name: GeForce RTX 2080 Ti, pci bus id: 0000:62:00.0, compute capability: 7.5\n",
      "/job:localhost/replica:0/task:0/device:GPU:1 -> device: 1, name: GeForce RTX 2080 Ti, pci bus id: 0000:63:00.0, compute capability: 7.5\n",
      "\n"
     ]
    },
    {
     "name": "stderr",
     "output_type": "stream",
     "text": [
      "2022-05-04 21:55:57.836552: I tensorflow/core/common_runtime/gpu/gpu_device.cc:1525] Created device /job:localhost/replica:0/task:0/device:GPU:0 with 161 MB memory:  -> device: 0, name: GeForce RTX 2080 Ti, pci bus id: 0000:62:00.0, compute capability: 7.5\n",
      "2022-05-04 21:55:57.841708: I tensorflow/core/common_runtime/gpu/gpu_device.cc:1525] Created device /job:localhost/replica:0/task:0/device:GPU:1 with 9329 MB memory:  -> device: 1, name: GeForce RTX 2080 Ti, pci bus id: 0000:63:00.0, compute capability: 7.5\n"
     ]
    }
   ],
   "source": [
    "import pandas as pd\n",
    "import numpy as np\n",
    "import os\n",
    "import csv\n",
    "import pickle\n",
    "from scipy import signal\n",
    "\n",
    "import tensorflow as tf\n",
    "from tensorflow import keras\n",
    "\n",
    "print(\"Num GPUs Available: \", len(tf.config.list_physical_devices('GPU')))\n",
    "sess = tf.compat.v1.Session(config=tf.compat.v1.ConfigProto(log_device_placement=True))"
   ]
  },
  {
   "cell_type": "markdown",
   "metadata": {
    "tags": []
   },
   "source": [
    "# Test Train Split"
   ]
  },
  {
   "cell_type": "code",
   "execution_count": 3,
   "metadata": {},
   "outputs": [],
   "source": [
    "path = '/project/GutIntelligenceLab/bwl3xy/ecg'\n",
    "os.chdir(path)"
   ]
  },
  {
   "cell_type": "code",
   "execution_count": 4,
   "metadata": {},
   "outputs": [],
   "source": [
    "# Load data from cleaned pickles\n",
    "database = pd.read_pickle('data/database.pkl')\n",
    "ecg_data = pd.read_pickle('data/ecg_data.pkl')"
   ]
  },
  {
   "cell_type": "code",
   "execution_count": 5,
   "metadata": {
    "jupyter": {
     "source_hidden": true
    }
   },
   "outputs": [
    {
     "data": {
      "text/plain": [
       "{'NORM': 0, 'MI': 1, 'STTC': 2, 'HYP': 3, 'CD': 4}"
      ]
     },
     "execution_count": 5,
     "metadata": {},
     "output_type": "execute_result"
    }
   ],
   "source": [
    "mapping = dict(enumerate(database['subclass'].unique()))\n",
    "mapping = {v: k for k, v in mapping.items()}\n",
    "database['subclass'] = database['subclass'].replace(mapping)\n",
    "mapping"
   ]
  },
  {
   "cell_type": "code",
   "execution_count": 7,
   "metadata": {},
   "outputs": [],
   "source": [
    "X = np.array(ecg_data)\n",
    "Y = np.array(database['subclass'])"
   ]
  },
  {
   "cell_type": "code",
   "execution_count": 8,
   "metadata": {},
   "outputs": [],
   "source": [
    "# Split data from folds provided by ptb xl\n",
    "val_fold  = [8,9]\n",
    "test_fold = [10] \n",
    "\n",
    "train_idx = np.where(np.isin(database['strat_fold'], val_fold+test_fold, invert=True))\n",
    "val_idx = np.where(np.isin(database['strat_fold'], val_fold))\n",
    "test_idx = np.where(np.isin(database['strat_fold'], test_fold))\n",
    "\n",
    "X_train = list(X[train_idx])\n",
    "X_val   = list(X[val_idx])\n",
    "X_test  = list(X[test_idx])\n",
    "Y_train = list(Y[train_idx])\n",
    "Y_val   = list(Y[val_idx])\n",
    "Y_test  = list(Y[test_idx])"
   ]
  },
  {
   "cell_type": "markdown",
   "metadata": {
    "tags": []
   },
   "source": [
    "## Sliding Window"
   ]
  },
  {
   "cell_type": "code",
   "execution_count": 9,
   "metadata": {
    "tags": []
   },
   "outputs": [],
   "source": [
    "def sliding_window(array, label, sequence_length=250, sequence_stride=50):\n",
    "    '''\n",
    "    Creates a tuple of arrays of length sequence_length and stride sequence_stride. \n",
    "    \n",
    "    INPUTS:\n",
    "        array: numpy array of 1d or 2d sequential data\n",
    "        sequence length: length of resulting sequences\n",
    "        sequence stride: stride between initial index of sequences\n",
    "        \n",
    "    OUTPUTS:\n",
    "        tuple of arrays\n",
    "    '''\n",
    "    n_sequences = int((array.shape[1]-sequence_length)/sequence_stride)\n",
    "    labels = [label]*n_sequences\n",
    "    \n",
    "    start_idx = 0\n",
    "    seqs = []\n",
    "    for i in range(n_sequences):\n",
    "        seq = array[:,start_idx:start_idx+sequence_length]\n",
    "        start_idx += sequence_stride\n",
    "        seqs.append(seq)\n",
    "    \n",
    "    return seqs, labels\n",
    "\n",
    "def apply_sliding_window(X, Y, sequence_length=250, sequence_stride=50):\n",
    "    '''\n",
    "    Applies sliding window to a list of arrays\n",
    "    '''\n",
    "    X_windows = []\n",
    "    Y_windows = []\n",
    "    for i in range(len(X)):\n",
    "        seqs, labels = sliding_window(X[i], Y[i], sequence_length, sequence_stride)\n",
    "        X_windows += seqs \n",
    "        Y_windows += labels\n",
    "    return X_windows, Y_windows"
   ]
  },
  {
   "cell_type": "code",
   "execution_count": 10,
   "metadata": {},
   "outputs": [],
   "source": [
    "sequence_length = 250\n",
    "sequence_stride = 50\n",
    "\n",
    "X_train_windows, Y_train_windows = apply_sliding_window(X_train, Y_train, sequence_length, sequence_stride)\n",
    "X_val_windows, Y_val_windows = apply_sliding_window(X_val, Y_val, sequence_length, sequence_stride)\n",
    "X_test_windows, Y_test_windows = apply_sliding_window(X_test, Y_test, sequence_length, sequence_stride)"
   ]
  },
  {
   "cell_type": "markdown",
   "metadata": {},
   "source": [
    "## Wite to TFRecord"
   ]
  },
  {
   "cell_type": "code",
   "execution_count": 17,
   "metadata": {},
   "outputs": [],
   "source": [
    "# Function to serialize ECG data\n",
    "def to_TFRecord(file_path, data):\n",
    "    with tf.io.TFRecordWriter(file_path) as writer:\n",
    "        for i in range(len(data)):\n",
    "            serialized_ecg = tf.io.serialize_tensor(data[i])\n",
    "            writer.write(serialized_ecg.numpy())"
   ]
  },
  {
   "cell_type": "code",
   "execution_count": 18,
   "metadata": {},
   "outputs": [
    {
     "name": "stderr",
     "output_type": "stream",
     "text": [
      "2022-05-04 21:37:03.067872: I tensorflow/core/common_runtime/gpu/gpu_device.cc:1525] Created device /job:localhost/replica:0/task:0/device:GPU:0 with 9644 MB memory:  -> device: 0, name: GeForce RTX 2080 Ti, pci bus id: 0000:62:00.0, compute capability: 7.5\n",
      "2022-05-04 21:37:03.069486: I tensorflow/core/common_runtime/gpu/gpu_device.cc:1525] Created device /job:localhost/replica:0/task:0/device:GPU:1 with 9644 MB memory:  -> device: 1, name: GeForce RTX 2080 Ti, pci bus id: 0000:63:00.0, compute capability: 7.5\n"
     ]
    }
   ],
   "source": [
    "# to_TFRecord('data/X_train.tfrecord', X_train_windows)\n",
    "# to_TFRecord('data/X_val.tfrecord', X_val_windows)\n",
    "# to_TFRecord('data/X_test.tfrecord', X_test_windows)\n",
    "\n",
    "to_TFRecord('data/Y_train.tfrecord', Y_train_windows)\n",
    "to_TFRecord('data/Y_val.tfrecord', Y_val_windows)\n",
    "to_TFRecord('data/Y_test.tfrecord', Y_test_windows)"
   ]
  },
  {
   "cell_type": "markdown",
   "metadata": {},
   "source": [
    "# Spectrograms to TFRecords"
   ]
  },
  {
   "cell_type": "code",
   "execution_count": 28,
   "metadata": {},
   "outputs": [],
   "source": [
    "def ecg_to_spec(ecg, nperseg=250, noverlap=50):\n",
    "    n_leads = ecg.shape[0]\n",
    "    spec = []\n",
    "    for i in range(n_leads):\n",
    "        f, t, Sxx = signal.spectrogram(ecg[i,:], nperseg=nperseg, noverlap=noverlap)\n",
    "        spec.append(Sxx)\n",
    "    return np.array(spec)\n",
    "\n",
    "def apply_ecg_to_spec(ecg_array, nperseg=50, noverlap=25):\n",
    "    spec_array = []\n",
    "    for ecg in ecg_array:\n",
    "        spec_array.append(ecg_to_spec(ecg, nperseg, noverlap))\n",
    "    return spec_array"
   ]
  },
  {
   "cell_type": "code",
   "execution_count": 30,
   "metadata": {},
   "outputs": [],
   "source": [
    "# X_train_spec = apply_ecg_to_spec(X_train)\n",
    "# X_val_spec = apply_ecg_to_spec(X_val)\n",
    "# X_test_spec = apply_ecg_to_spec(X_test)\n",
    "\n",
    "# X_train_spec_windows = apply_ecg_to_spec(X_train_windows, nperseg=50, noverlap=25)\n",
    "# X_val_spec_windows = apply_ecg_to_spec(X_val_windows, nperseg=50, noverlap=25)\n",
    "# X_test_spec_windows = apply_ecg_to_spec(X_test_windows, nperseg=50, noverlap=25)"
   ]
  },
  {
   "cell_type": "code",
   "execution_count": 32,
   "metadata": {},
   "outputs": [
    {
     "name": "stdout",
     "output_type": "stream",
     "text": [
      "Raw signal: (12, 1000)\n",
      "Raw spectrogram: (12, 26, 39)\n",
      "\n",
      "\n",
      "Window signal: (12, 250)\n",
      "Window spectrogram: (12, 26, 9)\n"
     ]
    }
   ],
   "source": [
    "print(\"Raw signal:\", X_train[0].shape)\n",
    "print(\"Raw spectrogram:\", X_train_spec[0].shape)\n",
    "print('\\n')\n",
    "print(\"Window signal:\", X_train_windows[0].shape)\n",
    "print(\"Window spectrogram:\", X_train_spec_windows[0].shape)"
   ]
  },
  {
   "cell_type": "code",
   "execution_count": 50,
   "metadata": {},
   "outputs": [],
   "source": [
    "def to_multiple_TFrecords(data, name_prefix, n_parts=10):\n",
    "    data_dir = 'data'\n",
    "    path_format = os.path.join(data_dir, \"{}_{:02d}.tfrecord\")\n",
    "\n",
    "    filepaths = []\n",
    "    m = len(data)\n",
    "    \n",
    "    for file_idx, row_indices in enumerate(np.array_split(np.arange(m), n_parts)):\n",
    "        partial_tfr = path_format.format(name_prefix, file_idx)\n",
    "        filepaths.append(partial_tfr)\n",
    "        to_TFRecord(partial_tfr, [data[i] for i in row_indices])\n",
    "\n",
    "    return filepaths"
   ]
  },
  {
   "cell_type": "code",
   "execution_count": 1,
   "metadata": {},
   "outputs": [],
   "source": [
    "# to_multiple_TFrecords(X_train_spec, 'X_train_spec', n_parts=10)\n",
    "# to_TFRecord('data/X_val_spec.tfrecord', X_val_spec)\n",
    "# to_TFRecord('data/X_test_spec.tfrecord', X_test_spec)\n",
    "\n",
    "# to_TFRecord('data/X_train_window_spec.tfrecord', X_train_spec_windows)\n",
    "# to_TFRecord('data/X_val_window_spec.tfrecord', X_val_spec_windows)\n",
    "# to_TFRecord('data/X_test_window_spec.tfrecord', X_test_spec_windows)"
   ]
  }
 ],
 "metadata": {
  "kernelspec": {
   "display_name": "Tensorflow 2.8.0/Keras Py3.9",
   "language": "python",
   "name": "tensorflow-2.8.0"
  },
  "language_info": {
   "codemirror_mode": {
    "name": "ipython",
    "version": 3
   },
   "file_extension": ".py",
   "mimetype": "text/x-python",
   "name": "python",
   "nbconvert_exporter": "python",
   "pygments_lexer": "ipython3",
   "version": "3.9.10"
  }
 },
 "nbformat": 4,
 "nbformat_minor": 5
}
